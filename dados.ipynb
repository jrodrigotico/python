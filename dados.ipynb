{
 "cells": [
  {
   "cell_type": "code",
   "execution_count": 5,
   "metadata": {},
   "outputs": [],
   "source": [
    "import pandas as pd\n",
    "import os"
   ]
  },
  {
   "cell_type": "code",
   "execution_count": 8,
   "metadata": {},
   "outputs": [
    {
     "name": "stdout",
     "output_type": "stream",
     "text": [
      "C:/Users/Computadores Gamer/OneDrive/Área de Trabalho/dados gradilene/dados\n"
     ]
    }
   ],
   "source": [
    "diretorio = r'C:\\Users\\Computadores Gamer\\OneDrive\\Área de Trabalho\\dados gradilene\\dados'\n",
    "diretorio = diretorio.replace('\\\\', '/')\n",
    "print(diretorio)\n",
    "\n"
   ]
  },
  {
   "cell_type": "code",
   "execution_count": 9,
   "metadata": {},
   "outputs": [
    {
     "data": {
      "text/plain": [
       "'C:\\\\Users\\\\Computadores Gamer\\\\OneDrive\\\\Área de Trabalho\\\\dados gradilene\\\\dados'"
      ]
     },
     "execution_count": 9,
     "metadata": {},
     "output_type": "execute_result"
    }
   ],
   "source": [
    "\n",
    "os.chdir(diretorio)\n",
    "os.getcwd()"
   ]
  },
  {
   "cell_type": "code",
   "execution_count": 10,
   "metadata": {},
   "outputs": [],
   "source": [
    "# largura do txt\n",
    "larguras = [2,4,1,9,2,1,2,2,2,4,2,7,3,\n",
    "            2,1,1,1,1,1,1,1,1,1,1,1,1,\n",
    "            1,1,2,2,7,9,6,14,14,14,14,\n",
    "            14,14,14,14,14,14,14,14,\n",
    "            14,14,14,14,14,14,14,14,\n",
    "            14,14,14,14,14,14,14,14,\n",
    "            14,14,15,10,15,1]"
   ]
  },
  {
   "cell_type": "code",
   "execution_count": 11,
   "metadata": {},
   "outputs": [],
   "source": [
    "# nome das colunas\n",
    "colunas = [\"UF\", \"ESTRATO_POF\", \"TIPO_SITUACAO_REG\",\n",
    "           \"COD_UPA\", \"NUM_DOM\", \"NUM_UC\",\n",
    "           \"COD_INFOR,MANTE\", \"QUADRO\", \"SEQ\",\n",
    "           \"V9005\", \"V9007\", \"V9001\", \"V9015\",\n",
    "           \"V9016\", \"V9017\", \"V9018\", \"V9019\",\n",
    "           \"V9020\", \"V9021\", \"V9022\", \"V9023\",\n",
    "           \"V9024\", \"V9025\", \"V9026\", \"V9027\",\n",
    "           \"V9028\", \"V9029\", \"V9030\",\n",
    "           \"COD_UNIDADE_MEDIDA_FINAL\",\n",
    "           \"COD_PREPARACAO_FINAL\", \"GRAMATURA1\",\n",
    "           \"QTD\", \"COD_TBCA\", \"ENERGIA_KCAL\",\n",
    "           \"ENERGIA_KJ\", \"PTN\", \"CHOTOT\", \"FIBRA\",\n",
    "           \"LIP\", \"COLEST\", \"AGSAT\", \"AGMONO\",\n",
    "           \"AGPOLI\", \"AGTRANS\", \"CALCIO\", \"FERRO\",\n",
    "           \"SODIO\", \"MAGNESIO\", \"FOSFORO\", \"POTASSIO\",\n",
    "           \"COBRE\", \"ZINCO\", \"VITA_RAE\", \"TIAMINA\",\n",
    "           \"RIBOFLAVINA\", \"NIACINA\", \"PIRIDOXAMINA\",\n",
    "           \"COBALAMINA\", \"VITD\", \"VITE\", \"VITC\",\n",
    "           \"FOLATO\", \"PESO\", \"PESO_FINAL\",\n",
    "           \"RENDA_TOTAL\", \"DIA_SEMANA\", \"DIA_ATIPICO\"]"
   ]
  },
  {
   "cell_type": "code",
   "execution_count": 13,
   "metadata": {},
   "outputs": [],
   "source": [
    "CONSUMO_ALIMENTAR = pd.read_fwf(\n",
    "    os.path.join(diretorio, \"CONSUMO_ALIMENTAR.txt\"),\n",
    "    widths=larguras,\n",
    "    na_values=[\" \"],\n",
    "    names=colunas,\n",
    "    decimal=\".\"\n",
    ")"
   ]
  }
 ],
 "metadata": {
  "kernelspec": {
   "display_name": "Python 3",
   "language": "python",
   "name": "python3"
  },
  "language_info": {
   "codemirror_mode": {
    "name": "ipython",
    "version": 3
   },
   "file_extension": ".py",
   "mimetype": "text/x-python",
   "name": "python",
   "nbconvert_exporter": "python",
   "pygments_lexer": "ipython3",
   "version": "3.11.4"
  }
 },
 "nbformat": 4,
 "nbformat_minor": 2
}
