{
 "cells": [
  {
   "cell_type": "code",
   "execution_count": 2,
   "metadata": {},
   "outputs": [],
   "source": [
    "# pacotes\n",
    "import pandas as pd\n",
    "import numpy as np\n",
    "import os\n",
    "import openpyxl\n",
    "from openpyxl import load_workbook\n",
    "import seaborn as sn\n",
    "from itertools import permutations, product\n",
    "import matplotlib.pyplot as mplt\n",
    "from tabulate import tabulate\n",
    "from scipy.stats import chi2_contingency"
   ]
  },
  {
   "cell_type": "code",
   "execution_count": 3,
   "metadata": {},
   "outputs": [
    {
     "data": {
      "text/plain": [
       "'C:\\\\Users\\\\Computadores Gamer\\\\OneDrive\\\\Área de Trabalho\\\\dados gradilene\\\\dados'"
      ]
     },
     "execution_count": 3,
     "metadata": {},
     "output_type": "execute_result"
    }
   ],
   "source": [
    "# setar diretorio dos cadernos\n",
    "diretorio = r'C:\\Users\\Computadores Gamer\\OneDrive\\Área de Trabalho\\dados gradilene\\dados'\n",
    "diretorio = diretorio.replace('\\\\', '/')\n",
    "\n",
    "os.chdir(diretorio)\n",
    "os.getcwd()"
   ]
  },
  {
   "cell_type": "code",
   "execution_count": 4,
   "metadata": {},
   "outputs": [
    {
     "name": "stdout",
     "output_type": "stream",
     "text": [
      "   UF  ESTRATO_POF  TIPO_SITUACAO_REG    COD_UPA  NUM_DOM  V0201  V0202  \\\n",
      "0  11         1103                  1  110005400        1      1      1   \n",
      "1  11         1103                  1  110005400        2      1      1   \n",
      "2  11         1103                  1  110005400        4      1      4   \n",
      "3  11         1103                  1  110005400        5      1      4   \n",
      "4  11         1103                  1  110005400        6      1      1   \n",
      "\n",
      "   V0203  V0204  V0205  ...  V02162  V02163  V02164  V0217  V0219  V0220  \\\n",
      "0      1      1     10  ...       2       1       2      1    NaN      1   \n",
      "1      1      1      5  ...       2       1       2      3    1.0      1   \n",
      "2      1      1      5  ...       2       2       2      1    NaN      1   \n",
      "3      1      1      7  ...       2       2       2      1    NaN      2   \n",
      "4      1      1      6  ...       2       2       2      1    NaN      1   \n",
      "\n",
      "   V0221        PESO  PESO_FINAL  V6199  \n",
      "0      1  272.806669  372.984516      1  \n",
      "1      1  272.806669  372.984516      1  \n",
      "2      1  272.806669  372.984516      1  \n",
      "3      1  272.806669  372.984516      1  \n",
      "4      1  272.806669  372.984516      1  \n",
      "\n",
      "[5 rows x 38 columns]\n"
     ]
    }
   ],
   "source": [
    "#### DOMICILIO\n",
    "# largura do txt\n",
    "larguras = [2,4,1,9,2,1,1,1,1,2,1,1,1,1,1,1,1,1,1,2,\n",
    "            1,1,1,1,1,1,1,1,1,1,1,1,1,1,1,14,14,1]\n",
    "\n",
    "# nome das colunas\n",
    "colunas = [\"UF\", \"ESTRATO_POF\", \"TIPO_SITUACAO_REG\",\n",
    "            \"COD_UPA\", \"NUM_DOM\", \"V0201\", \"V0202\",\n",
    "            \"V0203\", \"V0204\", \"V0205\", \"V0206\", \"V0207\",\n",
    "            \"V0208\", \"V0209\", \"V02101\", \"V02102\",\n",
    "            \"V02103\", \"V02104\", \"V02105\", \"V02111\",\n",
    "            \"V02112\", \"V02113\", \"V0212\", \"V0213\",\n",
    "            \"V02141\", \"V02142\", \"V0215\", \"V02161\",\n",
    "            \"V02162\", \"V02163\", \"V02164\", \"V0217\",\n",
    "            \"V0219\", \"V0220\", \"V0221\", \"PESO\",\n",
    "            \"PESO_FINAL\", \"V6199\"]\n",
    "\n",
    "# leitura dos dados\n",
    "DOMICILIO = pd.read_fwf(\n",
    "    os.path.join(diretorio, \"DOMICILIO.txt\"),\n",
    "    widths=larguras,\n",
    "    na_values=[\" \"],\n",
    "    names=colunas,\n",
    "    decimal=\".\"\n",
    ")\n",
    "\n",
    "print(DOMICILIO.head())\n",
    "\n"
   ]
  },
  {
   "cell_type": "code",
   "execution_count": 5,
   "metadata": {},
   "outputs": [
    {
     "name": "stdout",
     "output_type": "stream",
     "text": [
      "   UF  ESTRATO_POF  TIPO_SITUACAO_REG    COD_UPA  NUM_DOM  NUM_UC  \\\n",
      "0  11         1103                  1  110005400        1       1   \n",
      "1  11         1103                  1  110005400        2       1   \n",
      "2  11         1103                  1  110005400        4       1   \n",
      "3  11         1103                  1  110005400        5       1   \n",
      "4  11         1103                  1  110005400        6       1   \n",
      "\n",
      "   COD_INFORMANTE  V6101  V6102  V6103  ...  V6115  V6116  V6117  V6118  \\\n",
      "0               1      5   4000   1500  ...    NaN    NaN    NaN    NaN   \n",
      "1               1      3   3500   1000  ...    NaN    NaN    NaN    NaN   \n",
      "2               1      5   5000   1200  ...    NaN    NaN    NaN    NaN   \n",
      "3               1      3   1800    800  ...    NaN    NaN    NaN    NaN   \n",
      "4               1      5   6000   1500  ...    NaN    NaN    NaN    NaN   \n",
      "\n",
      "   V6119  V6120  V6121        PESO  PESO_FINAL  RENDA_TOTAL  \n",
      "0    NaN    NaN    NaN  272.806669  372.984516     11254.75  \n",
      "1    NaN    NaN    NaN  272.806669  372.984516     10828.07  \n",
      "2    NaN    NaN    NaN  272.806669  372.984516      4769.13  \n",
      "3    NaN    NaN    NaN  272.806669  372.984516      2313.61  \n",
      "4    NaN    NaN    NaN  272.806669  372.984516      6596.90  \n",
      "\n",
      "[5 rows x 55 columns]\n"
     ]
    }
   ],
   "source": [
    "##### CONDICOES_VIDA\n",
    "# largura do txt\n",
    "larguras = [2,4,1,9,2,1,2,1,6,5,1,1,1,1,1,\n",
    "            1,1,1,1,1,1,1,1,1,1,1,1,1,1,1,\n",
    "            1,1,1,1,1,1,1,1,1,1,1,1,1,1,1,\n",
    "            1,1,1,1,1,1,1,14,14,10]\n",
    "\n",
    "# nome das colunas\n",
    "colunas = [\"UF\", \"ESTRATO_POF\", \"TIPO_SITUACAO_REG\",\n",
    "            \"COD_UPA\", \"NUM_DOM\", \"NUM_UC\", \"COD_INFORMANTE\",\n",
    "            \"V6101\", \"V6102\", \"V6103\", \"V61041\", \"V61042\",\n",
    "            \"V61043\", \"V61044\", \"V61045\", \"V61046\",\n",
    "            \"V61051\", \"V61052\", \"V61053\", \"V61054\",\n",
    "            \"V61055\", \"V61056\", \"V61057\", \"V61058\",\n",
    "            \"V61061\", \"V61062\", \"V61063\", \"V61064\",\n",
    "            \"V61065\", \"V61066\", \"V61067\", \"V61068\",\n",
    "            \"V61069\", \"V610610\", \"V610611\", \"V61071\",\n",
    "            \"V61072\", \"V61073\", \"V6108\", \"V6109\",\n",
    "            \"V6110\", \"V6111\", \"V6112\", \"V6113\", \"V6114\",\n",
    "            \"V6115\", \"V6116\", \"V6117\", \"V6118\", \"V6119\",\n",
    "            \"V6120\", \"V6121\", \"PESO\", \"PESO_FINAL\",\n",
    "            \"RENDA_TOTAL\"]\n",
    "\n",
    "# leitura dos dados\n",
    "CONDICOES_VIDA = pd.read_fwf(\n",
    "    os.path.join(diretorio, \"CONDICOES_VIDA.txt\"),\n",
    "    widths=larguras,\n",
    "    na_values=[\" \"],\n",
    "    names=colunas,\n",
    "    decimal=\".\"\n",
    ")\n",
    "\n",
    "print(CONDICOES_VIDA.head())\n"
   ]
  },
  {
   "cell_type": "code",
   "execution_count": 6,
   "metadata": {},
   "outputs": [
    {
     "name": "stdout",
     "output_type": "stream",
     "text": [
      "   UF  ESTRATO_POF  TIPO_SITUACAO_REG    COD_UPA  NUM_DOM  NUM_UC  \\\n",
      "0  11         1103                  1  110005400        1       1   \n",
      "1  11         1103                  1  110005400        1       1   \n",
      "2  11         1103                  1  110005400        1       1   \n",
      "3  11         1103                  1  110005400        1       1   \n",
      "4  11         1103                  1  110005400        2       1   \n",
      "\n",
      "   COD_INFORMANTE  CONTAGEM_PONDERADA  FUNCAO_PERDA  V201  ...  C2  C3  C4  \\\n",
      "0               1            0.177778      0.113229     0  ...   1   2   7   \n",
      "1               2            0.177778      0.113229     0  ...   1   2   7   \n",
      "2               3            0.177778      0.113229     0  ...   1   2   7   \n",
      "3               4            0.177778      0.113229     0  ...   1   2   7   \n",
      "4               1            0.300000      0.203610     0  ...   1   2   5   \n",
      "\n",
      "   C5  C6  C7  RENDA_DISP_PC  RENDA_DISP_PC_SS        PESO  PESO_FINAL  \n",
      "0   5   3   9    2488.984375       2383.936458  272.806669  372.984516  \n",
      "1   5   3   9    2488.984375       2383.936458  272.806669  372.984516  \n",
      "2   5   3   9    2488.984375       2383.936458  272.806669  372.984516  \n",
      "3   5   3   9    2488.984375       2383.936458  272.806669  372.984516  \n",
      "4   4   4  10    3474.625556       3373.902222  272.806669  372.984516  \n",
      "\n",
      "[5 rows x 72 columns]\n"
     ]
    }
   ],
   "source": [
    "##### MORADOR_QUALI_VIDA\n",
    "# largura do txt\n",
    "larguras = [2,4,1,9,2,1,2,20,20,1,1,1,1,1,\n",
    "            1,1,1,1,1,1,1,1,1,1,1,1,1,1,1,\n",
    "            1,1,1,1,1,1,1,1,1,1,1,1,1,1,1,\n",
    "            1,1,1,1,1,1,1,1,1,1,1,1,1,1,1,\n",
    "            1,1,1,1,1,1,1,1,2,20,20,14,14]\n",
    "\n",
    "# nome das colunas\n",
    "colunas = [\"UF\",\"ESTRATO_POF\",\"TIPO_SITUACAO_REG\",\"COD_UPA\",\n",
    "            \"NUM_DOM\",\"NUM_UC\",\"COD_INFORMANTE\",\"CONTAGEM_PONDERADA\",\n",
    "            \"FUNCAO_PERDA\",\"V201\",\"V202\",\"V204\",\"V205\",\"V206\",\n",
    "            \"V207\",\"V208\",\"V209\",\"V210\",\"V211\",\"V212\",\"V214\",\"V215\",\n",
    "            \"V216\",\"V217\",\"V301\",\"V302\",\"V303\",\"V304\",\"V305\",\"V306\",\n",
    "            \"V307\",\"V308\",\"V401\",\"V402\",\"V403\",\"V501\",\"V502\",\"V503\",\n",
    "            \"V504\",\"V505\",\"V506\",\"V601\",\"V602\",\"V603\",\"V604\",\"V605\",\n",
    "            \"V606\",\"V607\",\"V608\",\"V609\",\"V610\",\"V611\",\"V701\",\"V702\",\n",
    "            \"V703\",\"V704\",\"V801\",\"V802\",\"V901\",\"V902\",\"GRANDE_REGIAO\",\n",
    "            \"C1\",\"C2\",\"C3\",\"C4\",\"C5\",\"C6\",\"C7\",\"RENDA_DISP_PC\",\n",
    "            \"RENDA_DISP_PC_SS\",\"PESO\",\"PESO_FINAL\"]\n",
    "\n",
    "# leitura dos dados\n",
    "MORADOR_QUALI_VIDA = pd.read_fwf(\n",
    "    os.path.join(diretorio, \"MORADOR_QUALI_VIDA.txt\"),\n",
    "    widths=larguras,\n",
    "    na_values=[\" \"],\n",
    "    names=colunas,\n",
    "    decimal=\".\"\n",
    ")\n",
    "\n",
    "print(MORADOR_QUALI_VIDA.head())"
   ]
  },
  {
   "cell_type": "code",
   "execution_count": 7,
   "metadata": {},
   "outputs": [
    {
     "name": "stdout",
     "output_type": "stream",
     "text": [
      "   UF  ESTRATO_POF  TIPO_SITUACAO_REG    COD_UPA  NUM_DOM  NUM_UC  \\\n",
      "0  11         1101                  1  110000016        2       1   \n",
      "1  11         1101                  1  110000016        2       1   \n",
      "2  11         1101                  1  110000016        2       1   \n",
      "3  11         1101                  1  110000016        3       1   \n",
      "4  11         1101                  1  110000016        3       1   \n",
      "\n",
      "   COD_INFORMANTE  V0306  V0401  V04021  ...  V0430  ANOS_ESTUDO        PESO  \\\n",
      "0               1      1      1      15  ...    2.0            5  449.911506   \n",
      "1               2      2      1       1  ...    2.0            6  449.911506   \n",
      "2               3      6      1      16  ...    1.0           12  449.911506   \n",
      "3               1      1      1       4  ...    1.0           12  449.911506   \n",
      "4               2      2      1       7  ...    2.0            6  449.911506   \n",
      "\n",
      "   PESO_FINAL  RENDA_TOTAL  NIVEL_INSTRUCAO  RENDA_DISP_PC  RENDA_MONET_PC  \\\n",
      "0  690.883738      3855.34                2    1237.183056     1285.114167   \n",
      "1  690.883738      3855.34                2    1237.183056     1285.114167   \n",
      "2  690.883738      3855.34                5    1237.183056     1285.114167   \n",
      "3  690.883738      4242.48                5    1265.644167      826.780000   \n",
      "4  690.883738      4242.48                2    1265.644167      826.780000   \n",
      "\n",
      "   RENDA_NAO_MONET_PC  DEDUCAO_PC  \n",
      "0            0.000000   47.931111  \n",
      "1            0.000000   47.931111  \n",
      "2            0.000000   47.931111  \n",
      "3          446.340417    7.476250  \n",
      "4          446.340417    7.476250  \n",
      "\n",
      "[5 rows x 56 columns]\n"
     ]
    }
   ],
   "source": [
    "#### MORADOR\n",
    "# largura do txt\n",
    "larguras = [2,4,1,9,2,1,2,2,1,2,2,4,3,1,1,\n",
    "            1,1,1,2,1,2,1,1,1,1,1,1,1,1,1,\n",
    "            1,1,1,1,1,2,1,1,2,1,1,2,1,1,1,\n",
    "            2,1,2,14,14,10,1,20,20,20,20]\n",
    "\n",
    "# nome das colunas\n",
    "colunas = [\"UF\", \"ESTRATO_POF\", \"TIPO_SITUACAO_REG\",\n",
    "            \"COD_UPA\", \"NUM_DOM\", \"NUM_UC\", \"COD_INFORMANTE\",\n",
    "            \"V0306\", \"V0401\", \"V04021\", \"V04022\", \"V04023\",\n",
    "            \"V0403\", \"V0404\", \"V0405\", \"V0406\", \"V0407\",\n",
    "            \"V0408\", \"V0409\", \"V0410\", \"V0411\", \"V0412\",\n",
    "            \"V0413\", \"V0414\", \"V0415\", \"V0416\",\n",
    "            \"V041711\", \"V041712\", \"V041721\", \"V041722\",\n",
    "            \"V041731\", \"V041732\", \"V041741\", \"V041742\",\n",
    "            \"V0418\", \"V0419\", \"V0420\", \"V0421\", \"V0422\",\n",
    "            \"V0423\", \"V0424\", \"V0425\", \"V0426\", \"V0427\",\n",
    "            \"V0428\", \"V0429\", \"V0430\", \"ANOS_ESTUDO\",\n",
    "            \"PESO\", \"PESO_FINAL\", \"RENDA_TOTAL\",\n",
    "            \"NIVEL_INSTRUCAO\", \"RENDA_DISP_PC\",\"RENDA_MONET_PC\",\n",
    "            \"RENDA_NAO_MONET_PC\",\"DEDUCAO_PC\" ]\n",
    "\n",
    "# leitura dos dados\n",
    "MORADOR = pd.read_fwf(\n",
    "    os.path.join(diretorio, \"MORADOR.txt\"),\n",
    "    widths=larguras,\n",
    "    na_values=[\" \"],\n",
    "    names=colunas,\n",
    "    decimal=\".\"\n",
    ")\n",
    "\n",
    "print(MORADOR.head())\n"
   ]
  },
  {
   "cell_type": "code",
   "execution_count": 8,
   "metadata": {},
   "outputs": [
    {
     "name": "stderr",
     "output_type": "stream",
     "text": [
      "C:\\Users\\Computadores Gamer\\AppData\\Local\\Temp\\ipykernel_12676\\2152330528.py:4: FutureWarning: Passing 'suffixes' which cause duplicate columns {'PESO_FINAL_y', 'PESO_y'} in the result is deprecated and will raise a MergeError in a future version.\n",
      "  base = pd.merge(MORADOR_QUALI_VIDA, bigdata2, on = ['UF', 'ESTRATO_POF', 'TIPO_SITUACAO_REG','COD_UPA', 'NUM_DOM'], how='right')\n"
     ]
    }
   ],
   "source": [
    "#### Merges\n",
    "bigdata = pd.merge(DOMICILIO, MORADOR, on = ['UF', 'ESTRATO_POF', 'TIPO_SITUACAO_REG','COD_UPA', 'NUM_DOM'], how= 'left')\n",
    "bigdata2 = pd.merge(CONDICOES_VIDA, bigdata, on = ['UF', 'ESTRATO_POF', 'TIPO_SITUACAO_REG','COD_UPA', 'NUM_DOM'], how='right')\n",
    "base = pd.merge(MORADOR_QUALI_VIDA, bigdata2, on = ['UF', 'ESTRATO_POF', 'TIPO_SITUACAO_REG','COD_UPA', 'NUM_DOM'], how='right')\n",
    "\n",
    "\n",
    "# removendo colunas duplicadas, ou seja, com sufixo '_x' e '_y'\n",
    "colunas_delx = base.filter(regex=f'_x$').columns\n",
    "base = base.drop(colunas_delx, axis=1)\n",
    "\n",
    "colunas_dely = base.filter(regex=f'_y$').columns\n",
    "base = base.drop(colunas_dely, axis=1)"
   ]
  },
  {
   "cell_type": "code",
   "execution_count": 9,
   "metadata": {},
   "outputs": [
    {
     "name": "stderr",
     "output_type": "stream",
     "text": [
      "C:\\Users\\Computadores Gamer\\AppData\\Local\\Temp\\ipykernel_12676\\876777828.py:10: FutureWarning: The default dtype for empty Series will be 'object' instead of 'float64' in a future version. Specify a dtype explicitly to silence this warning.\n",
      "  base['var_depend1'] = pd.Series()\n",
      "C:\\Users\\Computadores Gamer\\AppData\\Local\\Temp\\ipykernel_12676\\876777828.py:16: SettingWithCopyWarning: \n",
      "A value is trying to be set on a copy of a slice from a DataFrame\n",
      "\n",
      "See the caveats in the documentation: https://pandas.pydata.org/pandas-docs/stable/user_guide/indexing.html#returning-a-view-versus-a-copy\n",
      "  base['var_depend1'][i] = 'não pobre'\n"
     ]
    }
   ],
   "source": [
    "# var_depend1\n",
    "# MORADOR['RENDA_MONET_PC']\n",
    "# menor ou igual a 1/4 de SM = pobre\n",
    "# acima de 1/4 de SM = não pobre\n",
    "# SM (2017) = 937 \n",
    "\n",
    "\n",
    "corte_sm = 937/4\n",
    "\n",
    "base['var_depend1'] = pd.Series()\n",
    "\n",
    "for i in range(len(base['RENDA_MONET_PC'])):\n",
    "    if base['RENDA_MONET_PC'][i] <= corte_sm:\n",
    "        base['var_depend1'][i] = 'pobre'\n",
    "    else:\n",
    "        base['var_depend1'][i] = 'não pobre'\n",
    "        \n",
    "\n",
    "# grafico1 = sn.countplot(base, x='var_depend1')\n",
    "# porcentagem_pobre = base['var_depend1'].value_counts()['pobre']/len(base['var_depend1'])\n",
    "# porcentagem_naopobre = 1 - porcentagem_pobre\n",
    "# print(base['var_depend1'].value_counts(), f'% pobre:{porcentagem_pobre}', f'% nao pobre:{porcentagem_naopobre}') \n",
    "        \n",
    "    "
   ]
  },
  {
   "cell_type": "code",
   "execution_count": 10,
   "metadata": {},
   "outputs": [
    {
     "name": "stderr",
     "output_type": "stream",
     "text": [
      "C:\\Users\\Computadores Gamer\\AppData\\Local\\Temp\\ipykernel_12676\\2501125028.py:9: FutureWarning: The default dtype for empty Series will be 'object' instead of 'float64' in a future version. Specify a dtype explicitly to silence this warning.\n",
      "  base['var_depend2'] = pd.Series()\n",
      "C:\\Users\\Computadores Gamer\\AppData\\Local\\Temp\\ipykernel_12676\\2501125028.py:13: SettingWithCopyWarning: \n",
      "A value is trying to be set on a copy of a slice from a DataFrame\n",
      "\n",
      "See the caveats in the documentation: https://pandas.pydata.org/pandas-docs/stable/user_guide/indexing.html#returning-a-view-versus-a-copy\n",
      "  base['var_depend2'][i] = 'não pobre'\n"
     ]
    }
   ],
   "source": [
    "# var_depend2 \n",
    "# DOMICILIO['V6199']\n",
    "# 1 – Segurança = não pobre\n",
    "# 2 – Insegurança leve = pobre\n",
    "# 3 – Insegurança moderada = pobre\n",
    "# 4 – Insegurança grave = pobre\n",
    "\n",
    "\n",
    "base['var_depend2'] = pd.Series()\n",
    "\n",
    "for i in range(len(base['V6199'])):\n",
    "    if base['V6199'][i] == 1:\n",
    "        base['var_depend2'][i] = 'não pobre'\n",
    "    elif base['V6199'][i]==2:\n",
    "        base['var_depend2'][i] = 'pobre'\n",
    "    elif base['V6199'][i]==3:\n",
    "        base['var_depend2'][i] = 'pobre'\n",
    "    elif base['V6199'][i]==4:\n",
    "        base['var_depend2'][i] = 'pobre'\n",
    "    \n",
    "\n",
    "# grafico2 = sn.countplot(base, x='var_depend2')\n",
    "# porcentagem_pobre = base['var_depend2'].value_counts()['pobre']/len(base['var_depend2'])\n",
    "# porcentagem_naopobre = 1 - porcentagem_pobre\n",
    "# print(base['var_depend2'].value_counts(), f'% pobre:{porcentagem_pobre}', f'% nao pobre:{porcentagem_naopobre}')"
   ]
  },
  {
   "cell_type": "code",
   "execution_count": 11,
   "metadata": {},
   "outputs": [
    {
     "name": "stderr",
     "output_type": "stream",
     "text": [
      "C:\\Users\\Computadores Gamer\\AppData\\Local\\Temp\\ipykernel_12676\\645433427.py:11: FutureWarning: The default dtype for empty Series will be 'object' instead of 'float64' in a future version. Specify a dtype explicitly to silence this warning.\n",
      "  base['var_depend3.1_inicial'] = pd.Series()\n",
      "C:\\Users\\Computadores Gamer\\AppData\\Local\\Temp\\ipykernel_12676\\645433427.py:23: SettingWithCopyWarning: \n",
      "A value is trying to be set on a copy of a slice from a DataFrame\n",
      "\n",
      "See the caveats in the documentation: https://pandas.pydata.org/pandas-docs/stable/user_guide/indexing.html#returning-a-view-versus-a-copy\n",
      "  base['var_depend3.1_inicial'][i]  = 'não pobre'\n"
     ]
    }
   ],
   "source": [
    "# var_depend3.1_inicial\n",
    "# CONDICOES_VIDA['V6101']\n",
    "# 1 – Muita dificuldade = pobre\n",
    "# 2 – Dificuldade = pobre\n",
    "# 3 – Alguma dificuldade = não pobre\n",
    "# 4 – Alguma facilidade = não pobre\n",
    "# 5 – Facilidade = não pobre\n",
    "# 6 – Muita facilidade = não pobre\n",
    "\n",
    "\n",
    "base['var_depend3.1_inicial'] = pd.Series()\n",
    "\n",
    "for i in range(len(base['UF'])):\n",
    "    if base['V6101'][i] == 1:\n",
    "        base['var_depend3.1_inicial'][i] = 'pobre'\n",
    "    elif base['V6101'][i]==2:\n",
    "        base['var_depend3.1_inicial'][i]  = 'pobre'\n",
    "    elif base['V6101'][i]==3:\n",
    "        base['var_depend3.1_inicial'][i]  = 'não pobre'\n",
    "    elif base['V6101'][i]==4:\n",
    "        base['var_depend3.1_inicial'][i]  = 'não pobre'\n",
    "    elif base['V6101'][i]==5:\n",
    "        base['var_depend3.1_inicial'][i]  = 'não pobre'\n",
    "    elif base['V6101'][i]==6:\n",
    "        base['var_depend3.1_inicial'][i]  = 'não pobre'\n",
    "    \n",
    " \n",
    "# sn.countplot(CONDICOES_VIDA, x='var_depend3.1_inicial')\n",
    "# print(CONDICOES_VIDA['var_depend3.1_inicial'].value_counts())"
   ]
  },
  {
   "cell_type": "code",
   "execution_count": 12,
   "metadata": {},
   "outputs": [
    {
     "name": "stderr",
     "output_type": "stream",
     "text": [
      "C:\\Users\\Computadores Gamer\\AppData\\Local\\Temp\\ipykernel_12676\\627619585.py:9: FutureWarning: The default dtype for empty Series will be 'object' instead of 'float64' in a future version. Specify a dtype explicitly to silence this warning.\n",
      "  base['var_depend3.2_inicial'] = pd.Series()\n",
      "C:\\Users\\Computadores Gamer\\AppData\\Local\\Temp\\ipykernel_12676\\627619585.py:13: SettingWithCopyWarning: \n",
      "A value is trying to be set on a copy of a slice from a DataFrame\n",
      "\n",
      "See the caveats in the documentation: https://pandas.pydata.org/pandas-docs/stable/user_guide/indexing.html#returning-a-view-versus-a-copy\n",
      "  base['var_depend3.2_inicial'][i] = 'não pobre'\n"
     ]
    }
   ],
   "source": [
    "# var_depend3.2_inicial\n",
    "# CONDICOES_VIDA['V61041']\n",
    "# 1 - Bom = não pobre\n",
    "# 2 - Satisfatório = não pobre\n",
    "# 3 - Ruim = pobre\n",
    "\n",
    "\n",
    "\n",
    "base['var_depend3.2_inicial'] = pd.Series()\n",
    "\n",
    "for i in range(len(base['UF'])):\n",
    "    if base['V61041'][i] == 1:\n",
    "        base['var_depend3.2_inicial'][i] = 'não pobre'\n",
    "    elif base['V61041'][i]==2:\n",
    "        base['var_depend3.2_inicial'][i]  = 'não pobre'\n",
    "    elif base['V61041'][i]==3:\n",
    "        base['var_depend3.2_inicial'][i]  = 'pobre'\n",
    "\n",
    "    \n",
    " \n",
    "# sn.countplot(base, x='var_depend3.2_inicial')\n",
    "# print(base['var_depend3.2_inicial'].value_counts())"
   ]
  },
  {
   "cell_type": "code",
   "execution_count": 44,
   "metadata": {},
   "outputs": [
    {
     "name": "stderr",
     "output_type": "stream",
     "text": [
      "C:\\Users\\Computadores Gamer\\AppData\\Local\\Temp\\ipykernel_12676\\1249210345.py:9: FutureWarning: The default dtype for empty Series will be 'object' instead of 'float64' in a future version. Specify a dtype explicitly to silence this warning.\n",
      "  base['var_depend4.1_inicial'] = pd.Series()\n",
      "C:\\Users\\Computadores Gamer\\AppData\\Local\\Temp\\ipykernel_12676\\1249210345.py:15: SettingWithCopyWarning: \n",
      "A value is trying to be set on a copy of a slice from a DataFrame\n",
      "\n",
      "See the caveats in the documentation: https://pandas.pydata.org/pandas-docs/stable/user_guide/indexing.html#returning-a-view-versus-a-copy\n",
      "  base['var_depend4.1_inicial'][i]  = 'pobre'\n"
     ]
    }
   ],
   "source": [
    "# var_depend4.1_inicial\n",
    "# DOMICILIO['V0212']\n",
    "# 1 – Rede geral, rede pluvial ou fossa ligada à rede = não pobre\n",
    "# 2 – Fossa não ligada à rede = pobre\n",
    "# 3 – Vala = pobre\n",
    "# 4 – Rio, lago ou mar = pobre\n",
    "# 5 – Outra forma = pobre\n",
    "\n",
    "base['var_depend4.1_inicial'] = pd.Series()\n",
    "\n",
    "for i in range(len(base['UF'])):\n",
    "    if base['V0212'][i] == 1:\n",
    "        base['var_depend4.1_inicial'][i] = 'não pobre'\n",
    "    elif base['V0212'][i]==2:\n",
    "        base['var_depend4.1_inicial'][i]  = 'pobre'\n",
    "    elif base['V0212'][i]==3:\n",
    "        base['var_depend4.1_inicial'][i]  = 'pobre'\n",
    "    elif base['V0212'][i]==4:\n",
    "        base['var_depend4.1_inicial'][i]  = 'pobre'\n",
    "    elif base['V0212'][i]==5:\n",
    "        base['var_depend4.1_inicial'][i]  = 'pobre'\n",
    "\n",
    "  \n",
    " \n",
    "# sn.countplot(DOMICILIO, x='var_depend4.1_inicial')\n",
    "# print(DOMICILIO['var_depend4.1_inicial'].value_counts())"
   ]
  },
  {
   "cell_type": "code",
   "execution_count": 14,
   "metadata": {},
   "outputs": [
    {
     "name": "stderr",
     "output_type": "stream",
     "text": [
      "C:\\Users\\Computadores Gamer\\AppData\\Local\\Temp\\ipykernel_12676\\413874391.py:11: FutureWarning: The default dtype for empty Series will be 'object' instead of 'float64' in a future version. Specify a dtype explicitly to silence this warning.\n",
      "  base['var_depend4.2_inicial'] = pd.Series()\n",
      "C:\\Users\\Computadores Gamer\\AppData\\Local\\Temp\\ipykernel_12676\\413874391.py:15: SettingWithCopyWarning: \n",
      "A value is trying to be set on a copy of a slice from a DataFrame\n",
      "\n",
      "See the caveats in the documentation: https://pandas.pydata.org/pandas-docs/stable/user_guide/indexing.html#returning-a-view-versus-a-copy\n",
      "  base['var_depend4.2_inicial'][i] = 'não pobre'\n"
     ]
    }
   ],
   "source": [
    "# var_depend4.2_inicial\n",
    "# DOMICILIO['V0213']\n",
    "# 1 – Coletado diretamente por serviço de limpeza = não pobre\n",
    "# 2 – Coletado em caçamba de serviço de limpeza = não pobre\n",
    "# 3 – Queimado (na propriedade) = pobre\n",
    "# 4 – Enterrado (na propriedade) = pobre\n",
    "# 5 – Jogado em terreno baldio ou logradouro = pobre\n",
    "# 6 – Outro destino = pobre\n",
    "\n",
    "\n",
    "base['var_depend4.2_inicial'] = pd.Series()\n",
    "\n",
    "for i in range(len(base['V6199'])):\n",
    "    if base['V0213'][i] == 1:\n",
    "        base['var_depend4.2_inicial'][i] = 'não pobre'\n",
    "    elif base['V0213'][i]==2:\n",
    "        base['var_depend4.2_inicial'][i]  = 'pobre'\n",
    "    elif base['V0213'][i]==3:\n",
    "        base['var_depend4.2_inicial'][i]  = 'pobre'\n",
    "    elif base['V0213'][i]==4:\n",
    "        base['var_depend4.2_inicial'][i]  = 'pobre'\n",
    "    elif base['V0213'][i]==5:\n",
    "        base['var_depend4.2_inicial'][i]  = 'pobre'\n",
    "    elif base['V0213'][i]==6:\n",
    "        base['var_depend4.2_inicial'][i]  = 'pobre'\n",
    "\n",
    "    \n",
    " \n",
    "# sn.countplot(DOMICILIO, x='var_depend4.2_inicial')\n",
    "# print(DOMICILIO['var_depend4.2_inicial'].value_counts())"
   ]
  },
  {
   "cell_type": "code",
   "execution_count": 15,
   "metadata": {},
   "outputs": [
    {
     "name": "stderr",
     "output_type": "stream",
     "text": [
      "C:\\Users\\Computadores Gamer\\AppData\\Local\\Temp\\ipykernel_12676\\584730984.py:6: FutureWarning: The default dtype for empty Series will be 'object' instead of 'float64' in a future version. Specify a dtype explicitly to silence this warning.\n",
      "  base['var_depend4.3_inicial'] = pd.Series()\n",
      "C:\\Users\\Computadores Gamer\\AppData\\Local\\Temp\\ipykernel_12676\\584730984.py:10: SettingWithCopyWarning: \n",
      "A value is trying to be set on a copy of a slice from a DataFrame\n",
      "\n",
      "See the caveats in the documentation: https://pandas.pydata.org/pandas-docs/stable/user_guide/indexing.html#returning-a-view-versus-a-copy\n",
      "  base['var_depend4.3_inicial'][i] = 'não pobre'\n"
     ]
    }
   ],
   "source": [
    "# var_depend4.3_inicial\n",
    "# DOMICILIO['V0220']\n",
    "# 1 – Sim = não pobre\n",
    "# 2 – Não = pobre\n",
    "\n",
    "base['var_depend4.3_inicial'] = pd.Series()\n",
    "\n",
    "for i in range(len(base['V6199'])):\n",
    "    if base['V0220'][i] == 1:\n",
    "        base['var_depend4.3_inicial'][i] = 'não pobre'\n",
    "    elif base['V0220'][i]==2:\n",
    "        base['var_depend4.3_inicial'][i]  = 'pobre'\n",
    "    \n",
    " \n",
    "# sn.countplot(DOMICILIO, x='var_depend4.3_inicial')\n",
    "# print(DOMICILIO['var_depend4.3_inicial'].value_counts())"
   ]
  },
  {
   "cell_type": "code",
   "execution_count": 16,
   "metadata": {},
   "outputs": [
    {
     "name": "stdout",
     "output_type": "stream",
     "text": [
      "[('não pobre', 'não pobre'), ('não pobre', 'pobre'), ('pobre', 'não pobre'), ('pobre', 'pobre')]\n"
     ]
    },
    {
     "name": "stderr",
     "output_type": "stream",
     "text": [
      "C:\\Users\\Computadores Gamer\\AppData\\Local\\Temp\\ipykernel_12676\\3590065714.py:23: FutureWarning: The default dtype for empty Series will be 'object' instead of 'float64' in a future version. Specify a dtype explicitly to silence this warning.\n",
      "  base['var_depend3'] = pd.Series()\n",
      "C:\\Users\\Computadores Gamer\\AppData\\Local\\Temp\\ipykernel_12676\\3590065714.py:26: SettingWithCopyWarning: \n",
      "A value is trying to be set on a copy of a slice from a DataFrame\n",
      "\n",
      "See the caveats in the documentation: https://pandas.pydata.org/pandas-docs/stable/user_guide/indexing.html#returning-a-view-versus-a-copy\n",
      "  base['var_depend3'][i] = 'não pobre'\n"
     ]
    },
    {
     "name": "stdout",
     "output_type": "stream",
     "text": [
      "não pobre    410900\n",
      "pobre        282860\n",
      "Name: var_depend3, dtype: int64\n"
     ]
    },
    {
     "data": {
      "image/png": "[encoded data removed]",
      "text/plain": [
       "<Figure size 640x480 with 1 Axes>"
      ]
     },
     "metadata": {},
     "output_type": "display_data"
    }
   ],
   "source": [
    "# score variavel dependente do grupo 3\n",
    "# 3\n",
    "# Pontuação:\n",
    "# 0 - não pobre\n",
    "# 1 - pobre\n",
    "# 2 - pobre\n",
    "\n",
    "\n",
    "# gerando permutações 3\n",
    "lista = ['não pobre', 'pobre']\n",
    "permutas_3 = []\n",
    "\n",
    "for i in product(lista, repeat=2):\n",
    "    permutas_3.append(i)\n",
    "print(permutas_3)\n",
    "\n",
    "# [('não pobre', 'não pobre') = 0\n",
    "# ('não pobre', 'pobre') = 1\n",
    "# ('pobre', 'não pobre') = 1\n",
    "# ('pobre', 'pobre')] = 2\n",
    "\n",
    "   \n",
    "base['var_depend3'] = pd.Series()\n",
    "for i in range(len(base['UF'])):\n",
    "    if base['var_depend3.1_inicial'][i] =='não pobre' and base['var_depend3.2_inicial'][i] == 'não pobre':\n",
    "        base['var_depend3'][i] = 'não pobre'\n",
    "        \n",
    "    elif base['var_depend3.1_inicial'][i] =='pobre' and base['var_depend3.2_inicial'][i] == 'pobre':\n",
    "        base['var_depend3'][i]  = 'pobre'\n",
    "    \n",
    "    else:\n",
    "        base['var_depend3'][i]  = 'pobre'\n",
    "\n",
    " \n",
    "grafico3 = sn.countplot(base, x='var_depend3')\n",
    "print(base['var_depend3'].value_counts())\n"
   ]
  },
  {
   "cell_type": "code",
   "execution_count": 36,
   "metadata": {},
   "outputs": [
    {
     "name": "stdout",
     "output_type": "stream",
     "text": [
      "[('não pobre', 'não pobre', 'não pobre'), ('não pobre', 'não pobre', 'pobre'), ('não pobre', 'pobre', 'não pobre'), ('não pobre', 'pobre', 'pobre'), ('pobre', 'não pobre', 'não pobre'), ('pobre', 'não pobre', 'pobre'), ('pobre', 'pobre', 'não pobre'), ('pobre', 'pobre', 'pobre')]\n"
     ]
    },
    {
     "name": "stderr",
     "output_type": "stream",
     "text": [
      "C:\\Users\\Computadores Gamer\\AppData\\Local\\Temp\\ipykernel_12676\\36667485.py:27: FutureWarning: The default dtype for empty Series will be 'object' instead of 'float64' in a future version. Specify a dtype explicitly to silence this warning.\n",
      "  base['var_depend4'] = pd.Series()\n",
      "C:\\Users\\Computadores Gamer\\AppData\\Local\\Temp\\ipykernel_12676\\36667485.py:43: SettingWithCopyWarning: \n",
      "A value is trying to be set on a copy of a slice from a DataFrame\n",
      "\n",
      "See the caveats in the documentation: https://pandas.pydata.org/pandas-docs/stable/user_guide/indexing.html#returning-a-view-versus-a-copy\n",
      "  base['var_depend4'][i]='não pobre'\n"
     ]
    }
   ],
   "source": [
    "# score variavel dependente do grupo 4\n",
    "# Pontuação:\n",
    "# 0 - não pobre\n",
    "# 1 - não pobre\n",
    "# 2 - pobre\n",
    "# 3 - pobre\n",
    "\n",
    "\n",
    "# gerando permutações 4    \n",
    "lista = ['não pobre', 'pobre']\n",
    "permutas_4 = []\n",
    "\n",
    "for i in product(lista, repeat=3):\n",
    "    permutas_4.append(i)\n",
    "print(permutas_4)\n",
    "    \n",
    "# ('não pobre', 'não pobre', 'não pobre') = não pobre\n",
    "# ('não pobre', 'não pobre', 'pobre') = não pobre\n",
    "# ('não pobre', 'pobre', 'não pobre') = não pobre\n",
    "# ('não pobre', 'pobre', 'pobre') = pobre\n",
    "# ('pobre', 'não pobre', 'não pobre') = não pobre\n",
    "# ('pobre', 'não pobre', 'pobre') = pobre\n",
    "# ('pobre', 'pobre', 'não pobre') = pobre\n",
    "# ('pobre', 'pobre', 'pobre') = pobre\n",
    "\n",
    "\n",
    "base['var_depend4'] = pd.Series()\n",
    "\n",
    "for i in range(len(base['V6199'])):\n",
    "    if base['var_depend4.1_inicial'][i]=='não pobre' and base['var_depend4.2_inicial'][i]=='não pobre' and base['var_depend4.3_inicial'][i]=='não pobre':\n",
    "        base['var_depend4'][i]='não pobre'\n",
    "        \n",
    "    elif base['var_depend4.1_inicial'][i]=='não pobre' and base['var_depend4.2_inicial'][i]=='não pobre' and base['var_depend4.3_inicial'][i]=='pobre':\n",
    "        base['var_depend4'][i]='não pobre'\n",
    "    \n",
    "    elif base['var_depend4.1_inicial'][i]=='não pobre' and base['var_depend4.2_inicial'][i]=='pobre' and base['var_depend4.3_inicial'][i]=='não pobre':\n",
    "        base['var_depend4'][i]='não pobre'\n",
    "        \n",
    "    elif base['var_depend4.1_inicial'][i]=='não pobre' and base['var_depend4.2_inicial'][i]=='pobre' and base['var_depend4.3_inicial'][i]=='pobre':\n",
    "        base['var_depend4'][i]='pobre'\n",
    "        \n",
    "    elif base['var_depend4.1_inicial'][i]=='pobre' and base['var_depend4.2_inicial'][i]=='não pobre' and base['var_depend4.3_inicial'][i]=='não pobre':\n",
    "        base['var_depend4'][i]='não pobre'\n",
    "        \n",
    "    elif base['var_depend4.1_inicial'][i]=='pobre' and base['var_depend4.2_inicial'][i]=='não pobre' and base['var_depend4.3_inicial'][i]=='pobre':\n",
    "        base['var_depend4'][i]='pobre'\n",
    "        \n",
    "    elif base['var_depend4.1_inicial'][i]=='pobre' and base['var_depend4.2_inicial'][i]=='pobre' and base['var_depend4.3_inicial'][i]=='não pobre':\n",
    "        base['var_depend4'][i]='pobre'\n",
    "        \n",
    "    elif base['var_depend4.1_inicial'][i]=='pobre' and base['var_depend4.2_inicial'][i]=='pobre' and base['var_depend4.3_inicial'][i]=='pobre':\n",
    "        base['var_depend4'][i]='pobre'\n",
    "        \n",
    "\n",
    "    \n",
    "# grafico4 = sn.countplot(DOMICILIO, x = 'var_depend4')\n",
    "# print(DOMICILIO['var_depend4'].value_counts())\n",
    "\n",
    "\n"
   ]
  },
  {
   "cell_type": "code",
   "execution_count": 34,
   "metadata": {},
   "outputs": [
    {
     "data": {
      "image/png": "[encoded data removed]",
      "text/plain": [
       "<Figure size 1000x1000 with 4 Axes>"
      ]
     },
     "metadata": {},
     "output_type": "display_data"
    }
   ],
   "source": [
    "# grid das 4 variaveis\n",
    "# plano\n",
    "fig, eixos = mplt.subplots (2, 2, figsize=(10,10) )\n",
    "\n",
    "# grafico1 = sn.countplot(MORADOR, x = 'var_depend1')\n",
    "sn.countplot(base, x='var_depend1', ax=eixos[0,0])\n",
    "eixos[0,0].set_title('RENDA_MONET_PC')\n",
    "eixos[0,0].set_xlabel('')\n",
    "eixos[0,0].set_ylabel('')\n",
    "\n",
    "# grafico2 = sn.countplot(DOMICILIO, x = 'var_depend2')\n",
    "sn.countplot(base, x = 'var_depend2', ax=eixos[0,1])\n",
    "eixos[0,1].set_title('V6199')\n",
    "eixos[0,1].set_xlabel('')\n",
    "eixos[0,1].set_ylabel('')\n",
    "\n",
    "# grafico3 = sn.countplot(CONDICOES_VIDA, x = 'var_depend3')\n",
    "sn.countplot(base, x = 'var_depend3', ax= eixos[1,0])\n",
    "eixos[1,0].set_title('V6101 e V61041')\n",
    "eixos[1,0].set_xlabel('')\n",
    "eixos[1,0].set_ylabel('')\n",
    "\n",
    "# grafico4 = sn.countplot(DOMICILIO, x = 'var_depend4')\n",
    "sn.countplot(base, x = 'var_depend4', ax= eixos[1,1])\n",
    "eixos[1,1].set_title('V0212, V0213 e V0220')\n",
    "eixos[1,1].set_xlabel('')\n",
    "eixos[1,1].set_ylabel('')\n",
    "\n",
    "mplt.show()"
   ]
  },
  {
   "cell_type": "code",
   "execution_count": 19,
   "metadata": {},
   "outputs": [],
   "source": [
    "# # mapeando variaveis dependentes\n",
    "# # 'não pobre' = 0\n",
    "# # 'pobre' = 1\n",
    "# base['var_depend1'] = base['var_depend1'].map({'não pobre':'0', 'pobre':'1'}).astype(int)\n",
    "# base['var_depend2'] = base['var_depend2'].map({'não pobre':'0', 'pobre':'1'}).astype(int)\n",
    "# base['var_depend3'] = base['var_depend3'].map({'não pobre':'0', 'pobre':'1'}).astype(int)\n",
    "# base['var_depend4'] = base['var_depend4'].map({'não pobre':'0', 'pobre':'1'}).astype(int)\n",
    "\n",
    "# conferir excel\n",
    "# base_excel = base[['var_depend1','var_depend2','var_depend3.1_inicial','var_depend3.2_inicial','var_depend3','var_depend4.1_inicial', 'var_depend4.2_inicial','var_depend4.2_inicial', 'var_depend4']]\n",
    "# base_excel.to_excel('base_teste.xlsx')"
   ]
  },
  {
   "cell_type": "code",
   "execution_count": 20,
   "metadata": {},
   "outputs": [
    {
     "name": "stdout",
     "output_type": "stream",
     "text": [
      "+-----------------------+\n",
      "| MORADOR               |\n",
      "+=======================+\n",
      "| RENDA_MONET_PC        |\n",
      "| count       178369.00 |\n",
      "| mean          1192.80 |\n",
      "| std           2022.07 |\n",
      "| min              0.00 |\n",
      "| 25%            360.09 |\n",
      "| 50%            709.80 |\n",
      "| 75%           1300.01 |\n",
      "| max         238281.15 |\n",
      "+-----------------------+\n"
     ]
    }
   ],
   "source": [
    "# variaveis indepentendes que serão usadas para estatisticas descritivas\n",
    "# MORADOR = UF, RENDA_MONET_PC\n",
    "# DOMICILIO = UF, V0212,V0213,V0220,V6199\n",
    "# CONDICOES_VIDA = UF, V6101, V61041\n",
    "# MORADOR_QUALI_VIDA = UF, TIPO_SITUACAO_REG,GRANDE_REGIAO,C1,C2,C3,C4\n",
    "\n",
    "estat_morador = MORADOR[['RENDA_MONET_PC']].describe().round(2)\n",
    "# estat_domicilio = DOMICILIO[['V0212','V0213','V0220','V6199']].value_counts()\n",
    "# estat_condicoes_vida = CONDICOES_VIDA[['V6101','V61041']].describe().round(2)\n",
    "# estat_morador_quali = MORADOR_QUALI_VIDA[['C1','C2','C3','C4']].describe().round(2)\n",
    "\n",
    "\n",
    "tabela_estat = tabulate({\n",
    "    \"MORADOR\": [estat_morador.to_string()],\n",
    "    # \"DOMICILIO\": [estat_domicilio.to_string()],\n",
    "    # \"CONDICOES_VIDA\": [estat_condicoes_vida.to_string()],\n",
    "    # \"MORADOR_QUALI_VIDA\": [estat_morador_quali.to_string()]\n",
    "}, headers=\"keys\", tablefmt=\"grid\")\n",
    "\n",
    "\n",
    "print(tabela_estat)"
   ]
  },
  {
   "cell_type": "code",
   "execution_count": 21,
   "metadata": {},
   "outputs": [
    {
     "data": {
      "image/png": "[encoded data removed]",
      "text/plain": [
       "<Figure size 1000x500 with 1 Axes>"
      ]
     },
     "metadata": {},
     "output_type": "display_data"
    }
   ],
   "source": [
    "# analise das variaveis independentes escolhidas de cada caderno por UF\n",
    "\n",
    "# RENDA_MONET_PC\n",
    "fig, ax1 = mplt.subplots(figsize=(10,5))\n",
    "sn.barplot(x = 'UF' , y = 'RENDA_MONET_PC' , data = MORADOR, ax = ax1 )\n",
    "mplt.show()\n"
   ]
  },
  {
   "cell_type": "code",
   "execution_count": 43,
   "metadata": {},
   "outputs": [
    {
     "name": "stdout",
     "output_type": "stream",
     "text": [
      "var_depend1: ['não pobre' 'pobre']\n",
      "var_depend2: ['não pobre' 'pobre']\n",
      "var_depend3.1_inicial: ['não pobre' 'pobre']\n",
      "var_depend3.2_inicial: ['não pobre' 'pobre']\n",
      "var_depend3: ['não pobre' 'pobre']\n",
      "var_depend4.1_inicial: ['pobre' 'não pobre' nan]\n",
      "var_depend4.2_inicial: ['não pobre' 'pobre']\n",
      "var_depend4: ['não pobre' 'pobre' nan]\n"
     ]
    }
   ],
   "source": [
    "# teste qui-quadrado das variaveis dependentes 1,2,3,4\n",
    "\n",
    "# 'chi2_contingency' nao consegue fazer o calculo se existirem valores 'nan' na coluna\n",
    "# verificando se alguma coluna de variaveis dependentes contem valores 'nan'\n",
    "# precisa se fazer isso antes de transformar as variaveis dependentes em 0 e 1\n",
    "var = ['var_depend1','var_depend2','var_depend3.1_inicial','var_depend3.2_inicial','var_depend3','var_depend4.1_inicial','var_depend4.2_inicial','var_depend4' ]\n",
    "for i in var:\n",
    "    j = base[i].unique()\n",
    "    print(f'{i}:', j)\n",
    "\n",
    "\n",
    "# fazendo o map\n",
    "# 0 = 'não pobre '\n",
    "# 1 = 'pobre '\n",
    "\n",
    "\n",
    "# tabela_freq = base[['var_depend1' ,'var_depend2','var_depend3','var_depend4']]\n",
    "# chi2, p_valor, gl , predict = chi2_contingency(tabela_freq)\n",
    "\n",
    "# print(f'Estatística qui-quadrado: {chi2}', ' / ', f'p-valor: {p_valor}', ' / ', f'Graus de liberdade: {gl}' )\n",
    "# print(predict)\n",
    "\n",
    "\n",
    "\n",
    "\n",
    "\n"
   ]
  },
  {
   "cell_type": "code",
   "execution_count": null,
   "metadata": {},
   "outputs": [],
   "source": []
  },
  {
   "cell_type": "code",
   "execution_count": null,
   "metadata": {},
   "outputs": [],
   "source": []
  },
  {
   "cell_type": "code",
   "execution_count": null,
   "metadata": {},
   "outputs": [],
   "source": []
  },
  {
   "cell_type": "code",
   "execution_count": null,
   "metadata": {},
   "outputs": [],
   "source": []
  },
  {
   "cell_type": "code",
   "execution_count": null,
   "metadata": {},
   "outputs": [],
   "source": []
  },
  {
   "cell_type": "code",
   "execution_count": 23,
   "metadata": {},
   "outputs": [],
   "source": [
    "# # transferir para excel caso nao exceda o numero de linhas\n",
    "# # limite de linhas excel = 1.048.576 linhas e 16.384 colunas\n",
    "# # ex: CARACTERISTICAS_DIETA.to_excel('caracteristicas_dieta.xlsx', index=False)\n",
    "# # os itens de 'tabelas' e 'nome_tabelas' precisam estar alinhados\n",
    "\n",
    "# # x\n",
    "# tabelas = [ CARACTERISTICAS_DIETA,\n",
    "#             CONDICOES_VIDA,\n",
    "#             CONSUMO_ALIMENTAR,\n",
    "#             DOMICILIO,\n",
    "#             MORADOR,\n",
    "#             MORADOR_QUALI_VIDA ]\n",
    "\n",
    "# # i \n",
    "# nomes_tabelas = [   'CARACTERISTICAS_DIETA',\n",
    "#                     'CONDICOES_VIDA',\n",
    "#                     'CONSUMO_ALIMENTAR',\n",
    "#                     'DOMICILIO',\n",
    "#                     'MORADOR',\n",
    "#                     'MORADOR_QUALI_VIDA' ]\n",
    "\n",
    "\n",
    "# # zip serve para fazer o loop ao mesmo tempo nas minhas duas listas\n",
    "# for x, i in zip(tabelas, nomes_tabelas):\n",
    "    \n",
    "#     if len(x) < 1048576:\n",
    "#         print(f'{len(x)} , baixar: {i}')\n",
    "        \n",
    "#         dados = pd.DataFrame(x)\n",
    "#         nome_arquivo = i +'.xlsx'\n",
    "#         dados.to_excel(nome_arquivo, index=False)\n",
    "        \n",
    "#         print(f'arquivo {i} baixado com sucesso')\n",
    "                    \n",
    "#     else:\n",
    "#         print(f'{len(x)} , nao baixar: {i}')\n",
    "        \n",
    "       \n",
    "      "
   ]
  },
  {
   "cell_type": "code",
   "execution_count": 24,
   "metadata": {},
   "outputs": [],
   "source": [
    "# variaveis de cada tabela\n",
    "# for x , i in zip(tabelas, nomes_tabelas):\n",
    "#     dados_desc = pd.DataFrame(x).describe()\n",
    "#     arquivo = pd.ExcelWriter('arquivo_estatisticas_descritivas.xlsx', engine = 'xlsxwriter')\n",
    "#     dados_desc.to_excel(arquivo, sheet_name='{}'.format(i), index=True)\n",
    "#     arquivo.save()"
   ]
  },
  {
   "cell_type": "code",
   "execution_count": 25,
   "metadata": {},
   "outputs": [],
   "source": [
    "# arquivos de dicionarios das variaveis\n",
    "# diretorio_dic = r'C:\\Users\\Computadores Gamer\\OneDrive\\Área de Trabalho\\dados gradilene\\dados'\n",
    "# diretorio_dic = diretorio_dic.replace('\\\\', '/')\n",
    "# os.chdir(diretorio_dic)\n",
    "\n",
    "# os.listdir()\n"
   ]
  },
  {
   "cell_type": "code",
   "execution_count": 26,
   "metadata": {},
   "outputs": [],
   "source": [
    "# sheets do arquivo dicionario\n",
    "# from openpyxl import load_workbook\n",
    "# dicionario = load_workbook('dicvar1718.xlsx')\n",
    "# sheets = dicionario.sheetnames\n",
    "# print(sheets) \n"
   ]
  },
  {
   "cell_type": "code",
   "execution_count": 27,
   "metadata": {},
   "outputs": [],
   "source": [
    "# lendo sheet 'Morador' e mantendo apenas as variaveis 'V....'\n",
    "# necessario generalizar esse codigo para cada sheet do arquivo\n",
    "\n",
    "\n",
    "# morador = pd.read_excel('dicvar1718.xlsx', sheet_name='Morador')\n",
    "\n",
    "# # cabecalho \n",
    "# morador.columns = morador.iloc[2,]\n",
    "\n",
    "# # preenchendo elementos NAs da coluna 'Código da variável', senao a função 'startswith' nao funciona\n",
    "# morador['Código da variável'].fillna('',inplace=True)\n",
    "\n",
    "# # filtrar apenas linhas em que em 'Código da variável' o elemento começa com 'V'\n",
    "# # lembrar que 'startswith' só funciona com o '.str'\n",
    "# morador = morador[morador['Código da variável'].str.startswith('V')]        # filtrando apenas as linhas de codigos 'V....'\n",
    "# print(morador)"
   ]
  },
  {
   "cell_type": "code",
   "execution_count": 28,
   "metadata": {},
   "outputs": [],
   "source": [
    "# generalizando codigo de ler cada sheet e filtrar apenas os codigos das variaveis\n",
    "# lista_tabelas_codigos = []\n",
    "\n",
    "# for i in sheets:\n",
    "#     caderno = pd.read_excel('dicvar1718.xlsx', sheet_name=i)\n",
    "#     caderno.columns = caderno.iloc[2,]\n",
    "#     caderno['Código da variável'].fillna('', inplace=True)\n",
    "#     caderno = caderno[caderno['Código da variável'].str.startswith('V')]\n",
    "#     lista_tabelas_codigos.append(caderno)\n",
    "\n",
    "\n",
    "# codigos_site = pd.concat(lista_tabelas_codigos, axis=0)\n",
    "# codigos_site = codigos_site[['Código da variável', 'Descrição']]\n",
    "# print(codigos_site)\n"
   ]
  },
  {
   "cell_type": "code",
   "execution_count": 29,
   "metadata": {},
   "outputs": [],
   "source": [
    "# vendo quantas variaveis de codigo tem em cada caderno para depois fazer o merge com a tabela 'codigos'\n",
    "# lista_cadernos = [CONSUMO_ALIMENTAR, CARACTERISTICAS_DIETA, DOMICILIO, CONDICOES_VIDA, MORADOR_QUALI_VIDA , MORADOR]\n",
    "\n",
    "# # colunas = CONSUMO_ALIMENTAR.columns.str.startswith('V')\n",
    "# # CONSUMO_ALIMENTAR.columns[np.where(colunas==True)]\n",
    "\n",
    "# codigos_total = []\n",
    "# for i in lista_cadernos:\n",
    "#     colunas = i.columns.str.startswith('V')\n",
    "#     nome = i.columns[np.where(np.logical_and(colunas, i.columns.str.match('.*[0-9]$')))] # logical_and é pra unir as condicoes. '.*[0-9]$' é uma expressao regular\n",
    "#     print(len(nome.unique()),nome)\n",
    "#     codigos_total.extend(nome) # coloca na lista, parecido com append, porem append é para adicionar um unico elemento no final da lista, o extend ja adiciona tudo de uma vez\n",
    "    \n",
    "    \n",
    "# codigos_cadernos = pd.DataFrame({'codigo':codigos_total})\n",
    "# codigos_cadernos.columns = ['Código da variável']\n",
    "# # codigos_cadernos.to_excel('codigos_cadernos.xlsx', index=False)\n",
    "\n",
    "    "
   ]
  },
  {
   "cell_type": "code",
   "execution_count": 30,
   "metadata": {},
   "outputs": [],
   "source": [
    "# fazendo merge dos codigos que achei com os 207 codigos que sao o total de codigos de todos cadernos\n",
    "# codigos_final = pd.merge(codigos_site, codigos_cadernos, on='Código da variável', how = 'outer')\n",
    "# codigos_final = codigos_final[['Código da variável','Descrição']]\n",
    "# print(codigos_final)\n",
    "\n",
    "# codigos_final.to_excel('codigos_final.xlsx', index=False)"
   ]
  }
 ],
 "metadata": {
  "kernelspec": {
   "display_name": "Python 3",
   "language": "python",
   "name": "python3"
  },
  "language_info": {
   "codemirror_mode": {
    "name": "ipython",
    "version": 3
   },
   "file_extension": ".py",
   "mimetype": "text/x-python",
   "name": "python",
   "nbconvert_exporter": "python",
   "pygments_lexer": "ipython3",
   "version": "3.11.4"
  }
 },
 "nbformat": 4,
 "nbformat_minor": 2
}
