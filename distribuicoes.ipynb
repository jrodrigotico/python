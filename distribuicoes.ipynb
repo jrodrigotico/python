{
 "cells": [
  {
   "cell_type": "code",
   "execution_count": 33,
   "metadata": {},
   "outputs": [],
   "source": [
    "import pandas as pd\n",
    "import seaborn as sb\n",
    "import numpy as np\n",
    "import os\n",
    "import matplotlib.pyplot as mp\n",
    "from scipy.stats import binom, nbinom, t, f , norm, poisson, chi2"
   ]
  },
  {
   "cell_type": "code",
   "execution_count": 2,
   "metadata": {},
   "outputs": [],
   "source": [
    "# rvs = randon variate sample, vai gerar numeros aleatorios de acordo com uma distribuição\n",
    "# fazer usando orientação a objetos, funcoes 'def', ou usando apenas 'IFs'?\n",
    "# usar seaborn que é mais fácil ou matplotlib que é mais elaborado?\n",
    "# usar 'Dash' para storytelling? 'pygame'? precisa-se de algo similar ao Rshiny\n",
    "# fazer arquivo executável ou um link web?\n"
   ]
  },
  {
   "cell_type": "code",
   "execution_count": 58,
   "metadata": {},
   "outputs": [],
   "source": [
    "# classe distribuição (faz-se a amostra com determinados parametros e plota grafico)\n",
    "class Distribuicao:\n",
    "    def __init__(self, tipo:str,\n",
    "                 n_tentativas:int = None,\n",
    "                 prob_sucesso:float = None,\n",
    "                 tamanho:float = None,\n",
    "                 n_sucessos:float = None,\n",
    "                 media:float = None,\n",
    "                 desv_pad:float = None,\n",
    "                 graus_liberade:int = None,\n",
    "                 graus_liberade_numerador:int = None,\n",
    "                 graus_liberade_denominador:int = None):\n",
    "        self.tipo = tipo\n",
    "        self.n_tentativas = n_tentativas\n",
    "        self.prob_sucesso = prob_sucesso\n",
    "        self.tamanho = tamanho\n",
    "        self.n_sucessos = n_sucessos\n",
    "        self.media = media\n",
    "        self.desv_pad = desv_pad\n",
    "        self.graus_liberade = graus_liberade\n",
    "        self.graus_liberade_numerador = graus_liberade_numerador\n",
    "        self.graus_liberade_denominador = graus_liberade_denominador\n",
    "        \n",
    "    \n",
    "    def gerar_amostra(self):\n",
    "        \n",
    "        # 3 prametros: numero de tentativas, prob de sucesso, tamanho da amostra\n",
    "        if self.tipo == 'binomial':\n",
    "            dist_binomial = binom(self.n_tentativas, self.prob_sucesso)\n",
    "            amostra = dist_binomial.rvs(size = self.tamanho)\n",
    "            print(amostra)\n",
    "            sb.displot(amostra)\n",
    "            # mp.hist(amostra, bins=10)\n",
    "            # mp.xlabel('valores')\n",
    "            # mp.ylabel('frequencia')\n",
    "            \n",
    "            print(f'essa distribuicao é {self.tipo}')\n",
    "        \n",
    "\n",
    "        # 3 parametros: numero de sucessos, prob de sucesso, tamanho da amostra\n",
    "        elif self.tipo == 'binomial_negativa':            \n",
    "            dist_nbinomial = nbinom(self.n_sucessos, self.prob_sucesso)\n",
    "            amostra = dist_nbinomial.rvs(size = self.tamanho)\n",
    "            print(amostra)\n",
    "            sb.displot(amostra)\n",
    "            \n",
    "\n",
    "            print(f'essa distribuicao é {self.tipo}')\n",
    "\n",
    "        \n",
    "        # 2 parametros: media e tamanho da amostra        \n",
    "        elif self.tipo == 'poisson':            \n",
    "            dist_poisson = poisson(self.media)\n",
    "            amostra = dist_poisson.rvs(size = self.tamanho)\n",
    "            print(amostra)\n",
    "            sb.displot(amostra)\n",
    "\n",
    "            print(f'essa distribuicao é {self.tipo}')\n",
    "        \n",
    "        \n",
    "        # 3 parametros: media, desvio-padrao, tamanho da amostra\n",
    "        elif self.tipo == 'normal':            \n",
    "            dist_normal = norm(loc = self.media, scale = self.desv_pad )\n",
    "            amostra = dist_normal.rvs(size = self.tamanho)\n",
    "            print(amostra)\n",
    "            sb.displot(amostra)\n",
    "\n",
    "            print(f'essa distribuicao é {self.tipo}')\n",
    "            \n",
    "        \n",
    "        \n",
    "        # 2 parametros: graus de liberdade e tamanho da amostra\n",
    "        elif self.tipo == 'qui2':            \n",
    "            dist_qui2 = chi2(self.graus_liberade)\n",
    "            amostra = dist_qui2.rvs(size = self.tamanho)\n",
    "            print(amostra)\n",
    "            sb.displot(amostra)\n",
    "\n",
    "            print(f'essa distribuicao é {self.tipo}')\n",
    "            \n",
    "            \n",
    "            \n",
    "        # 2 parametros: graus de liberdade e tamanho da amostra\n",
    "        elif self.tipo == 't':            \n",
    "            dist_t = t(self.graus_liberade)\n",
    "            amostra = dist_t.rvs(size = self.tamanho)\n",
    "            print(amostra)\n",
    "            sb.displot(amostra)\n",
    "\n",
    "            print(f'essa distribuicao é {self.tipo}')\n",
    "            \n",
    "            \n",
    "            \n",
    "        # 3 parametros: graus de liberdade numerador e denominador e tamanho da amostra\n",
    "        elif self.tipo == 'f':            \n",
    "            dist_f = f(self.graus_liberade_numerador, self.graus_liberade_denominador)\n",
    "            amostra = dist_f.rvs(size = self.tamanho)\n",
    "            print(amostra)\n",
    "            sb.displot(amostra)\n",
    "\n",
    "            print(f'essa distribuicao é {self.tipo}')           \n",
    "            \n",
    "        \n",
    "           "
   ]
  },
  {
   "cell_type": "code",
   "execution_count": 59,
   "metadata": {},
   "outputs": [
    {
     "name": "stdout",
     "output_type": "stream",
     "text": [
      "[ 7.55830631  3.23970252  8.84087983  6.67571775  5.40462547  3.01365675\n",
      "  5.28054052  5.00236828  3.44019913  3.41675597  6.38457269  3.90774576\n",
      " 11.70746801  2.14939441 10.41209417  5.03660887  5.69771373  8.36936959\n",
      "  1.91074874  3.93869386  2.07262606  3.6200084   4.34789787  7.20445459\n",
      "  6.08221768 11.05545983  1.93047708  2.03415718  1.46461146  3.32743784\n",
      "  2.47558149  7.55031261  3.02228372  2.55291132  3.28607488  4.72367855\n",
      " 12.32245254  2.9278316   1.85001211  4.67476669  1.01854044  1.6376807\n",
      "  2.63174511  7.22144082  6.40255212  3.1482925   1.65258122  8.50009727\n",
      "  9.61964383  1.56501469]\n",
      "essa distribuicao é qui2\n"
     ]
    },
    {
     "name": "stderr",
     "output_type": "stream",
     "text": [
      "c:\\Users\\Computadores Gamer\\AppData\\Local\\Programs\\Python\\Python311\\Lib\\site-packages\\seaborn\\axisgrid.py:118: UserWarning: The figure layout has changed to tight\n",
      "  self._figure.tight_layout(*args, **kwargs)\n"
     ]
    },
    {
     "data": {
      "image/png": "[encoded data removed]",
      "text/plain": [
       "<Figure size 500x500 with 1 Axes>"
      ]
     },
     "metadata": {},
     "output_type": "display_data"
    }
   ],
   "source": [
    "distribuicao = Distribuicao(tipo = 'qui2', graus_liberade = 5, tamanho = 50)\n",
    "distribuicao.gerar_amostra()"
   ]
  },
  {
   "cell_type": "code",
   "execution_count": null,
   "metadata": {},
   "outputs": [],
   "source": [
    "# CODIGO BONITAO\n",
    "# class Distribuicao:\n",
    "#     def __init__(self, tipo: str, **kwargs):\n",
    "#         self.tipo = tipo\n",
    "#         self.kwargs = kwargs\n",
    "    \n",
    "#     def gerar_amostra(self):\n",
    "#         distribuicoes = {\n",
    "#             'binomial': (binom, ['n', 'p']),\n",
    "#             'binomial_negativa': (nbinom, ['n', 'p']),\n",
    "#             'poisson': (poisson, ['mu']),\n",
    "#             'normal': (norm, ['loc', 'scale']),\n",
    "#             'qui2': (chi2, ['df']),\n",
    "#             't': (t, ['df']),\n",
    "#             'f': (f, ['dfn', 'dfd'])\n",
    "#         }\n",
    "        \n",
    "#         dist_func, parametros = distribuicoes[self.tipo]\n",
    "#         dist_args = {parametro: self.kwargs[parametro] for parametro in parametros}\n",
    "        \n",
    "#         dist = dist_func(**dist_args)\n",
    "#         amostra = dist.rvs(size=self.kwargs.get('tamanho', 1))\n",
    "        \n",
    "#         print(amostra)\n",
    "#         sb.displot(amostra)\n",
    "\n",
    "#         print(f\"Essa distribuição é {self.tipo}\")"
   ]
  }
 ],
 "metadata": {
  "kernelspec": {
   "display_name": "Python 3",
   "language": "python",
   "name": "python3"
  },
  "language_info": {
   "codemirror_mode": {
    "name": "ipython",
    "version": 3
   },
   "file_extension": ".py",
   "mimetype": "text/x-python",
   "name": "python",
   "nbconvert_exporter": "python",
   "pygments_lexer": "ipython3",
   "version": "3.11.4"
  }
 },
 "nbformat": 4,
 "nbformat_minor": 2
}
