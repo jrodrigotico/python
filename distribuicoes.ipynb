{
 "cells": [
  {
   "cell_type": "code",
   "execution_count": 31,
   "metadata": {},
   "outputs": [],
   "source": [
    "import pandas as pd\n",
    "import seaborn as sb\n",
    "import numpy as np\n",
    "import os\n",
    "import matplotlib.pyplot as mp\n",
    "from scipy.stats import binom, nbinom, t, f , norm, poisson, chi2"
   ]
  },
  {
   "cell_type": "code",
   "execution_count": null,
   "metadata": {},
   "outputs": [],
   "source": [
    "# rvs = randon variate sample, vai gerar numeros aleatorios de acordo com uma distribuição\n",
    "# ideias gerais = fazer usando orientação a objetos, funcoes 'def', ou usando apenas 'IFs'?\n",
    "# usar seaborn que é mais fácil ou matplotlib que é mais elaborado?\n",
    "# usar 'Dash' para storytelling? 'pygame'? precisa-se de algo similar ao Rshiny\n",
    "# fazer arquivo executável ou um link web?\n"
   ]
  },
  {
   "cell_type": "code",
   "execution_count": 43,
   "metadata": {},
   "outputs": [],
   "source": [
    "# classe distribuição\n",
    "class distribuicao:\n",
    "    def __init__(self, tipo:str, parametro1:float, parametro2:float, parametro3:float ):\n",
    "        self.tipo = tipo\n",
    "        self.parametro1 = parametro1\n",
    "        self.parametro2 = parametro2\n",
    "        self.parametro3 = parametro3\n",
    "    \n",
    "    def gerar_amostra(self):\n",
    "        if self.tipo == 'binom':\n",
    "            dist_binomial = binom(self.parametro1, self.parametro2)\n",
    "            amostra = dist_binomial.rvs(size = self.parametro3)\n",
    "            print(amostra)\n",
    "            mp.hist(amostra, bins=10)\n",
    "            mp.xlabel('valores')\n",
    "            mp.ylabel('frequencia')\n",
    "\n",
    "            print('essa distribuicao é binomial')\n",
    "        \n",
    "\n",
    "        elif self.tipo == 'nbinom':            \n",
    "            dist_nbinomial = nbinom(self.parametro1, self.parametro2)\n",
    "            amostra = dist_nbinomial.rvs(size = self.parametro3)\n",
    "            print(amostra)\n",
    "            mp.hist(amostra, bins=10)\n",
    "            mp.xlabel('valores')\n",
    "            mp.ylabel('frequencia')\n",
    "\n",
    "            print('essa distribuicao é binomial negativa')\n",
    "\n",
    "                \n",
    "        elif self.tipo == 'poisson':            \n",
    "            dist_poisson = poisson(self.parametro1)\n",
    "            amostra = dist_poisson.rvs(size = self.parametro2)\n",
    "            print(amostra)\n",
    "            mp.hist(amostra, bins=10)\n",
    "            mp.xlabel('valores')\n",
    "            mp.ylabel('frequencia')\n",
    "\n",
    "            print('essa distribuicao é poisson')\n",
    "\n",
    "        \n",
    "\n",
    "            \n",
    "        \n",
    "\n",
    "        \n",
    "            "
   ]
  },
  {
   "cell_type": "code",
   "execution_count": 49,
   "metadata": {},
   "outputs": [
    {
     "name": "stdout",
     "output_type": "stream",
     "text": [
      "[55 47 50 55 54 41 54 41 53 49 52 50 51 50 50 54 50 46 45 45 42 48 56 53\n",
      " 40 50 43 48 49 47 57 50 50 52 44 58 49 49 51 48 44 52 57 50 48 52 56 43\n",
      " 45 56 56 48 43 52 49 47 49 52 52 51 44 49 53 58 52 51 41 56 51 47 54 47\n",
      " 44 56 51 47 57 51 50 45 49 56 50 52 49 49 50 52 53 40 50 54 63 48 49 52\n",
      " 49 50 49 53]\n",
      "essa distribuicao é binomial\n"
     ]
    },
    {
     "data": {
      "image/png": "[encoded data removed]",
      "text/plain": [
       "<Figure size 640x480 with 1 Axes>"
      ]
     },
     "metadata": {},
     "output_type": "display_data"
    }
   ],
   "source": [
    "Distribuicao = distribuicao(tipo = 'binom', parametro1 = 100, parametro2 = 0.5 , parametro3 = 100)\n",
    "Distribuicao.gerar_amostra()"
   ]
  }
 ],
 "metadata": {
  "kernelspec": {
   "display_name": "Python 3",
   "language": "python",
   "name": "python3"
  },
  "language_info": {
   "codemirror_mode": {
    "name": "ipython",
    "version": 3
   },
   "file_extension": ".py",
   "mimetype": "text/x-python",
   "name": "python",
   "nbconvert_exporter": "python",
   "pygments_lexer": "ipython3",
   "version": "3.9.13"
  }
 },
 "nbformat": 4,
 "nbformat_minor": 2
}
