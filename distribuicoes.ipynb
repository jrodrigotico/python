{
 "cells": [
  {
   "cell_type": "code",
   "execution_count": 31,
   "metadata": {},
   "outputs": [],
   "source": [
    "import pandas as pd\n",
    "import seaborn as sb\n",
    "import numpy as np\n",
    "import os\n",
    "import matplotlib.pyplot as mp\n",
    "from scipy.stats import binom, nbinom, t, f , norm, poisson, chi2"
   ]
  },
  {
   "cell_type": "code",
   "execution_count": null,
   "metadata": {},
   "outputs": [],
   "source": [
    "# rvs = randon variate sample, vai gerar numeros aleatorios de acordo com uma distribuição\n",
    "# fazer usando orientação a objetos, funcoes 'def', ou usando apenas 'IFs'?\n",
    "# usar seaborn que é mais fácil ou matplotlib que é mais elaborado?\n",
    "# usar 'Dash' para storytelling? 'pygame'? precisa-se de algo similar ao Rshiny\n",
    "# fazer arquivo executável ou um link web?\n"
   ]
  },
  {
   "cell_type": "code",
   "execution_count": 50,
   "metadata": {},
   "outputs": [],
   "source": [
    "# classe distribuição\n",
    "class distribuicao:\n",
    "    def __init__(self, tipo:str, parametro1:float, parametro2:float, parametro3:float ):\n",
    "        self.tipo = tipo\n",
    "        self.parametro1 = parametro1\n",
    "        self.parametro2 = parametro2\n",
    "        self.parametro3 = parametro3\n",
    "    \n",
    "    def gerar_amostra(self):\n",
    "        if self.tipo == 'binom':\n",
    "            dist_binomial = binom(self.parametro1, self.parametro2)\n",
    "            amostra = dist_binomial.rvs(size = self.parametro3)\n",
    "            print(amostra)\n",
    "            mp.hist(amostra, bins=10)\n",
    "            mp.xlabel('valores')\n",
    "            mp.ylabel('frequencia')\n",
    "\n",
    "            print('essa distribuicao é binomial')\n",
    "        \n",
    "\n",
    "        elif self.tipo == 'nbinom':            \n",
    "            dist_nbinomial = nbinom(self.parametro1, self.parametro2)\n",
    "            amostra = dist_nbinomial.rvs(size = self.parametro3)\n",
    "            print(amostra)\n",
    "            mp.hist(amostra, bins=10)\n",
    "            mp.xlabel('valores')\n",
    "            mp.ylabel('frequencia')\n",
    "\n",
    "            print('essa distribuicao é binomial negativa')\n",
    "\n",
    "                \n",
    "        elif self.tipo == 'poisson':            \n",
    "            dist_poisson = poisson(self.parametro1)\n",
    "            amostra = dist_poisson.rvs(size = self.parametro2)\n",
    "            print(amostra)\n",
    "            mp.hist(amostra, bins=10)\n",
    "            mp.xlabel('valores')\n",
    "            mp.ylabel('frequencia')\n",
    "\n",
    "            print('essa distribuicao é poisson')\n",
    "\n",
    "        \n",
    "           "
   ]
  },
  {
   "cell_type": "code",
   "execution_count": 51,
   "metadata": {},
   "outputs": [
    {
     "name": "stdout",
     "output_type": "stream",
     "text": [
      "[51 56 42 53 56 57 48 54 44 47 50 49 57 48 52 52 50 48 57 56 43 49 40 40\n",
      " 45 46 50 54 45 43 56 48 47 47 44 60 49 51 51 60 51 56 39 59 51 49 53 54\n",
      " 45 55 54 50 55 47 44 46 54 61 49 58 50 51 58 51 44 44 49 50 52 51 42 49\n",
      " 54 48 48 42 50 51 58 59 47 48 53 55 43 54 50 52 52 53 49 57 60 47 51 44\n",
      " 49 47 38 54]\n",
      "essa distribuicao é binomial\n"
     ]
    },
    {
     "data": {
      "image/png": "[encoded data removed]",
      "text/plain": [
       "<Figure size 640x480 with 1 Axes>"
      ]
     },
     "metadata": {},
     "output_type": "display_data"
    }
   ],
   "source": [
    "Distribuicao = distribuicao(tipo = 'binom', parametro1 = 100, parametro2 = 0.5 , parametro3 = 100)\n",
    "Distribuicao.gerar_amostra()"
   ]
  }
 ],
 "metadata": {
  "kernelspec": {
   "display_name": "Python 3",
   "language": "python",
   "name": "python3"
  },
  "language_info": {
   "codemirror_mode": {
    "name": "ipython",
    "version": 3
   },
   "file_extension": ".py",
   "mimetype": "text/x-python",
   "name": "python",
   "nbconvert_exporter": "python",
   "pygments_lexer": "ipython3",
   "version": "3.9.13"
  }
 },
 "nbformat": 4,
 "nbformat_minor": 2
}
