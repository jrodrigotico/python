{
 "cells": [
  {
   "cell_type": "code",
   "execution_count": 1,
   "metadata": {},
   "outputs": [],
   "source": [
    "import pandas as pd\n",
    "import yfinance as yf\n",
    "import pandas_datareader as pdr\n",
    "import numpy as np\n",
    "import matplotlib.pyplot as mplt\n",
    "import seaborn as sn\n",
    "import datetime\n",
    "import streamlit as st\n",
    "import os\n",
    "import plotly.express as px\n",
    "import plotly.colors as pcolors\n",
    "import plotly.graph_objects as go\n",
    "from scipy.optimize import minimize"
   ]
  },
  {
   "cell_type": "code",
   "execution_count": null,
   "metadata": {},
   "outputs": [],
   "source": [
    "# --------------- lista de links e ideias --------------- #\n",
    "# lista de tickers\n",
    "# ver normalização dos precos das acoes , https://www.youtube.com/watch?v=FQp6kFER6v8\n",
    "# https://mesmith027-streamlit-webapps-mc-pistreamlit-app-l4b15e.streamlit.app -> parece um infografico com bastante texto e gráficos legais"
   ]
  },
  {
   "cell_type": "code",
   "execution_count": 2,
   "metadata": {},
   "outputs": [
    {
     "name": "stdout",
     "output_type": "stream",
     "text": [
      "C:\\Users\\Computadores Gamer\\OneDrive\\Área de Trabalho\\python\n"
     ]
    }
   ],
   "source": [
    "\n",
    "os.chdir('C:/Users/Computadores Gamer/OneDrive/Área de Trabalho/python')\n",
    "print(os.getcwd())"
   ]
  },
  {
   "cell_type": "code",
   "execution_count": null,
   "metadata": {},
   "outputs": [],
   "source": [
    "yf.pdr_override() #corrige problemas da bibliotece do pandas_datareader"
   ]
  },
  {
   "cell_type": "code",
   "execution_count": 24,
   "metadata": {},
   "outputs": [],
   "source": [
    "acoes = pd.read_excel(os.path.join('C:/Users/Computadores Gamer/OneDrive/Área de Trabalho/python/acoes_listas.xlsx'))['Código']\n",
    "acoes = [acoes +'.SA']\n",
    "\n"
   ]
  },
  {
   "cell_type": "code",
   "execution_count": 25,
   "metadata": {},
   "outputs": [
    {
     "ename": "TypeError",
     "evalue": "string indices must be integers, not 'str'",
     "output_type": "error",
     "traceback": [
      "\u001b[1;31m---------------------------------------------------------------------------\u001b[0m",
      "\u001b[1;31mTypeError\u001b[0m                                 Traceback (most recent call last)",
      "\u001b[1;32mc:\\Users\\Computadores Gamer\\OneDrive\\Documentos\\codigos importantes\\python\\markowitz_streamlit_rascunho.ipynb Cell 6\u001b[0m line \u001b[0;36m1\n\u001b[0;32m      <a href='vscode-notebook-cell:/c%3A/Users/Computadores%20Gamer/OneDrive/Documentos/codigos%20importantes/python/markowitz_streamlit_rascunho.ipynb#X10sZmlsZQ%3D%3D?line=7'>8</a>\u001b[0m tabela \u001b[39m=\u001b[39m pd\u001b[39m.\u001b[39mDataFrame()\n\u001b[0;32m     <a href='vscode-notebook-cell:/c%3A/Users/Computadores%20Gamer/OneDrive/Documentos/codigos%20importantes/python/markowitz_streamlit_rascunho.ipynb#X10sZmlsZQ%3D%3D?line=9'>10</a>\u001b[0m \u001b[39m# for i in lista_acoes:\u001b[39;00m\n\u001b[0;32m     <a href='vscode-notebook-cell:/c%3A/Users/Computadores%20Gamer/OneDrive/Documentos/codigos%20importantes/python/markowitz_streamlit_rascunho.ipynb#X10sZmlsZQ%3D%3D?line=10'>11</a>\u001b[0m \u001b[39m#     try:\u001b[39;00m\n\u001b[0;32m     <a href='vscode-notebook-cell:/c%3A/Users/Computadores%20Gamer/OneDrive/Documentos/codigos%20importantes/python/markowitz_streamlit_rascunho.ipynb#X10sZmlsZQ%3D%3D?line=11'>12</a>\u001b[0m \u001b[39m#         tabela[f'{i}'] = round(pdr.get_data_yahoo(i, start=data_i, end=data_f)['Adj Close'].resample('D').last(),2).dropna()\u001b[39;00m\n\u001b[1;32m   (...)\u001b[0m\n\u001b[0;32m     <a href='vscode-notebook-cell:/c%3A/Users/Computadores%20Gamer/OneDrive/Documentos/codigos%20importantes/python/markowitz_streamlit_rascunho.ipynb#X10sZmlsZQ%3D%3D?line=14'>15</a>\u001b[0m \u001b[39m#         print('erro', acao_erro, e)\u001b[39;00m\n\u001b[0;32m     <a href='vscode-notebook-cell:/c%3A/Users/Computadores%20Gamer/OneDrive/Documentos/codigos%20importantes/python/markowitz_streamlit_rascunho.ipynb#X10sZmlsZQ%3D%3D?line=15'>16</a>\u001b[0m \u001b[39m#         tabela[f'{i}'] = pd.Series(dtype='float64')\u001b[39;00m\n\u001b[1;32m---> <a href='vscode-notebook-cell:/c%3A/Users/Computadores%20Gamer/OneDrive/Documentos/codigos%20importantes/python/markowitz_streamlit_rascunho.ipynb#X10sZmlsZQ%3D%3D?line=17'>18</a>\u001b[0m teste \u001b[39m=\u001b[39m pdr\u001b[39m.\u001b[39;49mget_data_yahoo(lista_acoes, start\u001b[39m=\u001b[39;49mdata_i, end\u001b[39m=\u001b[39;49mdata_f)[\u001b[39m'\u001b[39m\u001b[39mAdj Close\u001b[39m\u001b[39m'\u001b[39m]\n\u001b[0;32m     <a href='vscode-notebook-cell:/c%3A/Users/Computadores%20Gamer/OneDrive/Documentos/codigos%20importantes/python/markowitz_streamlit_rascunho.ipynb#X10sZmlsZQ%3D%3D?line=18'>19</a>\u001b[0m \u001b[39m# tabela_retorn1 = tabela.pct_change().dropna()\u001b[39;00m\n\u001b[0;32m     <a href='vscode-notebook-cell:/c%3A/Users/Computadores%20Gamer/OneDrive/Documentos/codigos%20importantes/python/markowitz_streamlit_rascunho.ipynb#X10sZmlsZQ%3D%3D?line=19'>20</a>\u001b[0m \n\u001b[0;32m     <a href='vscode-notebook-cell:/c%3A/Users/Computadores%20Gamer/OneDrive/Documentos/codigos%20importantes/python/markowitz_streamlit_rascunho.ipynb#X10sZmlsZQ%3D%3D?line=20'>21</a>\u001b[0m \u001b[39m# media_retorno = tabela_retorn1.mean()\u001b[39;00m\n\u001b[1;32m   (...)\u001b[0m\n\u001b[0;32m     <a href='vscode-notebook-cell:/c%3A/Users/Computadores%20Gamer/OneDrive/Documentos/codigos%20importantes/python/markowitz_streamlit_rascunho.ipynb#X10sZmlsZQ%3D%3D?line=23'>24</a>\u001b[0m \u001b[39m# matriz_cov = tabela_retorn1.cov()\u001b[39;00m\n\u001b[0;32m     <a href='vscode-notebook-cell:/c%3A/Users/Computadores%20Gamer/OneDrive/Documentos/codigos%20importantes/python/markowitz_streamlit_rascunho.ipynb#X10sZmlsZQ%3D%3D?line=24'>25</a>\u001b[0m \u001b[39m# # print(matriz_cov)\u001b[39;00m\n",
      "File \u001b[1;32mc:\\Users\\Computadores Gamer\\AppData\\Local\\Programs\\Python\\Python311\\Lib\\site-packages\\pandas_datareader\\data.py:80\u001b[0m, in \u001b[0;36mget_data_yahoo\u001b[1;34m(*args, **kwargs)\u001b[0m\n\u001b[0;32m     79\u001b[0m \u001b[39mdef\u001b[39;00m \u001b[39mget_data_yahoo\u001b[39m(\u001b[39m*\u001b[39margs, \u001b[39m*\u001b[39m\u001b[39m*\u001b[39mkwargs):\n\u001b[1;32m---> 80\u001b[0m     \u001b[39mreturn\u001b[39;00m YahooDailyReader(\u001b[39m*\u001b[39;49margs, \u001b[39m*\u001b[39;49m\u001b[39m*\u001b[39;49mkwargs)\u001b[39m.\u001b[39;49mread()\n",
      "File \u001b[1;32mc:\\Users\\Computadores Gamer\\AppData\\Local\\Programs\\Python\\Python311\\Lib\\site-packages\\pandas_datareader\\base.py:258\u001b[0m, in \u001b[0;36m_DailyBaseReader.read\u001b[1;34m(self)\u001b[0m\n\u001b[0;32m    256\u001b[0m     df \u001b[39m=\u001b[39m \u001b[39mself\u001b[39m\u001b[39m.\u001b[39m_dl_mult_symbols(\u001b[39mself\u001b[39m\u001b[39m.\u001b[39msymbols\u001b[39m.\u001b[39mindex)\n\u001b[0;32m    257\u001b[0m \u001b[39melse\u001b[39;00m:\n\u001b[1;32m--> 258\u001b[0m     df \u001b[39m=\u001b[39m \u001b[39mself\u001b[39;49m\u001b[39m.\u001b[39;49m_dl_mult_symbols(\u001b[39mself\u001b[39;49m\u001b[39m.\u001b[39;49msymbols)\n\u001b[0;32m    259\u001b[0m \u001b[39mreturn\u001b[39;00m df\n",
      "File \u001b[1;32mc:\\Users\\Computadores Gamer\\AppData\\Local\\Programs\\Python\\Python311\\Lib\\site-packages\\pandas_datareader\\base.py:268\u001b[0m, in \u001b[0;36m_DailyBaseReader._dl_mult_symbols\u001b[1;34m(self, symbols)\u001b[0m\n\u001b[0;32m    266\u001b[0m \u001b[39mfor\u001b[39;00m sym \u001b[39min\u001b[39;00m sym_group:\n\u001b[0;32m    267\u001b[0m     \u001b[39mtry\u001b[39;00m:\n\u001b[1;32m--> 268\u001b[0m         stocks[sym] \u001b[39m=\u001b[39m \u001b[39mself\u001b[39;49m\u001b[39m.\u001b[39;49m_read_one_data(\u001b[39mself\u001b[39;49m\u001b[39m.\u001b[39;49murl, \u001b[39mself\u001b[39;49m\u001b[39m.\u001b[39;49m_get_params(sym))\n\u001b[0;32m    269\u001b[0m         passed\u001b[39m.\u001b[39mappend(sym)\n\u001b[0;32m    270\u001b[0m     \u001b[39mexcept\u001b[39;00m (\u001b[39mIOError\u001b[39;00m, \u001b[39mKeyError\u001b[39;00m):\n",
      "File \u001b[1;32mc:\\Users\\Computadores Gamer\\AppData\\Local\\Programs\\Python\\Python311\\Lib\\site-packages\\pandas_datareader\\yahoo\\daily.py:153\u001b[0m, in \u001b[0;36mYahooDailyReader._read_one_data\u001b[1;34m(self, url, params)\u001b[0m\n\u001b[0;32m    151\u001b[0m \u001b[39mtry\u001b[39;00m:\n\u001b[0;32m    152\u001b[0m     j \u001b[39m=\u001b[39m json\u001b[39m.\u001b[39mloads(re\u001b[39m.\u001b[39msearch(ptrn, resp\u001b[39m.\u001b[39mtext, re\u001b[39m.\u001b[39mDOTALL)\u001b[39m.\u001b[39mgroup(\u001b[39m1\u001b[39m))\n\u001b[1;32m--> 153\u001b[0m     data \u001b[39m=\u001b[39m j[\u001b[39m\"\u001b[39;49m\u001b[39mcontext\u001b[39;49m\u001b[39m\"\u001b[39;49m][\u001b[39m\"\u001b[39;49m\u001b[39mdispatcher\u001b[39;49m\u001b[39m\"\u001b[39;49m][\u001b[39m\"\u001b[39;49m\u001b[39mstores\u001b[39;49m\u001b[39m\"\u001b[39;49m][\u001b[39m\"\u001b[39;49m\u001b[39mHistoricalPriceStore\u001b[39;49m\u001b[39m\"\u001b[39;49m]\n\u001b[0;32m    154\u001b[0m \u001b[39mexcept\u001b[39;00m \u001b[39mKeyError\u001b[39;00m:\n\u001b[0;32m    155\u001b[0m     msg \u001b[39m=\u001b[39m \u001b[39m\"\u001b[39m\u001b[39mNo data fetched for symbol \u001b[39m\u001b[39m{}\u001b[39;00m\u001b[39m using \u001b[39m\u001b[39m{}\u001b[39;00m\u001b[39m\"\u001b[39m\n",
      "\u001b[1;31mTypeError\u001b[0m: string indices must be integers, not 'str'"
     ]
    }
   ],
   "source": [
    "# lista_acoes = ['AMER3.SA','PETR3.SA','VALE3.SA', 'CASH3.SA', 'ABEV3.SA']\n",
    "data_i = datetime.date(2021,1,1)\n",
    "data_f = datetime.date(2022,1,1)\n",
    "\n",
    "\n",
    "lista_acoes = ['PETR3.SA','VALE3.SA']\n",
    "acao_erro = []\n",
    "tabela = pd.DataFrame()\n",
    "\n",
    "# for i in lista_acoes:\n",
    "#     try:\n",
    "#         tabela[f'{i}'] = round(pdr.get_data_yahoo(i, start=data_i, end=data_f)['Adj Close'].resample('D').last(),2).dropna()\n",
    "#     except Exception as e:\n",
    "#         acao_erro.append(i)\n",
    "#         print('erro', acao_erro, e)\n",
    "#         tabela[f'{i}'] = pd.Series(dtype='float64')\n",
    "\n",
    "teste = pdr.get_data_yahoo(lista_acoes, start=data_i, end=data_f)['Adj Close']\n",
    "# tabela_retorn1 = tabela.pct_change().dropna()\n",
    "\n",
    "# media_retorno = tabela_retorn1.mean()\n",
    "# # print(media_retorno)\n",
    "\n",
    "# matriz_cov = tabela_retorn1.cov()\n",
    "# # print(matriz_cov)"
   ]
  },
  {
   "cell_type": "code",
   "execution_count": 173,
   "metadata": {},
   "outputs": [
    {
     "data": {
      "text/plain": [
       "['AURE3.SA',\n",
       " 'IGTI4.SA',\n",
       " 'IGTI4.SA',\n",
       " 'VIIA3.SA',\n",
       " 'ENBR3.SA',\n",
       " 'BOAS3.SA',\n",
       " 'MODL3.SA',\n",
       " 'CRDE3.SA',\n",
       " 'IGBR3.SA',\n",
       " 'PARD3.SA',\n",
       " 'WIZS3.SA',\n",
       " 'LLIS3.SA',\n",
       " 'BRML3.SA',\n",
       " 'DMMO3.SA',\n",
       " 'GETT3.SA',\n",
       " 'GETT4.SA',\n",
       " 'SULA4.SA',\n",
       " 'SULA3.SA',\n",
       " 'CEPE5.SA',\n",
       " 'TCNO4.SA',\n",
       " 'TCNO3.SA',\n",
       " 'CEPE6.SA',\n",
       " 'BKBR3.SA',\n",
       " 'MTIG4.SA',\n",
       " 'BLUT4.SA',\n",
       " 'BLUT3.SA',\n",
       " 'MODL4.SA',\n",
       " 'CARD3.SA',\n",
       " 'FNCN3.SA',\n",
       " 'LCAM3.SA',\n",
       " 'BIDI4.SA',\n",
       " 'BIDI3.SA',\n",
       " 'EEEL4.SA',\n",
       " 'EEEL3.SA',\n",
       " 'BBRK3.SA',\n",
       " 'CESP6.SA',\n",
       " 'CESP3.SA',\n",
       " 'CESP5.SA',\n",
       " 'MOSI3.SA',\n",
       " 'POWE3.SA',\n",
       " 'GNDI3.SA',\n",
       " 'LAME4.SA',\n",
       " 'LAME3.SA',\n",
       " 'OMGE3.SA',\n",
       " 'IGTA3.SA',\n",
       " 'JPSA3.SA',\n",
       " 'BRDT3.SA',\n",
       " 'JBDU4.SA',\n",
       " 'JBDU3.SA',\n",
       " 'HGTX3.SA',\n",
       " 'CCPR3.SA',\n",
       " 'DTEX3.SA',\n",
       " 'VVAR3.SA',\n",
       " 'PNVL4.SA',\n",
       " 'TESA3.SA',\n",
       " 'BTOW3.SA',\n",
       " 'LINX3.SA',\n",
       " 'BTTL3.SA',\n",
       " 'GPCP3.SA',\n",
       " 'GPCP4.SA',\n",
       " 'SMLS3.SA',\n",
       " 'MMXM3.SA',\n",
       " 'BSEV3.SA',\n",
       " 'CNTO3.SA',\n",
       " 'TIET4.SA',\n",
       " 'TIET3.SA',\n",
       " 'CEPE3.SA',\n",
       " 'CALI4.SA',\n",
       " 'BPAR3.SA',\n",
       " 'APTI4.SA',\n",
       " 'CTSA8.SA']"
      ]
     },
     "execution_count": 173,
     "metadata": {},
     "output_type": "execute_result"
    }
   ],
   "source": [
    "acao_erro\n",
    "# acao_erro = pd.DataFrame(acao_erro)\n",
    "# acao_erro.to_excel('acoes_erro.xlsx')"
   ]
  },
  {
   "cell_type": "code",
   "execution_count": null,
   "metadata": {},
   "outputs": [],
   "source": [
    "# tabelas pré-simulacao\n",
    "numero_portfolios = 100000\n",
    "tabela_retorn_esperados = np.zeros(numero_portfolios)\n",
    "tabela_volatilidade_esperada = np.zeros(numero_portfolios)\n",
    "tabela_sharpe = np.zeros(numero_portfolios)\n",
    "tabela_pesos = np.zeros((numero_portfolios, len(lista_acoes))) # numero de linhas seria cada portfolio e o numero de colunas seria o peso de cada acoa em 'lista_acoes'\n"
   ]
  },
  {
   "cell_type": "code",
   "execution_count": null,
   "metadata": {},
   "outputs": [],
   "source": [
    "# simulacao\n",
    "for i in range(numero_portfolios):\n",
    "    pesos_aleatorios = np.random.random(len(lista_acoes)) # gera pesos aleatorio\n",
    "    pesos_aleatorios = pesos_aleatorios/np.sum(pesos_aleatorios) # descobre a porcentagem de cada peso sobre o total de pesos daquela linha\n",
    "    tabela_pesos[i,:] = pesos_aleatorios # completa uma linha e pula pra próxima até o numero total de portfolios\n",
    "    tabela_retorn_esperados[i] = np.sum(media_retorno * pesos_aleatorios * 252) \n",
    "    tabela_volatilidade_esperada[i] = np.sqrt(np.dot(pesos_aleatorios.T, np.dot(matriz_cov * 252, pesos_aleatorios))) # np.dot é o produto entre duas matrizes, linha x coluna\n",
    "    tabela_sharpe[i] = tabela_retorn_esperados[i] / tabela_volatilidade_esperada[i]\n",
    "\n",
    "\n"
   ]
  },
  {
   "cell_type": "code",
   "execution_count": null,
   "metadata": {},
   "outputs": [],
   "source": [
    "# achando a melhor carteira, analisando o indice de sharpe\n",
    "indice_sharp_max = tabela_sharpe.argmax() # retorna o indice da linha onde esta o indice de sharpe maximo\n",
    "melhor_carteira = tabela_pesos[indice_sharp_max] # com isso pego a carteira (um dos portfolios) que apresenta a melhor relação entre retorno e risco que seria o indice de sharpe\n",
    "melhor_carteira\n",
    "# aqui posso pensar em impor limites para cada papel"
   ]
  },
  {
   "cell_type": "code",
   "execution_count": null,
   "metadata": {},
   "outputs": [],
   "source": [
    "tabela_retorn_esperados_arit = np.exp(tabela_retorn_esperados) - 1\n",
    "tabela_retorn_esperados_arit"
   ]
  },
  {
   "cell_type": "code",
   "execution_count": null,
   "metadata": {},
   "outputs": [],
   "source": [
    "fronteira_eficiente_y = np.linspace(tabela_retorn_esperados_arit.min(), tabela_retorn_esperados_arit.max(), 50 )   # defino range do meu eixo\n",
    "\n",
    "def pegando_retorno (peso_teste):\n",
    "    peso_teste = np.array(peso_teste)\n",
    "    retorno = np.sum(media_retorno * peso_teste) * 252\n",
    "    retorno = np.exp(retorno) - 1 # aqui estou passando os retornos para aritmeticos\n",
    "    return retorno\n",
    "    \n",
    "def checando_soma_pesos(peso_teste):\n",
    "    return np.sum(peso_teste)-1\n",
    "\n",
    "\n",
    "def pegando_vol(peso_teste):\n",
    "    peso_tste = np.array(peso_teste)\n",
    "    vol = np.sqrt(np.dot(peso_teste.T, np.dot(matriz_cov * 252, peso_teste)))\n",
    "    return vol\n",
    "\n",
    "peso_inicial = [1/len(lista_acoes)] * len(lista_acoes)  # pesos iguais para todas as acoes\n",
    "limites = tuple([(0,1) for i in lista_acoes])   # aqui nenhuma acao pode ter mais que 100%\n",
    "\n",
    "\n",
    "eixo_x_fronteira = []\n",
    "\n",
    "for retorno_possivel in fronteira_eficiente_y:\n",
    "    restricoes = ({'type':'eq', 'fun':checando_soma_pesos}, {'type':'eq', 'fun' : lambda weight: pegando_retorno(weight) - retorno_possivel}) # é um dicionario de restricoes, quando a igualdade ('eq') for zero é pq a restricao fo satisfeita\n",
    "    \n",
    "    result = minimize(pegando_vol, peso_inicial, method='SLSQP', bounds = limites, constraints = restricoes)\n",
    "    eixo_x_fronteira.append(result['fun'])\n",
    "    \n"
   ]
  },
  {
   "cell_type": "code",
   "execution_count": null,
   "metadata": {},
   "outputs": [],
   "source": [
    "fig, ax = mplt.subplots()\n",
    "ax.scatter(tabela_volatilidade_esperada, tabela_retorn_esperados_arit, c=tabela_sharpe)\n",
    "ax.scatter(tabela_volatilidade_esperada[indice_sharp_max], tabela_retorn_esperados_arit[indice_sharp_max], c = 'red')\n",
    "ax.plot(eixo_x_fronteira, fronteira_eficiente_y)\n",
    "\n",
    "mplt.show()\n",
    "\n",
    "\n",
    "# ideia de plotar a carteira de menos risco\n",
    "# fazer a linha reta que eu acho que é a linha de taxa livre de risco, CONFIRMAAAAAAAAAAAAR!!!!\n"
   ]
  },
  {
   "cell_type": "code",
   "execution_count": null,
   "metadata": {},
   "outputs": [],
   "source": [
    "result"
   ]
  }
 ],
 "metadata": {
  "kernelspec": {
   "display_name": "Python 3",
   "language": "python",
   "name": "python3"
  },
  "language_info": {
   "codemirror_mode": {
    "name": "ipython",
    "version": 3
   },
   "file_extension": ".py",
   "mimetype": "text/x-python",
   "name": "python",
   "nbconvert_exporter": "python",
   "pygments_lexer": "ipython3",
   "version": "3.11.4"
  }
 },
 "nbformat": 4,
 "nbformat_minor": 2
}
