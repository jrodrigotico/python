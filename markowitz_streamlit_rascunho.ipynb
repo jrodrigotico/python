{
 "cells": [
  {
   "cell_type": "code",
   "execution_count": 1,
   "metadata": {},
   "outputs": [],
   "source": [
    "import pandas as pd\n",
    "import yfinance as yf\n",
    "import pandas_datareader as pdr\n",
    "import numpy as np\n",
    "import matplotlib.pyplot as mplt\n",
    "import seaborn as sn\n",
    "import datetime\n",
    "import streamlit as st\n",
    "import os\n",
    "import plotly.express as px\n",
    "import plotly.colors as pcolors\n",
    "import plotly.graph_objects as go"
   ]
  },
  {
   "cell_type": "code",
   "execution_count": null,
   "metadata": {},
   "outputs": [],
   "source": [
    "# --------------- lista de links e ideias --------------- #\n",
    "# lista de tickers\n",
    "# ver normalização dos precos das acoes , https://www.youtube.com/watch?v=FQp6kFER6v8\n",
    "# https://mesmith027-streamlit-webapps-mc-pistreamlit-app-l4b15e.streamlit.app -> parece um infografico com bastante texto e gráficos legais"
   ]
  },
  {
   "cell_type": "code",
   "execution_count": null,
   "metadata": {},
   "outputs": [],
   "source": [
    "\n",
    "os.chdir('C:/Users/Computadores Gamer/OneDrive/Área de Trabalho/python')\n",
    "print(os.getcwd())"
   ]
  },
  {
   "cell_type": "code",
   "execution_count": null,
   "metadata": {},
   "outputs": [],
   "source": [
    "# lista acoes\n",
    "acoes = pd.read_csv('acoes-listadas.csv')['Código']\n",
    "acoes.to_excel('acoes_listas.xlsx')"
   ]
  },
  {
   "cell_type": "code",
   "execution_count": 13,
   "metadata": {},
   "outputs": [
    {
     "data": {
      "text/html": [
       "<div>\n",
       "<style scoped>\n",
       "    .dataframe tbody tr th:only-of-type {\n",
       "        vertical-align: middle;\n",
       "    }\n",
       "\n",
       "    .dataframe tbody tr th {\n",
       "        vertical-align: top;\n",
       "    }\n",
       "\n",
       "    .dataframe thead th {\n",
       "        text-align: right;\n",
       "    }\n",
       "</style>\n",
       "<table border=\"1\" class=\"dataframe\">\n",
       "  <thead>\n",
       "    <tr style=\"text-align: right;\">\n",
       "      <th></th>\n",
       "      <th>country</th>\n",
       "      <th>continent</th>\n",
       "      <th>year</th>\n",
       "      <th>lifeExp</th>\n",
       "      <th>pop</th>\n",
       "      <th>gdpPercap</th>\n",
       "    </tr>\n",
       "  </thead>\n",
       "  <tbody>\n",
       "    <tr>\n",
       "      <th>0</th>\n",
       "      <td>Afghanistan</td>\n",
       "      <td>Asia</td>\n",
       "      <td>1952</td>\n",
       "      <td>28.801</td>\n",
       "      <td>8425333</td>\n",
       "      <td>779.445314</td>\n",
       "    </tr>\n",
       "    <tr>\n",
       "      <th>1</th>\n",
       "      <td>Afghanistan</td>\n",
       "      <td>Asia</td>\n",
       "      <td>1957</td>\n",
       "      <td>30.332</td>\n",
       "      <td>9240934</td>\n",
       "      <td>820.853030</td>\n",
       "    </tr>\n",
       "    <tr>\n",
       "      <th>2</th>\n",
       "      <td>Afghanistan</td>\n",
       "      <td>Asia</td>\n",
       "      <td>1962</td>\n",
       "      <td>31.997</td>\n",
       "      <td>10267083</td>\n",
       "      <td>853.100710</td>\n",
       "    </tr>\n",
       "    <tr>\n",
       "      <th>3</th>\n",
       "      <td>Afghanistan</td>\n",
       "      <td>Asia</td>\n",
       "      <td>1967</td>\n",
       "      <td>34.020</td>\n",
       "      <td>11537966</td>\n",
       "      <td>836.197138</td>\n",
       "    </tr>\n",
       "    <tr>\n",
       "      <th>4</th>\n",
       "      <td>Afghanistan</td>\n",
       "      <td>Asia</td>\n",
       "      <td>1972</td>\n",
       "      <td>36.088</td>\n",
       "      <td>13079460</td>\n",
       "      <td>739.981106</td>\n",
       "    </tr>\n",
       "  </tbody>\n",
       "</table>\n",
       "</div>"
      ],
      "text/plain": [
       "       country continent  year  lifeExp       pop   gdpPercap\n",
       "0  Afghanistan      Asia  1952   28.801   8425333  779.445314\n",
       "1  Afghanistan      Asia  1957   30.332   9240934  820.853030\n",
       "2  Afghanistan      Asia  1962   31.997  10267083  853.100710\n",
       "3  Afghanistan      Asia  1967   34.020  11537966  836.197138\n",
       "4  Afghanistan      Asia  1972   36.088  13079460  739.981106"
      ]
     },
     "execution_count": 13,
     "metadata": {},
     "output_type": "execute_result"
    }
   ],
   "source": [
    "# gapminder\n",
    "from gapminder import gapminder\n",
    "gapminder.head()\n",
    "\n"
   ]
  },
  {
   "cell_type": "code",
   "execution_count": null,
   "metadata": {},
   "outputs": [],
   "source": [
    "yf.pdr_override() #corrige problemas da bibliotece do pandas_datareader"
   ]
  },
  {
   "cell_type": "code",
   "execution_count": null,
   "metadata": {},
   "outputs": [],
   "source": [
    "acoes = pd.read_excel(os.path.join('C:/Users/Computadores Gamer/OneDrive/Área de Trabalho/python/acoes_listas.xlsx'))['Código']\n",
    "acoes"
   ]
  },
  {
   "cell_type": "code",
   "execution_count": 21,
   "metadata": {},
   "outputs": [
    {
     "name": "stdout",
     "output_type": "stream",
     "text": [
      "[*********************100%***********************]  1 of 1 completed\n",
      "Date\n",
      "2020-01-31    25.15\n",
      "2020-02-29    24.85\n",
      "2020-03-31    19.19\n",
      "2020-04-30    19.13\n",
      "2020-05-31    19.09\n",
      "Freq: M, Name: Adj Close, dtype: float64\n",
      "[*********************100%***********************]  1 of 1 completed\n",
      "Date\n",
      "2020-01-31    9.62\n",
      "2020-02-29    8.34\n",
      "2020-03-31    5.21\n",
      "2020-04-30    6.68\n",
      "2020-05-31    7.71\n",
      "Freq: M, Name: Adj Close, dtype: float64\n",
      "[*********************100%***********************]  1 of 1 completed\n",
      "Date\n",
      "2020-01-31    35.20\n",
      "2020-02-29    31.03\n",
      "2020-03-31    30.26\n",
      "2020-04-30    31.41\n",
      "2020-05-31    37.11\n",
      "Freq: M, Name: Adj Close, dtype: float64\n",
      "[*********************100%***********************]  1 of 1 completed\n",
      "Date\n",
      "2020-01-31    11.61\n",
      "2020-02-29    10.38\n",
      "2020-03-31     5.41\n",
      "2020-04-30     7.33\n",
      "2020-05-31     8.19\n",
      "Freq: M, Name: Adj Close, dtype: float64\n"
     ]
    }
   ],
   "source": [
    "# definicao das datas e das acoes\n",
    "# encontrar forma de deixar dinamico o numero de acoes e a peridiocidade do resample\n",
    "# mudar o tipo de grafico de seaborn pq o streamlit nao aceita\n",
    "data_i = '2020-01-01'\n",
    "data_f = '2023-01-01'\n",
    "ibov = ['^BOVSP']\n",
    "acao_1 = ['ITUB3.SA']\n",
    "acao_2 = ['CSNA3.SA']\n",
    "acao_3 = ['VALE3.SA']\n",
    "acao_4 = ['PETR3.SA']\n",
    "\n",
    "acoes = [acao_1, acao_2,acao_3, acao_4]\n",
    "\n",
    "tabela = pd.DataFrame()\n",
    "for i in acoes:\n",
    "    tabela_acao = round(yf.download(i, start=data_i, end=data_f)['Adj Close'].resample('M').last(),2)\n",
    "    # tabela_acao['codigo'] = i\n",
    "    tabela = pd.concat([tabela, tabela_acao], axis=1)\n",
    "    print(tabela_acao.head(5))\n",
    "    \n",
    "    \n",
    "# mplt.figure(figsize=(8,8))\n",
    "\n",
    "\n",
    "\n",
    "\n"
   ]
  },
  {
   "cell_type": "code",
   "execution_count": 12,
   "metadata": {},
   "outputs": [
    {
     "name": "stderr",
     "output_type": "stream",
     "text": [
      "2023-11-27 21:14:51.946 \n",
      "  \u001b[33m\u001b[1mWarning:\u001b[0m to view this Streamlit app on a browser, run it with the following\n",
      "  command:\n",
      "\n",
      "    streamlit run C:\\Users\\Computadores Gamer\\AppData\\Roaming\\Python\\Python311\\site-packages\\ipykernel_launcher.py [ARGUMENTS]\n"
     ]
    },
    {
     "data": {
      "text/plain": [
       "DeltaGenerator()"
      ]
     },
     "execution_count": 12,
     "metadata": {},
     "output_type": "execute_result"
    }
   ],
   "source": [
    "grafico = px.line(tabela, title='Preço das ações')\n",
    "grafico.update_layout(width=800, height=500)\n"
   ]
  },
  {
   "cell_type": "code",
   "execution_count": 28,
   "metadata": {},
   "outputs": [
    {
     "name": "stdout",
     "output_type": "stream",
     "text": [
      "   x  y\n",
      "0  1  4\n",
      "1  2  5\n",
      "2  3  6\n"
     ]
    }
   ],
   "source": [
    "teste = pd.DataFrame({'a':[1,2,3],\n",
    "                      'b':[4,5,6]})\n",
    "\n",
    "teste.columns = ['x','y']\n",
    "\n",
    "\n",
    "print(teste)\n",
    "\n",
    "\n",
    "\n"
   ]
  },
  {
   "cell_type": "code",
   "execution_count": 47,
   "metadata": {},
   "outputs": [
    {
     "name": "stdout",
     "output_type": "stream",
     "text": [
      "[*********************100%***********************]  1 of 1 completed\n",
      "[*********************100%***********************]  1 of 1 completed\n",
      "[*********************100%***********************]  1 of 1 completed\n",
      "[*********************100%***********************]  1 of 1 completed\n",
      "[*********************100%***********************]  1 of 1 completed\n",
      "[*********************100%***********************]  1 of 1 completed\n",
      "PETR3.SA    0.048089\n",
      "PETR4.SA    0.048250\n",
      "AMER3.SA   -0.099863\n",
      "ARML3.SA   -0.007847\n",
      "ARZZ3.SA   -0.008922\n",
      "BALM4.SA   -0.020420\n",
      "dtype: float64\n",
      "          PETR3.SA  PETR4.SA  AMER3.SA  ARML3.SA  ARZZ3.SA  BALM4.SA\n",
      "PETR3.SA  0.007957  0.007566  0.006062  0.004080  0.005401  0.000083\n",
      "PETR4.SA  0.007566  0.007516  0.005638  0.003712  0.004970  0.000354\n",
      "AMER3.SA  0.006062  0.005638  0.043116  0.007346  0.006718  0.004831\n",
      "ARML3.SA  0.004080  0.003712  0.007346  0.025765  0.008674  0.008062\n",
      "ARZZ3.SA  0.005401  0.004970  0.006718  0.008674  0.011573  0.001991\n",
      "BALM4.SA  0.000083  0.000354  0.004831  0.008062  0.001991  0.010829\n"
     ]
    }
   ],
   "source": [
    "lista_acoes = ['PETR3.SA','PETR4.SA','AMER3.SA', 'ARML3.SA', 'ARZZ3.SA','BALM4.SA']\n",
    "data_i = '2020-11-01'\n",
    "data_f = '2023-11-01'\n",
    "\n",
    "tabela = pd.DataFrame()\n",
    "for i in lista_acoes:\n",
    "    tabela[f'{i}'] = round(yf.download(i, start=data_i, end=data_f)['Adj Close'].resample('M').last(),2)\n",
    "# print(tabela)\n",
    "\n",
    "\n",
    "tabela_retorn1 = tabela.pct_change().dropna()\n",
    "\n",
    "media_retorno = tabela_retorn1.mean()\n",
    "print(media_retorno)\n",
    "\n",
    "matriz_cov = tabela_retorn1.cov()\n",
    "print(matriz_cov)"
   ]
  },
  {
   "cell_type": "code",
   "execution_count": 63,
   "metadata": {},
   "outputs": [],
   "source": [
    "# tabelas pré-simulacao\n",
    "numero_portfolios = 1000\n",
    "tabela_retorn_esperados = np.zeros(numero_portfolios)\n",
    "tabela_volatilidade_esperada = np.zeros(numero_portfolios)\n",
    "tabela_sharpe = np.zeros(numero_portfolios)\n",
    "tabela_pesos = np.zeros((numero_portfolios, len(lista_acoes))) # numero de linhas seria cada portfolio e o numero de colunas seria o peso de cada acoa em 'lista_acoes'\n"
   ]
  },
  {
   "cell_type": "code",
   "execution_count": 64,
   "metadata": {},
   "outputs": [],
   "source": [
    "# simulacao\n",
    "for i in range(numero_portfolios):\n",
    "    pesos_aleatorios = np.random.random(len(lista_acoes)) # gera pesos aleatorio\n",
    "    pesos_aleatorios = pesos_aleatorios/np.sum(pesos_aleatorios) # descobre a porcentagem de cada peso sobre o total de pesos daquela linha\n",
    "    tabela_pesos[i,:] = pesos_aleatorios # completa uma linha e pula pra próxima até o numero total de portfolios\n",
    "    tabela_retorn_esperados[i] = np.sum(media_retorno * pesos_aleatorios * 252) \n",
    "    tabela_volatilidade_esperada[i] = np.sqrt(np.dot(pesos_aleatorios.T, np.dot(matriz_cov * 252, pesos_aleatorios))) # np.dot é o produto entre duas matrizes, linha x coluna\n",
    "    tabela_sharpe[i] = tabela_retorn_esperados[i] / tabela_volatilidade_esperada[i]\n",
    "\n",
    "\n"
   ]
  },
  {
   "cell_type": "code",
   "execution_count": 65,
   "metadata": {},
   "outputs": [
    {
     "data": {
      "text/plain": [
       "array([0.40636624, 0.3469428 , 0.00128885, 0.08760669, 0.12900641,\n",
       "       0.02878901])"
      ]
     },
     "execution_count": 65,
     "metadata": {},
     "output_type": "execute_result"
    }
   ],
   "source": [
    "# achando a melhor carteira, analisando o indice de sharpe\n",
    "indice_sharp_max = tabela_sharpe.argmax() # retorna o indice da linha onde esta o indice de sharpe maximo\n",
    "tabela_pesos[indice_sharp_max] # com isso pego a carteira (um dos portfolios) que apresenta a melhor relação entre retorno e risco que seria o indice de sharpe"
   ]
  },
  {
   "cell_type": "code",
   "execution_count": null,
   "metadata": {},
   "outputs": [],
   "source": [
    "fronteira_eficiente = np.linspace(tabela_retorn_esperados.min())\n"
   ]
  },
  {
   "cell_type": "code",
   "execution_count": 59,
   "metadata": {},
   "outputs": [
    {
     "data": {
      "text/plain": [
       "1.2984402460736135"
      ]
     },
     "execution_count": 59,
     "metadata": {},
     "output_type": "execute_result"
    }
   ],
   "source": []
  },
  {
   "cell_type": "code",
   "execution_count": 55,
   "metadata": {},
   "outputs": [
    {
     "data": {
      "text/plain": [
       "<matplotlib.collections.PathCollection at 0x1d53b222150>"
      ]
     },
     "execution_count": 55,
     "metadata": {},
     "output_type": "execute_result"
    },
    {
     "data": {
      "image/png": "[encoded data removed]",
      "text/plain": [
       "<Figure size 640x480 with 1 Axes>"
      ]
     },
     "metadata": {},
     "output_type": "display_data"
    }
   ],
   "source": [
    "mplt.scatter(tabela_retorn_esperados, tabela_volatilidade_esperada )"
   ]
  }
 ],
 "metadata": {
  "kernelspec": {
   "display_name": "Python 3",
   "language": "python",
   "name": "python3"
  },
  "language_info": {
   "codemirror_mode": {
    "name": "ipython",
    "version": 3
   },
   "file_extension": ".py",
   "mimetype": "text/x-python",
   "name": "python",
   "nbconvert_exporter": "python",
   "pygments_lexer": "ipython3",
   "version": "3.11.4"
  }
 },
 "nbformat": 4,
 "nbformat_minor": 2
}
