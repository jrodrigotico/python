{
 "cells": [
  {
   "cell_type": "code",
   "execution_count": 1,
   "metadata": {},
   "outputs": [],
   "source": [
    "# pacotes\n",
    "import pandas as pd\n",
    "import numpy as np\n",
    "import os\n",
    "import pdfplumber as pdfp\n",
    "import tabula\n",
    "import re\n",
    "import PyPDF2\n",
    "\n"
   ]
  },
  {
   "cell_type": "code",
   "execution_count": 6,
   "metadata": {},
   "outputs": [
    {
     "name": "stdout",
     "output_type": "stream",
     "text": [
      "C:\\Users\\Computadores Gamer\\OneDrive\\Área de Trabalho\\contas_ape\n"
     ]
    }
   ],
   "source": [
    "\n",
    "diretorio = r'C:\\Users\\Computadores Gamer\\OneDrive\\Área de Trabalho\\contas_ape'\n",
    "diretorio = diretorio.replace('\\\\', '/')\n",
    "os.chdir(diretorio)\n",
    "print(os.getcwd())"
   ]
  },
  {
   "cell_type": "code",
   "execution_count": 7,
   "metadata": {},
   "outputs": [
    {
     "name": "stdout",
     "output_type": "stream",
     "text": [
      "<pdfplumber.pdf.PDF object at 0x0000019EC819EDD0>\n"
     ]
    }
   ],
   "source": [
    "# ler boleto quinto andar\n",
    "boleto_quintoandar = r'C:\\Users\\Computadores Gamer\\OneDrive\\Área de Trabalho\\contas_ape\\boleto_quintoandar_0823.pdf'\n",
    "boleto_quintoandar = boleto_quintoandar.replace('\\\\','/')\n",
    "pdf_quintoandar = pdfp.open(boleto_quintoandar)\n",
    "print(pdf_quintoandar)"
   ]
  },
  {
   "cell_type": "code",
   "execution_count": 8,
   "metadata": {},
   "outputs": [
    {
     "name": "stdout",
     "output_type": "stream",
     "text": [
      "<Page:1>\n"
     ]
    }
   ],
   "source": [
    "# quantidade de paginas do boleto e selecionando a pagina a ser usada\n",
    "pdf_quintoandar.pages\n",
    "pagina = pdf_quintoandar.pages[0]\n",
    "print(pagina)"
   ]
  },
  {
   "cell_type": "code",
   "execution_count": 9,
   "metadata": {},
   "outputs": [
    {
     "data": {
      "text/plain": [
       "['Recibo do Pagador',\n",
       " '341-7 34191.09073 33218.790674 03922.160001 2 94670000311391',\n",
       " 'Pagador/CPF/CNPJ/Endereço',\n",
       " 'Mateus Rodrigues de Souza CPF/CNPJ: 067.390.056-80',\n",
       " 'Rua Graúna, 134 61, Vila Uberabinha, CEP: 04514-000 - São Paulo-SP',\n",
       " 'Pagador/Avalista:',\n",
       " 'Nosso Número Nº do Documento Data de Vencimento Valor do Documento (=) Valor Cobrado',\n",
       " '109/07332187-9-9 465616B308 08/09/2023 3113,91',\n",
       " 'Nome do Beneficiário/CPF/CNPJ/Endereço',\n",
       " 'QUINTO ANDAR SERVICOS IMOBILIARIOS LTDA CPF/CNPJ: 16.788.643/0001-81',\n",
       " 'Agência / Código do Beneficiário Autenticação Mecânica',\n",
       " '0670/39221-6',\n",
       " '341-7 34191.09073 33218.790674 03922.160001 2 94670000311391',\n",
       " 'Local de Pagamento Data de Vencimento',\n",
       " 'PAGÁVEL EM QUALQUER BANCO MESMO APÓS O VENCIMENTO 08/09/2023',\n",
       " 'Beneficiário/CPF/CNPJ Agência / Código do Beneficiário',\n",
       " 'QUINTO ANDAR SERVICOS IMOBILIARIOS LTDA CPF/CNPJ: 16.788.643/0001-81 0670/39221-6',\n",
       " 'Data do Documento Nr. do Documento Espécie Doc. Aceite Data de Processamento Nosso Número',\n",
       " '23/08/2023 465616B308 DM N 23/08/2023 109/07332187-9-9',\n",
       " 'Uso do Banco Carteira Espécie Moeda Quantidade Moeda Valor Moeda (=) Valor do Documento',\n",
       " '109 R$ 3113,91',\n",
       " 'Informações de Responsabilidade do Beneficiário (-) Desconto / Abatimento',\n",
       " 'COBRANCA REFERENTE AO IMOVEL 919616 - CONTRATO 465616',\n",
       " 'APOS VENCIMENTO COBRAR MULTA R$ 311,39 E JUROS 1,04 AO DIA (+) Mora / Multa',\n",
       " 'A razão social do QuintoAndar mudou para GRPQA',\n",
       " '(=) Valor Cobrado',\n",
       " 'Pagador/CPF/CNPJ/Endereço',\n",
       " 'Mateus Rodrigues de Souza CPF/CNPJ: 067.390.056-80',\n",
       " 'Rua Graúna, 134 61, Vila Uberabinha',\n",
       " 'CEP: 04514-000 - São Paulo-SP',\n",
       " 'Pagador/Avalista: Autenticação Mecânica Ficha de Compensação']"
      ]
     },
     "execution_count": 9,
     "metadata": {},
     "output_type": "execute_result"
    }
   ],
   "source": [
    "# extraindo texto da pagina que escolhi\n",
    "texto_quintoandar = pagina.extract_text().split('\\n')\n",
    "texto_quintoandar"
   ]
  },
  {
   "cell_type": "code",
   "execution_count": 10,
   "metadata": {},
   "outputs": [
    {
     "name": "stdout",
     "output_type": "stream",
     "text": [
      "109 R$ 3113,91\n",
      "20\n",
      "APOS VENCIMENTO COBRAR MULTA R$ 311,39 E JUROS 1,04 AO DIA (+) Mora / Multa\n",
      "23\n"
     ]
    }
   ],
   "source": [
    "# preciso dos parametros para pegar as linhas que quero, ou seja, passar no for loop o que eu quero q ele busque e me retorne\n",
    "# quero o valor e a data de vencimento, logo precisarei de 2 loops, um pra procurar o valor e o outro pra procurar a data de vcencimento e depois unir essas duas informações\n",
    "# pesquisar valor\n",
    "# aqui vou gerar uma frase que vai servir pra eu andar pra cima ou para baixo pra pegar o que quero que no caso é o valor da fatura e a data de vencimento\n",
    "for i in texto_quintoandar:\n",
    "    if 'R$' in i:\n",
    "        print(i)\n",
    "        indice = texto_quintoandar.index(i)\n",
    "        print(indice)\n",
    "\n"
   ]
  },
  {
   "cell_type": "code",
   "execution_count": 11,
   "metadata": {},
   "outputs": [
    {
     "name": "stdout",
     "output_type": "stream",
     "text": [
      "['109', 'R$', '3113,91']\n"
     ]
    }
   ],
   "source": [
    "# obtencao valor\n",
    "valor_quintoandar = texto_quintoandar[indice-3].split() # o indice é o 23, portanto preciso subir 3 linhas pra chegar no valor da fatura\n",
    "print(valor_quintoandar)"
   ]
  },
  {
   "cell_type": "code",
   "execution_count": 12,
   "metadata": {},
   "outputs": [
    {
     "data": {
      "text/plain": [
       "'3113,91'"
      ]
     },
     "execution_count": 12,
     "metadata": {},
     "output_type": "execute_result"
    }
   ],
   "source": [
    "# valor quinto andar\n",
    "valor_quintoandar[2]"
   ]
  },
  {
   "cell_type": "code",
   "execution_count": 13,
   "metadata": {},
   "outputs": [
    {
     "name": "stdout",
     "output_type": "stream",
     "text": [
      "['109/07332187-9-9', '465616B308', '08/09/2023', '3113,91']\n"
     ]
    }
   ],
   "source": [
    "# obtencao data de vencimento quinto andar\n",
    "data_lida = texto_quintoandar[indice-16].split() # o indice é o 23, portanto preciso subir 16 linhas pra chegar no valor da fatura\n",
    "print(data_lida)\n",
    "\n"
   ]
  },
  {
   "cell_type": "code",
   "execution_count": 14,
   "metadata": {},
   "outputs": [
    {
     "data": {
      "text/plain": [
       "'08/09/2023'"
      ]
     },
     "execution_count": 14,
     "metadata": {},
     "output_type": "execute_result"
    }
   ],
   "source": [
    "# data de vencimento quinto andar\n",
    "data_lida[2]"
   ]
  },
  {
   "cell_type": "code",
   "execution_count": 46,
   "metadata": {},
   "outputs": [
    {
     "name": "stdout",
     "output_type": "stream",
     "text": [
      "<pdfplumber.pdf.PDF object at 0x000001EC2FC755D0>\n"
     ]
    }
   ],
   "source": [
    "# ler boleto condominio\n",
    "boleto_condominio = r'C:\\Users\\Computadores Gamer\\OneDrive\\Área de Trabalho\\contas_ape\\boleto_condominio.pdf'\n",
    "boleto_condominio = boleto_condominio.replace('\\\\', '/')\n",
    "pdf_condominio = pdfp.open(boleto_condominio)\n",
    "print(pdf_condominio)"
   ]
  },
  {
   "cell_type": "code",
   "execution_count": 49,
   "metadata": {},
   "outputs": [
    {
     "name": "stdout",
     "output_type": "stream",
     "text": [
      "<Page:1>\n"
     ]
    }
   ],
   "source": [
    "# ler paginas \n",
    "pdf_condominio.pages\n",
    "pagina_condominio = pdf_condominio.pages[0]\n",
    "print(pagina_condominio) "
   ]
  },
  {
   "cell_type": "code",
   "execution_count": 77,
   "metadata": {},
   "outputs": [
    {
     "name": "stdout",
     "output_type": "stream",
     "text": [
      "['Recibo do Pagador', 'Sispac - Sistema Padrao De Administracao De Condominios', 'Ltda Vencimento 10/09/2023', 'Rua Constantino de Sousa, 1372 - Campo Belo', 'Valor Total R$ 1566.00', 'Cep: 04605003 - São Paulo - SP', 'Fone: (11) 5561-0464 Nr. Recibo 0799482', 'Site: https://cysne.com.br/ - E-mail: contato@sispac.com.br', 'AROSA', 'Condômino: PHILIPPE ANTOINE BEKMESSIAN E OUTRO Unidade: 061', 'Agência/Código Beneficiário Nosso Número (-) Desconto/Abatimento (+) Mora/Multa (=) Valor Cobrado', '0066/26867-3 109-00799482-2', 'CONDOMINIO SET/2023 R$ 1.380,00', 'F RESERVA SET/2023 R$ 74,00', '13o SALARIO /FÉRIAS SET/2023 R$ 97,00', 'RESCISAO SET/2023 R$ 10,00', 'DESPESAS CORREIO R$ 5,00', 'Esta quitação só terá validade após o pagamento do cheque pelo banco sacado. Autenticação', 'Mecânica Não serão aceitos pagamentos por DOC ou Depósito Bancário. Recibo do Pagador Caso', 'Autenticação Mecânica Recibo do Pagador', 'os mesmos sejam feitos não valerão como quitação para este recibo. Este recibo não quita débitos', 'anteriores.', 'ITAU 341-7 34191090087994822006062686730003494690000156600', 'Local do Pagamento Vencimento', 'Pagável em qualquer Banco até a Data de Vcto', '10/09/2023', 'Beneficiário Agência / Código Beneficiário', 'AROSA - CNPJ: 53.825.030/0001-01', '0066/26867-3', 'R. GRAUNA - São Paulo - SP - 04514000', 'Data Docto Número documento Espécie Doc. Aceite Data Processamento Nosso Número', '18/08/2023 109-00799482 RC N 18/08/2023 109-00799482-2', 'Uso Banco Carteira Espécie Moeda Valor ( = ) Valor do Documento', 'Qtde. Moeda', '109 R$ X 1.566,00', 'Instruções (Texto de Responsabilidade do Beneficiário) ( - ) Descontos', 'Após o Vencimento Multa de ........... R$31,32 ( - ) Outras Deduções', 'NÃO RECEBER APOS 30/09/2023', 'O PAGAMENTO DESTE BOLETO NÃO QUITA DEBITOS ANTERIORES ( + ) Mora / Multa / Juros', '( + ) Outros Acréscimos', '( = ) Valor Cobrado', 'Pagador PHILIPPE ANTOINE BEKMESSIAN E OUTRO Condomínio: AROSA', '01161520872 Unidade: 061', 'PRAÇA PANAMERICANA, 42 CJ. 12 Emissão: 799482', '05461-00 SÃO PAULO SP Recibo: 109-00799482', 'Sacador / Avalista', 'Autenticação Mecânica Ficha de Compensação', 'Rua Constantino de Sousa, 1372 - Campo Belo', 'CEP 04605003 - São Paulo - SP', 'Fone (11) 5561-0464', 'https://cysne.com.br/', 'PHILIPPE ANTOINE BEKMESSIAN E OUTRO 10/09/2023', 'PRAÇA PANAMERICANA, 42 CJ. 12 Unidade: 061', '05461-00 SÃO PAULO SP AROSA']\n"
     ]
    }
   ],
   "source": [
    "texto_boleto = pagina_condominio.extract_text().split('\\n')\n",
    "print(texto_boleto)"
   ]
  },
  {
   "cell_type": "code",
   "execution_count": 83,
   "metadata": {},
   "outputs": [
    {
     "name": "stdout",
     "output_type": "stream",
     "text": [
      "1566.00\n"
     ]
    }
   ],
   "source": [
    "# obtencao valor condominio\n",
    "valor_condominio = texto_boleto[4].split()[3]\n",
    "print(valor_condominio)\n"
   ]
  },
  {
   "cell_type": "code",
   "execution_count": 84,
   "metadata": {},
   "outputs": [
    {
     "data": {
      "text/plain": [
       "'10/09/2023'"
      ]
     },
     "execution_count": 84,
     "metadata": {},
     "output_type": "execute_result"
    }
   ],
   "source": [
    "# obtencao data de vencimento\n",
    "vencimento_condominio = texto_boleto[2].split()[2]\n",
    "print(vencimento_condominio)"
   ]
  },
  {
   "cell_type": "code",
   "execution_count": 89,
   "metadata": {},
   "outputs": [],
   "source": [
    "# ideia: tenho q pensar no decorrer dos meses e como deixar isso automatizado. Logo, posso escrever o nome com o mes de refrencia como 'boleto_condominio08' para agosto\n",
    "# preciso criar no codigo uma maneira de inputar o mes q estou e o resto do codigo importar apenas os boletos que cruzem com o mes q to inputando\n"
   ]
  }
 ],
 "metadata": {
  "kernelspec": {
   "display_name": "Python 3",
   "language": "python",
   "name": "python3"
  },
  "language_info": {
   "codemirror_mode": {
    "name": "ipython",
    "version": 3
   },
   "file_extension": ".py",
   "mimetype": "text/x-python",
   "name": "python",
   "nbconvert_exporter": "python",
   "pygments_lexer": "ipython3",
   "version": "3.11.4"
  },
  "orig_nbformat": 4
 },
 "nbformat": 4,
 "nbformat_minor": 2
}
