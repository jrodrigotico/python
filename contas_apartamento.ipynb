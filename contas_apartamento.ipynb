{
 "cells": [
  {
   "cell_type": "code",
   "execution_count": 23,
   "metadata": {},
   "outputs": [
    {
     "ename": "ImportError",
     "evalue": "cannot import name 'read_pdf' from 'tabula' (c:\\Users\\JoãoPinheiro\\AppData\\Local\\Programs\\Python\\Python311\\Lib\\site-packages\\tabula\\__init__.py)",
     "output_type": "error",
     "traceback": [
      "\u001b[1;31m---------------------------------------------------------------------------\u001b[0m",
      "\u001b[1;31mImportError\u001b[0m                               Traceback (most recent call last)",
      "Cell \u001b[1;32mIn[23], line 10\u001b[0m\n\u001b[0;32m      7\u001b[0m \u001b[39mimport\u001b[39;00m \u001b[39mre\u001b[39;00m\n\u001b[0;32m      8\u001b[0m \u001b[39mimport\u001b[39;00m \u001b[39mPyPDF2\u001b[39;00m\n\u001b[1;32m---> 10\u001b[0m \u001b[39mfrom\u001b[39;00m \u001b[39mtabula\u001b[39;00m \u001b[39mimport\u001b[39;00m read_pdf\n",
      "\u001b[1;31mImportError\u001b[0m: cannot import name 'read_pdf' from 'tabula' (c:\\Users\\JoãoPinheiro\\AppData\\Local\\Programs\\Python\\Python311\\Lib\\site-packages\\tabula\\__init__.py)"
     ]
    }
   ],
   "source": [
    "# pacotes\n",
    "import pandas as pd\n",
    "import numpy as np\n",
    "import os\n",
    "import pdfplumber as pdfp\n",
    "import tabula\n",
    "import re\n",
    "import PyPDF2\n",
    "\n"
   ]
  },
  {
   "cell_type": "code",
   "execution_count": 7,
   "metadata": {},
   "outputs": [
    {
     "name": "stdout",
     "output_type": "stream",
     "text": [
      "C:\\Users\\JoãoPinheiro\\OneDrive - CTI Global\\Área de Trabalho\\contas ape\n"
     ]
    }
   ],
   "source": [
    "\n",
    "diretorio = r'C:\\Users\\JoãoPinheiro\\OneDrive - CTI Global\\Área de Trabalho\\contas ape'\n",
    "diretorio = diretorio.replace('\\\\', '/')\n",
    "os.chdir(diretorio)\n",
    "print( os.getcwd())"
   ]
  },
  {
   "cell_type": "code",
   "execution_count": 12,
   "metadata": {},
   "outputs": [
    {
     "data": {
      "text/plain": [
       "<pdfplumber.pdf.PDF at 0x158ecb35710>"
      ]
     },
     "execution_count": 12,
     "metadata": {},
     "output_type": "execute_result"
    }
   ],
   "source": [
    "# ler boleto quinto andar\n",
    "boleto_quintoandar = r'\\Users\\JoãoPinheiro\\OneDrive - CTI Global\\Área de Trabalho\\contas ape\\boleto_quintoandar.pdf'\n",
    "boleto_quintoandar = boleto_quintoandar.replace('\\\\','/')\n",
    "pdf_quintoandar = pdfp.open(boleto_quintoandar)\n",
    "print(pdf_quintoandar)"
   ]
  },
  {
   "cell_type": "code",
   "execution_count": 11,
   "metadata": {},
   "outputs": [
    {
     "data": {
      "text/plain": [
       "[<Page:1>]"
      ]
     },
     "execution_count": 11,
     "metadata": {},
     "output_type": "execute_result"
    }
   ],
   "source": [
    "# quantidade de paginas do boleto e selecionando a pagina a ser usada\n",
    "pdf_quintoandar.pages\n",
    "pagina = pdf_quintoandar.pages[0]\n",
    "print(pagina)"
   ]
  },
  {
   "cell_type": "code",
   "execution_count": 15,
   "metadata": {},
   "outputs": [
    {
     "data": {
      "text/plain": [
       "['Recibo do Pagador',\n",
       " '341-7 34191.09073 33218.790674 03922.160001 2 94670000311391',\n",
       " 'Pagador/CPF/CNPJ/Endereço',\n",
       " 'Mateus Rodrigues de Souza CPF/CNPJ: 067.390.056-80',\n",
       " 'Rua Graúna, 134 61, Vila Uberabinha, CEP: 04514-000 - São Paulo-SP',\n",
       " 'Pagador/Avalista:',\n",
       " 'Nosso Número Nº do Documento Data de Vencimento Valor do Documento (=) Valor Cobrado',\n",
       " '109/07332187-9-9 465616B308 08/09/2023 3113,91',\n",
       " 'Nome do Beneficiário/CPF/CNPJ/Endereço',\n",
       " 'QUINTO ANDAR SERVICOS IMOBILIARIOS LTDA CPF/CNPJ: 16.788.643/0001-81',\n",
       " 'Agência / Código do Beneficiário Autenticação Mecânica',\n",
       " '0670/39221-6',\n",
       " '341-7 34191.09073 33218.790674 03922.160001 2 94670000311391',\n",
       " 'Local de Pagamento Data de Vencimento',\n",
       " 'PAGÁVEL EM QUALQUER BANCO MESMO APÓS O VENCIMENTO 08/09/2023',\n",
       " 'Beneficiário/CPF/CNPJ Agência / Código do Beneficiário',\n",
       " 'QUINTO ANDAR SERVICOS IMOBILIARIOS LTDA CPF/CNPJ: 16.788.643/0001-81 0670/39221-6',\n",
       " 'Data do Documento Nr. do Documento Espécie Doc. Aceite Data de Processamento Nosso Número',\n",
       " '23/08/2023 465616B308 DM N 23/08/2023 109/07332187-9-9',\n",
       " 'Uso do Banco Carteira Espécie Moeda Quantidade Moeda Valor Moeda (=) Valor do Documento',\n",
       " '109 R$ 3113,91',\n",
       " 'Informações de Responsabilidade do Beneficiário (-) Desconto / Abatimento',\n",
       " 'COBRANCA REFERENTE AO IMOVEL 919616 - CONTRATO 465616',\n",
       " 'APOS VENCIMENTO COBRAR MULTA R$ 311,39 E JUROS 1,04 AO DIA (+) Mora / Multa',\n",
       " 'A razão social do QuintoAndar mudou para GRPQA',\n",
       " '(=) Valor Cobrado',\n",
       " 'Pagador/CPF/CNPJ/Endereço',\n",
       " 'Mateus Rodrigues de Souza CPF/CNPJ: 067.390.056-80',\n",
       " 'Rua Graúna, 134 61, Vila Uberabinha',\n",
       " 'CEP: 04514-000 - São Paulo-SP',\n",
       " 'Pagador/Avalista: Autenticação Mecânica Ficha de Compensação']"
      ]
     },
     "execution_count": 15,
     "metadata": {},
     "output_type": "execute_result"
    }
   ],
   "source": [
    "# extraindo texto da pagina que escolhi\n",
    "texto_quintoandar = pagina.extract_text().split('\\n')\n",
    "texto_quintoandar"
   ]
  },
  {
   "cell_type": "code",
   "execution_count": 40,
   "metadata": {},
   "outputs": [
    {
     "name": "stdout",
     "output_type": "stream",
     "text": [
      "Nosso Número Nº do Documento Data de Vencimento Valor do Documento (=) Valor Cobrado\n",
      "6\n",
      "Local de Pagamento Data de Vencimento\n",
      "13\n"
     ]
    }
   ],
   "source": [
    "# preciso dos parametros para pegar as linhas que quero, ou seja, passar no for loop o que eu quero q ele busque e me retorne\n",
    "# quero o valor e a data de vencimento, logo precisarei de 2 loops, um pra procurar o valor e o outro pra procurar a data de vcencimento e depois unir essas duas informações\n",
    "# pesquisar valor\n",
    "# for i in texto_quintoandar:\n",
    "#     if 'R$' in i:\n",
    "#         print(i)\n",
    "#         indice = texto_quintoandar.index(i)\n",
    "#         print(indice)\n",
    "\n",
    "\n",
    "# pesquisar data de vencimento\n",
    "for i in texto_quintoandar:\n",
    "    if 'Vencimento' in i:\n",
    "        print(i)\n",
    "        indice_data = texto_quintoandar.index(i)\n",
    "        print(indice_data)\n"
   ]
  },
  {
   "cell_type": "code",
   "execution_count": 37,
   "metadata": {},
   "outputs": [
    {
     "name": "stdout",
     "output_type": "stream",
     "text": [
      "['APOS', 'VENCIMENTO', 'COBRAR', 'MULTA', 'R$', '311,39', 'E', 'JUROS', '1,04', 'AO', 'DIA', '(+)', 'Mora', '/', 'Multa']\n",
      "['A', 'razão', 'social', 'do', 'QuintoAndar', 'mudou', 'para', 'GRPQA']\n"
     ]
    }
   ],
   "source": [
    "dados_lidos = texto_quintoandar[indice].split()\n",
    "valor_lido = texto_quintoandar[indice+1].split()\n",
    "print(dados_lidos)\n",
    "print(valor_lido)"
   ]
  }
 ],
 "metadata": {
  "kernelspec": {
   "display_name": "Python 3",
   "language": "python",
   "name": "python3"
  },
  "language_info": {
   "codemirror_mode": {
    "name": "ipython",
    "version": 3
   },
   "file_extension": ".py",
   "mimetype": "text/x-python",
   "name": "python",
   "nbconvert_exporter": "python",
   "pygments_lexer": "ipython3",
   "version": "3.11.4"
  },
  "orig_nbformat": 4
 },
 "nbformat": 4,
 "nbformat_minor": 2
}
