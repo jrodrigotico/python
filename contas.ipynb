{
 "cells": [
  {
   "cell_type": "code",
   "execution_count": 1,
   "metadata": {},
   "outputs": [],
   "source": [
    "import pandas as pd\n",
    "import numpy as np\n",
    "import os\n",
    "import pdfplumber as pdfp\n",
    "import tabula\n",
    "import re\n",
    "import PyPDF2\n",
    "import requests\n",
    "import datetime\n",
    "from datetime import datetime"
   ]
  },
  {
   "cell_type": "code",
   "execution_count": 2,
   "metadata": {},
   "outputs": [
    {
     "name": "stdout",
     "output_type": "stream",
     "text": [
      "C:\\Users\\Computadores Gamer\\OneDrive\\Área de Trabalho\\contas_ape\n"
     ]
    }
   ],
   "source": [
    "# diretório\n",
    "diretorio = r'C:\\Users\\Computadores Gamer\\OneDrive\\Área de Trabalho\\contas_ape'\n",
    "diretorio = diretorio.replace('\\\\','/')\n",
    "os.chdir(diretorio)\n",
    "\n",
    "print(os.getcwd())"
   ]
  },
  {
   "cell_type": "code",
   "execution_count": 4,
   "metadata": {},
   "outputs": [
    {
     "data": {
      "text/plain": [
       "['boleto_condominio_0823.pdf',\n",
       " 'boleto_enel_0823.pdf',\n",
       " 'boleto_quintoandar_0823.pdf',\n",
       " 'contas_apartamento.ipynb']"
      ]
     },
     "execution_count": 4,
     "metadata": {},
     "output_type": "execute_result"
    }
   ],
   "source": [
    "# arquivos\n",
    "arquivos = os.listdir()\n",
    "arquivos"
   ]
  },
  {
   "cell_type": "code",
   "execution_count": 5,
   "metadata": {},
   "outputs": [
    {
     "name": "stdout",
     "output_type": "stream",
     "text": [
      "['boleto_condominio_0823.pdf', 'boleto_enel_0823.pdf', 'boleto_quintoandar_0823.pdf']\n"
     ]
    }
   ],
   "source": [
    "# parametros para donwload do arquivos (mês e ano)\n",
    "ano = '23'\n",
    "mes = '8'\n",
    "\n",
    "# selecao dos arquivos de acordo com os parâmetros\n",
    "arquivos_corretos = []\n",
    "for i in arquivos:\n",
    "    if i[:-4].endswith(mes + ano):\n",
    "        arquivos_corretos.append(i)\n",
    "\n",
    "print(arquivos_corretos)\n"
   ]
  },
  {
   "cell_type": "code",
   "execution_count": 6,
   "metadata": {},
   "outputs": [
    {
     "data": {
      "text/plain": [
       "{'boleto_condominio_0823.pdf': <pdfplumber.pdf.PDF at 0x297504bffd0>,\n",
       " 'boleto_enel_0823.pdf': <pdfplumber.pdf.PDF at 0x297504ce490>,\n",
       " 'boleto_quintoandar_0823.pdf': <pdfplumber.pdf.PDF at 0x297504cf390>}"
      ]
     },
     "execution_count": 6,
     "metadata": {},
     "output_type": "execute_result"
    }
   ],
   "source": [
    "# download dos arquivos\n",
    "dic = {}\n",
    "\n",
    "for indice, i in enumerate(arquivos_corretos):\n",
    "    nome_variavel = f'{i}'\n",
    "    dic[nome_variavel] = pdfp.open(i)\n",
    "dic\n"
   ]
  },
  {
   "cell_type": "code",
   "execution_count": 17,
   "metadata": {},
   "outputs": [
    {
     "data": {
      "text/plain": [
       "dict_keys(['boleto_condominio_0823.pdf', 'boleto_enel_0823.pdf', 'boleto_quintoandar_0823.pdf'])"
      ]
     },
     "execution_count": 17,
     "metadata": {},
     "output_type": "execute_result"
    }
   ],
   "source": [
    "dic.keys()\n"
   ]
  },
  {
   "cell_type": "code",
   "execution_count": 42,
   "metadata": {},
   "outputs": [
    {
     "name": "stdout",
     "output_type": "stream",
     "text": [
      "boleto nao encontrado\n"
     ]
    }
   ],
   "source": [
    "# ler determinada conta. As paginas ja estao pré determinadas, visto que é sempre o mesmo documento, a única coisa que muda é o valor\n",
    "\n",
    "# paginas\n",
    "# boleto_condominio_0823.pdf, pagina 0\n",
    "# boleto_enel_0823.pdf, pagina 1\n",
    "# boleto_quintoandar_0823.pdf, pagina 0\n",
    "\n",
    "# extrair texto\n",
    "# boleto_condominio_0823.pdf, \n",
    "# boleto_enel_0823.pdf, pagina 1\n",
    "# boleto_quintoandar_0823.pdf, pagina 0\n",
    "dic.keys()\n",
    "\n",
    "# for i in dic.keys():\n",
    "#     dic[i].pages\n",
    "#     print(i)\n",
    "\n",
    "param_teste =''\n",
    "\n",
    "if param_teste=='quinto_andar':\n",
    "    pagina_imob = dic['boleto_quintoandar_0823.pdf'].pages\n",
    "elif param_teste=='enel':\n",
    "    pagina_enel = dic['boleto_enel_0823.pdf'].pages\n",
    "elif param_teste=='condominio':\n",
    "    pagina_cond = dic['boleto_condominio_0823.pdf'].pages\n",
    "else:\n",
    "    print('boleto nao encontrado')\n",
    "\n",
    "\n",
    "    \n",
    "\n",
    "\n"
   ]
  },
  {
   "cell_type": "code",
   "execution_count": 29,
   "metadata": {},
   "outputs": [
    {
     "ename": "NameError",
     "evalue": "name 'boleto_condominio' is not defined",
     "output_type": "error",
     "traceback": [
      "\u001b[1;31m---------------------------------------------------------------------------\u001b[0m",
      "\u001b[1;31mNameError\u001b[0m                                 Traceback (most recent call last)",
      "\u001b[1;32mc:\\Users\\Computadores Gamer\\OneDrive\\Documentos\\codigos importantes\\python\\contas.ipynb Cell 8\u001b[0m line \u001b[0;36m2\n\u001b[0;32m      <a href='vscode-notebook-cell:/c%3A/Users/Computadores%20Gamer/OneDrive/Documentos/codigos%20importantes/python/contas.ipynb#W6sZmlsZQ%3D%3D?line=0'>1</a>\u001b[0m \u001b[39m# paginas a serem lidas - condominio\u001b[39;00m\n\u001b[1;32m----> <a href='vscode-notebook-cell:/c%3A/Users/Computadores%20Gamer/OneDrive/Documentos/codigos%20importantes/python/contas.ipynb#W6sZmlsZQ%3D%3D?line=1'>2</a>\u001b[0m boleto_condominio\u001b[39m.\u001b[39mpages\n\u001b[0;32m      <a href='vscode-notebook-cell:/c%3A/Users/Computadores%20Gamer/OneDrive/Documentos/codigos%20importantes/python/contas.ipynb#W6sZmlsZQ%3D%3D?line=2'>3</a>\u001b[0m pagina_condominio \u001b[39m=\u001b[39m boleto_condominio\u001b[39m.\u001b[39mpages[\u001b[39m0\u001b[39m]\n\u001b[0;32m      <a href='vscode-notebook-cell:/c%3A/Users/Computadores%20Gamer/OneDrive/Documentos/codigos%20importantes/python/contas.ipynb#W6sZmlsZQ%3D%3D?line=3'>4</a>\u001b[0m \u001b[39mprint\u001b[39m(pagina_condominio)\n",
      "\u001b[1;31mNameError\u001b[0m: name 'boleto_condominio' is not defined"
     ]
    }
   ],
   "source": [
    "# paginas a serem lidas - condominio\n",
    "boleto_condominio.pages\n",
    "pagina_condominio = boleto_condominio.pages[0]\n",
    "print(pagina_condominio)"
   ]
  },
  {
   "cell_type": "code",
   "execution_count": null,
   "metadata": {},
   "outputs": [],
   "source": [
    "# extraindo texto - boleto condominio\n",
    "texto_condominio = pagina_condominio.extract_text().split('\\n')\n",
    "texto_condominio\n"
   ]
  },
  {
   "cell_type": "code",
   "execution_count": null,
   "metadata": {},
   "outputs": [],
   "source": [
    "# linhas a serem lidas\n",
    "for i in texto_condominio:\n",
    "    if 'CONDOMINIO' in i:\n",
    "        print (i)\n",
    "        indice = texto_condominio.index(i)\n",
    "        print(indice)"
   ]
  },
  {
   "cell_type": "code",
   "execution_count": null,
   "metadata": {},
   "outputs": [],
   "source": [
    "# obtencao do valor_condominio\n",
    "valor_condominio = texto_condominio[indice].split()[3] # como há um indice só nao preciso movimentar esse indice\n",
    "valor_condominio = valor_condominio.replace('.','')\n",
    "valor_condominio = valor_condominio.replace(',','.')\n",
    "valor_condominio = float(valor_condominio)\n",
    "\n",
    "print(pagina_condominio)"
   ]
  },
  {
   "cell_type": "code",
   "execution_count": null,
   "metadata": {},
   "outputs": [],
   "source": [
    "for i in texto_condominio:\n",
    "    if 'Vencimento' in i:\n",
    "        print (i)\n",
    "        indice = texto_condominio.index(i)\n",
    "        print(indice)"
   ]
  },
  {
   "cell_type": "code",
   "execution_count": null,
   "metadata": {},
   "outputs": [],
   "source": [
    "vencimento_condominio = texto_condominio[indice-34].split()[2] # o ultimo indice é o 36, portanto preciso subir 34 linhas pra chegar no valor da fatura do indice 2\n",
    "vencimento_condominio = datetime.strptime(vencimento_condominio, '%d/%m/%Y')\n",
    "vencimento_condominio = vencimento_condominio.date() # arrancar o horário\n",
    "\n",
    "print(vencimento_condominio)"
   ]
  },
  {
   "cell_type": "code",
   "execution_count": null,
   "metadata": {},
   "outputs": [],
   "source": [
    "# paginas - boleto enel\n",
    "boleto_enel.pages\n",
    "pagina_enel = boleto_enel.pages[1]\n",
    "print(pagina_enel)"
   ]
  },
  {
   "cell_type": "code",
   "execution_count": null,
   "metadata": {},
   "outputs": [],
   "source": [
    "# extraindo texto - boleto enel\n",
    "texto_enel = pagina_enel.extract_text().split('\\n')\n",
    "texto_enel"
   ]
  },
  {
   "cell_type": "code",
   "execution_count": null,
   "metadata": {},
   "outputs": [],
   "source": [
    "# verificando onde esta o valor\n",
    "for i in texto_enel:\n",
    "    if 'BENEFÍCIOS ' in i:\n",
    "        print(i)\n",
    "        indice_enel = texto_enel.index(i)\n",
    "        print(indice_enel)\n",
    "    \n",
    "\n",
    "    "
   ]
  },
  {
   "cell_type": "code",
   "execution_count": null,
   "metadata": {},
   "outputs": [],
   "source": [
    "# chegando na linha do valor da fatura e extraindo o valor\n",
    "valor_enel = texto_enel[indice_enel-3].split(' ')\n",
    "valor_enel = valor_enel[4].replace(',','.')\n",
    "valor_enel = float(valor_enel)"
   ]
  },
  {
   "cell_type": "code",
   "execution_count": null,
   "metadata": {},
   "outputs": [],
   "source": [
    "# data de vencimento - boleto enel\n",
    "vencimento_enel = texto_enel[indice_enel-3].split(' ')\n"
   ]
  },
  {
   "cell_type": "code",
   "execution_count": null,
   "metadata": {},
   "outputs": [],
   "source": [
    "# paginas - quinto andar\n",
    "boleto_quintoandar.pages\n",
    "pagina_quintoandar = boleto_quintoandar.pages[0]\n",
    "pagina_quintoandar"
   ]
  },
  {
   "cell_type": "code",
   "execution_count": null,
   "metadata": {},
   "outputs": [],
   "source": [
    "# extraindo texto - boleto quinto andar\n",
    "texto_quintoandar = pagina_quintoandar.extract_text().split('\\n')\n",
    "texto_quintoandar"
   ]
  },
  {
   "cell_type": "code",
   "execution_count": null,
   "metadata": {},
   "outputs": [],
   "source": [
    "# verifica onde esta o valor - boleto quinto andar\n",
    "for i in texto_quintoandar:\n",
    "    if 'R$' in i:\n",
    "        print (i)\n",
    "        indice_quintoandar = texto_quintoandar.index(i)\n",
    "        print(indice_quintoandar)"
   ]
  },
  {
   "cell_type": "code",
   "execution_count": null,
   "metadata": {},
   "outputs": [],
   "source": [
    "# linha do valor boleto quinto andar\n",
    "valor_quintoandar = texto_quintoandar[indice_quintoandar-3].split(' ')\n",
    "valor_quintoandar = float(valor_quintoandar[2].replace(',','.'))\n",
    "valor_quintoandar"
   ]
  },
  {
   "cell_type": "code",
   "execution_count": null,
   "metadata": {},
   "outputs": [],
   "source": [
    "# tabela contas\n",
    "# valor_condominio, valor_enel, valor_quintoandar\n",
    "soma_contas = valor_condominio+valor_enel+valor_quintoandar\n",
    "\n",
    "contas = {'condominio':[valor_condominio],\n",
    "          'energia':[valor_enel],\n",
    "          'quinto andar':[valor_quintoandar],\n",
    "          'soma':[soma_contas]}\n",
    "\n",
    "tabela_contas = pd.DataFrame(contas)\n",
    "tabela_contas\n",
    "\n",
    "\n"
   ]
  },
  {
   "cell_type": "code",
   "execution_count": null,
   "metadata": {},
   "outputs": [],
   "source": [
    "\n"
   ]
  }
 ],
 "metadata": {
  "kernelspec": {
   "display_name": "Python 3",
   "language": "python",
   "name": "python3"
  },
  "language_info": {
   "codemirror_mode": {
    "name": "ipython",
    "version": 3
   },
   "file_extension": ".py",
   "mimetype": "text/x-python",
   "name": "python",
   "nbconvert_exporter": "python",
   "pygments_lexer": "ipython3",
   "version": "3.11.4"
  },
  "orig_nbformat": 4
 },
 "nbformat": 4,
 "nbformat_minor": 2
}
