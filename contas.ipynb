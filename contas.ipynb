{
 "cells": [
  {
   "cell_type": "code",
   "execution_count": null,
   "metadata": {},
   "outputs": [],
   "source": [
    "import pandas as pd\n",
    "import numpy as np\n",
    "import os\n",
    "import pdfplumber as pdfp\n",
    "import tabula\n",
    "import re\n",
    "import PyPDF2\n",
    "import requests\n",
    "import datetime\n",
    "from datetime import datetime"
   ]
  },
  {
   "cell_type": "code",
   "execution_count": null,
   "metadata": {},
   "outputs": [],
   "source": [
    "# diretório\n",
    "diretorio = r'C:\\Users\\Computadores Gamer\\OneDrive\\Área de Trabalho\\contas_ape'\n",
    "diretorio = diretorio.replace('\\\\','/')\n",
    "os.chdir(diretorio)\n",
    "\n",
    "print(os.getcwd())"
   ]
  },
  {
   "cell_type": "code",
   "execution_count": null,
   "metadata": {},
   "outputs": [],
   "source": [
    "# arquivos\n",
    "arquivos = os.listdir()\n",
    "print(arquivos)"
   ]
  },
  {
   "cell_type": "code",
   "execution_count": null,
   "metadata": {},
   "outputs": [],
   "source": [
    "# parametros para donwload do arquivos (mês e ano)\n",
    "ano = '23'\n",
    "mes = '8'\n",
    "\n",
    "# selecao dos arquivos de acordo com os parâmetros\n",
    "arquivos_corretos = []\n",
    "for i in arquivos:\n",
    "    if i[:-4].endswith(mes + ano):\n",
    "        arquivos_corretos.append(i)\n",
    "\n",
    "print(arquivos_corretos)\n"
   ]
  },
  {
   "cell_type": "code",
   "execution_count": null,
   "metadata": {},
   "outputs": [],
   "source": [
    "# download dos arquivos (precisa melhorar, como vou saber que o arquivo 1 é o boleto_enel?)\n",
    "boleto_condominio = pdfp.open(arquivos_corretos[0])    \n",
    "boleto_enel = pdfp.open(arquivos_corretos[1])  \n",
    "boleto_quintoandar = pdfp.open(arquivos_corretos[2])  \n",
    "\n",
    "\n",
    "# arquivos_baixados = []\n",
    "# for arquivo in arquivos_corretos:\n",
    "#     with open(arquivo, 'rb') as file:\n",
    "#         nome_variavel = 'conteudo_' + arquivo.split('.')[0]  # atribui o nome da variável a partir do nome do arquivo\n",
    "#         conteudo = file.read()\n",
    "#         globals()[nome_variavel] = conteudo  # atribui o conteúdo do arquivo à variável global com o nome adequado\n",
    "#         arquivos_baixados.append(nome_variavel)\n",
    "\n",
    "# print(arquivos_baixados)"
   ]
  },
  {
   "cell_type": "code",
   "execution_count": null,
   "metadata": {},
   "outputs": [],
   "source": [
    "# paginas a serem lidas - condominio\n",
    "boleto_condominio.pages\n",
    "pagina_condominio = boleto_condominio.pages[0]\n",
    "print(pagina_condominio)"
   ]
  },
  {
   "cell_type": "code",
   "execution_count": null,
   "metadata": {},
   "outputs": [],
   "source": [
    "# extraindo texto - boleto condominio\n",
    "texto_condominio = pagina_condominio.extract_text().split('\\n')\n",
    "texto_condominio\n"
   ]
  },
  {
   "cell_type": "code",
   "execution_count": null,
   "metadata": {},
   "outputs": [],
   "source": [
    "# linhas a serem lidas\n",
    "for i in texto_condominio:\n",
    "    if 'CONDOMINIO' in i:\n",
    "        print (i)\n",
    "        indice = texto_condominio.index(i)\n",
    "        print(indice)"
   ]
  },
  {
   "cell_type": "code",
   "execution_count": null,
   "metadata": {},
   "outputs": [],
   "source": [
    "# obtencao do valor_condominio\n",
    "valor_condominio = texto_condominio[indice].split()[3] # como há um indice só nao preciso movimentar esse indice\n",
    "valor_condominio = valor_condominio.replace('.','')\n",
    "valor_condominio = valor_condominio.replace(',','.')\n",
    "valor_condominio = float(valor_condominio)\n",
    "\n",
    "print(pagina_condominio)"
   ]
  },
  {
   "cell_type": "code",
   "execution_count": null,
   "metadata": {},
   "outputs": [],
   "source": [
    "for i in texto_condominio:\n",
    "    if 'Vencimento' in i:\n",
    "        print (i)\n",
    "        indice = texto_condominio.index(i)\n",
    "        print(indice)"
   ]
  },
  {
   "cell_type": "code",
   "execution_count": null,
   "metadata": {},
   "outputs": [],
   "source": [
    "vencimento_condominio = texto_condominio[indice-34].split()[2] # o ultimo indice é o 36, portanto preciso subir 34 linhas pra chegar no valor da fatura do indice 2\n",
    "vencimento_condominio = datetime.strptime(vencimento_condominio, '%d/%m/%Y')\n",
    "vencimento_condominio = vencimento_condominio.date() # arrancar o horário\n",
    "\n",
    "print(vencimento_condominio)"
   ]
  },
  {
   "cell_type": "code",
   "execution_count": null,
   "metadata": {},
   "outputs": [],
   "source": [
    "# paginas - boleto enel\n",
    "boleto_enel.pages\n",
    "pagina_enel = boleto_enel.pages[1]\n",
    "print(pagina_enel)"
   ]
  },
  {
   "cell_type": "code",
   "execution_count": null,
   "metadata": {},
   "outputs": [],
   "source": [
    "# extraindo texto - boleto enel\n",
    "texto_enel = pagina_enel.extract_text().split('\\n')\n",
    "texto_enel"
   ]
  },
  {
   "cell_type": "code",
   "execution_count": null,
   "metadata": {},
   "outputs": [],
   "source": [
    "# verificando onde esta o valor\n",
    "for i in texto_enel:\n",
    "    if 'BENEFÍCIOS ' in i:\n",
    "        print(i)\n",
    "        indice_enel = texto_enel.index(i)\n",
    "        print(indice_enel)\n",
    "    \n",
    "\n",
    "    "
   ]
  },
  {
   "cell_type": "code",
   "execution_count": null,
   "metadata": {},
   "outputs": [],
   "source": [
    "# chegando na linha do valor da fatura e extraindo o valor\n",
    "valor_enel = texto_enel[indice_enel-3].split(' ')\n",
    "valor_enel = valor_enel[4].replace(',','.')\n",
    "valor_enel = float(valor_enel)"
   ]
  },
  {
   "cell_type": "code",
   "execution_count": null,
   "metadata": {},
   "outputs": [],
   "source": [
    "# data de vencimento - boleto enel\n",
    "vencimento_enel = texto_enel[indice_enel-3].split(' ')\n"
   ]
  },
  {
   "cell_type": "code",
   "execution_count": null,
   "metadata": {},
   "outputs": [],
   "source": [
    "# paginas - quinto andar\n",
    "boleto_quintoandar.pages\n",
    "pagina_quintoandar = boleto_quintoandar.pages[0]\n",
    "pagina_quintoandar"
   ]
  },
  {
   "cell_type": "code",
   "execution_count": null,
   "metadata": {},
   "outputs": [],
   "source": [
    "# extraindo texto - boleto quinto andar\n",
    "texto_quintoandar = pagina_quintoandar.extract_text().split('\\n')\n",
    "texto_quintoandar"
   ]
  },
  {
   "cell_type": "code",
   "execution_count": null,
   "metadata": {},
   "outputs": [],
   "source": [
    "# verifica onde esta o valor - boleto quinto andar\n",
    "for i in texto_quintoandar:\n",
    "    if 'R$' in i:\n",
    "        print (i)\n",
    "        indice_quintoandar = texto_quintoandar.index(i)\n",
    "        print(indice_quintoandar)"
   ]
  },
  {
   "cell_type": "code",
   "execution_count": null,
   "metadata": {},
   "outputs": [],
   "source": [
    "# linha do valor boleto quinto andar\n",
    "valor_quintoandar = texto_quintoandar[indice_quintoandar-3].split(' ')\n",
    "valor_quintoandar = float(valor_quintoandar[2].replace(',','.'))\n",
    "valor_quintoandar"
   ]
  },
  {
   "cell_type": "code",
   "execution_count": null,
   "metadata": {},
   "outputs": [],
   "source": [
    "# tabela contas\n",
    "# valor_condominio, valor_enel, valor_quintoandar\n",
    "soma_contas = valor_condominio+valor_enel+valor_quintoandar\n",
    "\n",
    "contas = {'condominio':[valor_condominio],\n",
    "          'energia':[valor_enel],\n",
    "          'quinto andar':[valor_quintoandar],\n",
    "          'soma':[soma_contas]}\n",
    "\n",
    "tabela_contas = pd.DataFrame(contas)\n",
    "tabela_contas\n",
    "\n",
    "\n"
   ]
  },
  {
   "cell_type": "code",
   "execution_count": null,
   "metadata": {},
   "outputs": [],
   "source": [
    "\n"
   ]
  }
 ],
 "metadata": {
  "kernelspec": {
   "display_name": "Python 3",
   "language": "python",
   "name": "python3"
  },
  "language_info": {
   "codemirror_mode": {
    "name": "ipython",
    "version": 3
   },
   "file_extension": ".py",
   "mimetype": "text/x-python",
   "name": "python",
   "nbconvert_exporter": "python",
   "pygments_lexer": "ipython3",
   "version": "3.11.4"
  },
  "orig_nbformat": 4
 },
 "nbformat": 4,
 "nbformat_minor": 2
}
