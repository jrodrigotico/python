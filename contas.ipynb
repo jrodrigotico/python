{
 "cells": [
  {
   "cell_type": "code",
   "execution_count": 1,
   "metadata": {},
   "outputs": [],
   "source": [
    "import pandas as pd\n",
    "import numpy as np\n",
    "import os\n",
    "import pdfplumber as pdfp\n",
    "import tabula\n",
    "import re\n",
    "import PyPDF2\n",
    "import requests\n",
    "import datetime\n",
    "from datetime import datetime"
   ]
  },
  {
   "cell_type": "code",
   "execution_count": 2,
   "metadata": {},
   "outputs": [
    {
     "name": "stdout",
     "output_type": "stream",
     "text": [
      "C:\\Users\\Computadores Gamer\\OneDrive\\Área de Trabalho\\contas_ape\n"
     ]
    }
   ],
   "source": [
    "# diretório\n",
    "diretorio = r'C:\\Users\\Computadores Gamer\\OneDrive\\Área de Trabalho\\contas_ape'\n",
    "diretorio = diretorio.replace('\\\\','/')\n",
    "os.chdir(diretorio)\n",
    "\n",
    "print(os.getcwd())"
   ]
  },
  {
   "cell_type": "code",
   "execution_count": 3,
   "metadata": {},
   "outputs": [
    {
     "name": "stdout",
     "output_type": "stream",
     "text": [
      "['boleto_condominio_0823.pdf', 'boleto_enel_0823.pdf', 'boleto_quintoandar_0823.pdf', 'contas_apartamento.ipynb']\n"
     ]
    }
   ],
   "source": [
    "# arquivos\n",
    "arquivos = os.listdir()\n",
    "print(arquivos)"
   ]
  },
  {
   "cell_type": "code",
   "execution_count": 19,
   "metadata": {},
   "outputs": [
    {
     "name": "stdout",
     "output_type": "stream",
     "text": [
      "['boleto_condominio_0823.pdf', 'boleto_enel_0823.pdf', 'boleto_quintoandar_0823.pdf']\n"
     ]
    }
   ],
   "source": [
    "# parametros para donwload do arquivos (mês e ano)\n",
    "ano = '23'\n",
    "mes = '8'\n",
    "\n",
    "# selecao dos arquivos de acordo com os parâmetros\n",
    "arquivos_corretos = []\n",
    "for i in arquivos:\n",
    "    if i[:-4].endswith(mes + ano):\n",
    "        arquivos_corretos.append(i)\n",
    "\n",
    "print(arquivos_corretos)\n"
   ]
  },
  {
   "cell_type": "code",
   "execution_count": 20,
   "metadata": {},
   "outputs": [
    {
     "data": {
      "text/plain": [
       "{'boleto_condominio_0823.pdf': <pdfplumber.pdf.PDF at 0x296dfea7610>,\n",
       " 'boleto_enel_0823.pdf': <pdfplumber.pdf.PDF at 0x296e01dbe50>,\n",
       " 'boleto_quintoandar_0823.pdf': <pdfplumber.pdf.PDF at 0x296e01da950>}"
      ]
     },
     "execution_count": 20,
     "metadata": {},
     "output_type": "execute_result"
    }
   ],
   "source": [
    "# download dos arquivos\n",
    "dic = {}\n",
    "\n",
    "for indice, i in enumerate(arquivos_corretos):\n",
    "    nome_variavel = f'{i}'\n",
    "    dic[nome_variavel] = pdfp.open(i)\n",
    "dic\n"
   ]
  },
  {
   "cell_type": "code",
   "execution_count": null,
   "metadata": {},
   "outputs": [],
   "source": [
    "# ler determinada conta. As paginas ja estao pré determinadas, visto que é sempre o mesmo documento, a única coisa que muda é o valor\n",
    "\n",
    "# paginas\n",
    "# boleto_condominio, pagina 0\n",
    "# boleto_enel, pagina 1\n",
    "# boleto_quintoandar, pagina 0\n",
    "\n",
    "# extrair texto\n",
    "# boleto_condominio, \n",
    "# boleto_enel, pagina 1\n",
    "# boleto_quintoandar, pagina 0\n",
    "\n"
   ]
  },
  {
   "cell_type": "code",
   "execution_count": 65,
   "metadata": {},
   "outputs": [
    {
     "name": "stdout",
     "output_type": "stream",
     "text": [
      "<Page:1>\n"
     ]
    }
   ],
   "source": [
    "# paginas a serem lidas - condominio\n",
    "boleto_condominio.pages\n",
    "pagina_condominio = boleto_condominio.pages[0]\n",
    "print(pagina_condominio)"
   ]
  },
  {
   "cell_type": "code",
   "execution_count": 66,
   "metadata": {},
   "outputs": [
    {
     "data": {
      "text/plain": [
       "['Recibo do Pagador',\n",
       " 'Sispac - Sistema Padrao De Administracao De Condominios',\n",
       " 'Ltda Vencimento 10/09/2023',\n",
       " 'Rua Constantino de Sousa, 1372 - Campo Belo',\n",
       " 'Valor Total R$ 1566.00',\n",
       " 'Cep: 04605003 - São Paulo - SP',\n",
       " 'Fone: (11) 5561-0464 Nr. Recibo 0799482',\n",
       " 'Site: https://cysne.com.br/ - E-mail: contato@sispac.com.br',\n",
       " 'AROSA',\n",
       " 'Condômino: PHILIPPE ANTOINE BEKMESSIAN E OUTRO Unidade: 061',\n",
       " 'Agência/Código Beneficiário Nosso Número (-) Desconto/Abatimento (+) Mora/Multa (=) Valor Cobrado',\n",
       " '0066/26867-3 109-00799482-2',\n",
       " 'CONDOMINIO SET/2023 R$ 1.380,00',\n",
       " 'F RESERVA SET/2023 R$ 74,00',\n",
       " '13o SALARIO /FÉRIAS SET/2023 R$ 97,00',\n",
       " 'RESCISAO SET/2023 R$ 10,00',\n",
       " 'DESPESAS CORREIO R$ 5,00',\n",
       " 'Esta quitação só terá validade após o pagamento do cheque pelo banco sacado. Autenticação',\n",
       " 'Mecânica Não serão aceitos pagamentos por DOC ou Depósito Bancário. Recibo do Pagador Caso',\n",
       " 'Autenticação Mecânica Recibo do Pagador',\n",
       " 'os mesmos sejam feitos não valerão como quitação para este recibo. Este recibo não quita débitos',\n",
       " 'anteriores.',\n",
       " 'ITAU 341-7 34191090087994822006062686730003494690000156600',\n",
       " 'Local do Pagamento Vencimento',\n",
       " 'Pagável em qualquer Banco até a Data de Vcto',\n",
       " '10/09/2023',\n",
       " 'Beneficiário Agência / Código Beneficiário',\n",
       " 'AROSA - CNPJ: 53.825.030/0001-01',\n",
       " '0066/26867-3',\n",
       " 'R. GRAUNA - São Paulo - SP - 04514000',\n",
       " 'Data Docto Número documento Espécie Doc. Aceite Data Processamento Nosso Número',\n",
       " '18/08/2023 109-00799482 RC N 18/08/2023 109-00799482-2',\n",
       " 'Uso Banco Carteira Espécie Moeda Valor ( = ) Valor do Documento',\n",
       " 'Qtde. Moeda',\n",
       " '109 R$ X 1.566,00',\n",
       " 'Instruções (Texto de Responsabilidade do Beneficiário) ( - ) Descontos',\n",
       " 'Após o Vencimento Multa de ........... R$31,32 ( - ) Outras Deduções',\n",
       " 'NÃO RECEBER APOS 30/09/2023',\n",
       " 'O PAGAMENTO DESTE BOLETO NÃO QUITA DEBITOS ANTERIORES ( + ) Mora / Multa / Juros',\n",
       " '( + ) Outros Acréscimos',\n",
       " '( = ) Valor Cobrado',\n",
       " 'Pagador PHILIPPE ANTOINE BEKMESSIAN E OUTRO Condomínio: AROSA',\n",
       " '01161520872 Unidade: 061',\n",
       " 'PRAÇA PANAMERICANA, 42 CJ. 12 Emissão: 799482',\n",
       " '05461-00 SÃO PAULO SP Recibo: 109-00799482',\n",
       " 'Sacador / Avalista',\n",
       " 'Autenticação Mecânica Ficha de Compensação',\n",
       " 'Rua Constantino de Sousa, 1372 - Campo Belo',\n",
       " 'CEP 04605003 - São Paulo - SP',\n",
       " 'Fone (11) 5561-0464',\n",
       " 'https://cysne.com.br/',\n",
       " 'PHILIPPE ANTOINE BEKMESSIAN E OUTRO 10/09/2023',\n",
       " 'PRAÇA PANAMERICANA, 42 CJ. 12 Unidade: 061',\n",
       " '05461-00 SÃO PAULO SP AROSA']"
      ]
     },
     "execution_count": 66,
     "metadata": {},
     "output_type": "execute_result"
    }
   ],
   "source": [
    "# extraindo texto - boleto condominio\n",
    "texto_condominio = pagina_condominio.extract_text().split('\\n')\n",
    "texto_condominio\n"
   ]
  },
  {
   "cell_type": "code",
   "execution_count": 67,
   "metadata": {},
   "outputs": [
    {
     "name": "stdout",
     "output_type": "stream",
     "text": [
      "CONDOMINIO SET/2023 R$ 1.380,00\n",
      "12\n"
     ]
    }
   ],
   "source": [
    "# linhas a serem lidas\n",
    "for i in texto_condominio:\n",
    "    if 'CONDOMINIO' in i:\n",
    "        print (i)\n",
    "        indice = texto_condominio.index(i)\n",
    "        print(indice)"
   ]
  },
  {
   "cell_type": "code",
   "execution_count": 68,
   "metadata": {},
   "outputs": [
    {
     "name": "stdout",
     "output_type": "stream",
     "text": [
      "<Page:1>\n"
     ]
    }
   ],
   "source": [
    "# obtencao do valor_condominio\n",
    "valor_condominio = texto_condominio[indice].split()[3] # como há um indice só nao preciso movimentar esse indice\n",
    "valor_condominio = valor_condominio.replace('.','')\n",
    "valor_condominio = valor_condominio.replace(',','.')\n",
    "valor_condominio = float(valor_condominio)\n",
    "\n",
    "print(pagina_condominio)"
   ]
  },
  {
   "cell_type": "code",
   "execution_count": 69,
   "metadata": {},
   "outputs": [
    {
     "name": "stdout",
     "output_type": "stream",
     "text": [
      "Ltda Vencimento 10/09/2023\n",
      "2\n",
      "Local do Pagamento Vencimento\n",
      "23\n",
      "Após o Vencimento Multa de ........... R$31,32 ( - ) Outras Deduções\n",
      "36\n"
     ]
    }
   ],
   "source": [
    "for i in texto_condominio:\n",
    "    if 'Vencimento' in i:\n",
    "        print (i)\n",
    "        indice = texto_condominio.index(i)\n",
    "        print(indice)"
   ]
  },
  {
   "cell_type": "code",
   "execution_count": 70,
   "metadata": {},
   "outputs": [
    {
     "name": "stdout",
     "output_type": "stream",
     "text": [
      "2023-09-10\n"
     ]
    }
   ],
   "source": [
    "vencimento_condominio = texto_condominio[indice-34].split()[2] # o ultimo indice é o 36, portanto preciso subir 34 linhas pra chegar no valor da fatura do indice 2\n",
    "vencimento_condominio = datetime.strptime(vencimento_condominio, '%d/%m/%Y')\n",
    "vencimento_condominio = vencimento_condominio.date() # arrancar o horário\n",
    "\n",
    "print(vencimento_condominio)"
   ]
  },
  {
   "cell_type": "code",
   "execution_count": 71,
   "metadata": {},
   "outputs": [
    {
     "name": "stdout",
     "output_type": "stream",
     "text": [
      "<Page:2>\n"
     ]
    }
   ],
   "source": [
    "# paginas - boleto enel\n",
    "boleto_enel.pages\n",
    "pagina_enel = boleto_enel.pages[1]\n",
    "print(pagina_enel)"
   ]
  },
  {
   "cell_type": "code",
   "execution_count": 72,
   "metadata": {},
   "outputs": [
    {
     "data": {
      "text/plain": [
       "['2',\n",
       " '- Segunda via de fatura',\n",
       " '25 AGO 2023 AGO 2023 12 SET 2023',\n",
       " 'PREFEITURA DO MUNICÍPIO 0800 77 90 156',\n",
       " '- CLIENTE, PAGUE PREFERENCIALMENTE NOS CANAIS',\n",
       " 'ELETRÔNICOS',\n",
       " '- CADASTRE SUA FATURA EM DÉBITO AUTOMÁTICO',\n",
       " 'UTILIZANDO O NUMERO DA CONTA CONFORME EXIBIDO',\n",
       " 'AO LADO',\n",
       " '- CONTRIBUA COM O MEIO AMBIENTE, SEJA DIGITAL E',\n",
       " 'SOLICITE O RECEBIMENTO DE SUA FATURA POR E-MAIL E',\n",
       " 'ECONOMIZE PAPEL. ACESSE NOSSO',\n",
       " '502916928898 25 AGO 2023 AGO 2023',\n",
       " '52170381 12 SET 2023 202,62',\n",
       " 'MATEUS RODRIGUES DE SOUZA',\n",
       " '- ENCARGOS POR ATRASO SERÃO COBRADOS NA PRÓXIMA FATURA',\n",
       " '- APROVEITE OS BENEFÍCIOS DO DÉBITO AUTOMÁTICO',\n",
       " '836100000022 026200481005 073999787317 002192878284']"
      ]
     },
     "execution_count": 72,
     "metadata": {},
     "output_type": "execute_result"
    }
   ],
   "source": [
    "# extraindo texto - boleto enel\n",
    "texto_enel = pagina_enel.extract_text().split('\\n')\n",
    "texto_enel"
   ]
  },
  {
   "cell_type": "code",
   "execution_count": 73,
   "metadata": {},
   "outputs": [
    {
     "name": "stdout",
     "output_type": "stream",
     "text": [
      "- APROVEITE OS BENEFÍCIOS DO DÉBITO AUTOMÁTICO\n",
      "16\n"
     ]
    }
   ],
   "source": [
    "# verificando onde esta o valor\n",
    "for i in texto_enel:\n",
    "    if 'BENEFÍCIOS ' in i:\n",
    "        print(i)\n",
    "        indice_enel = texto_enel.index(i)\n",
    "        print(indice_enel)\n",
    "    \n",
    "\n",
    "    "
   ]
  },
  {
   "cell_type": "code",
   "execution_count": 74,
   "metadata": {},
   "outputs": [],
   "source": [
    "# chegando na linha do valor da fatura e extraindo o valor\n",
    "valor_enel = texto_enel[indice_enel-3].split(' ')\n",
    "valor_enel = valor_enel[4].replace(',','.')\n",
    "valor_enel = float(valor_enel)"
   ]
  },
  {
   "cell_type": "code",
   "execution_count": 75,
   "metadata": {},
   "outputs": [],
   "source": [
    "# data de vencimento - boleto enel\n",
    "vencimento_enel = texto_enel[indice_enel-3].split(' ')\n"
   ]
  },
  {
   "cell_type": "code",
   "execution_count": 76,
   "metadata": {},
   "outputs": [
    {
     "data": {
      "text/plain": [
       "<Page:1>"
      ]
     },
     "execution_count": 76,
     "metadata": {},
     "output_type": "execute_result"
    }
   ],
   "source": [
    "# paginas - quinto andar\n",
    "boleto_quintoandar.pages\n",
    "pagina_quintoandar = boleto_quintoandar.pages[0]\n",
    "pagina_quintoandar"
   ]
  },
  {
   "cell_type": "code",
   "execution_count": 77,
   "metadata": {},
   "outputs": [
    {
     "data": {
      "text/plain": [
       "['Recibo do Pagador',\n",
       " '341-7 34191.09073 33218.790674 03922.160001 2 94670000311391',\n",
       " 'Pagador/CPF/CNPJ/Endereço',\n",
       " 'Mateus Rodrigues de Souza CPF/CNPJ: 067.390.056-80',\n",
       " 'Rua Graúna, 134 61, Vila Uberabinha, CEP: 04514-000 - São Paulo-SP',\n",
       " 'Pagador/Avalista:',\n",
       " 'Nosso Número Nº do Documento Data de Vencimento Valor do Documento (=) Valor Cobrado',\n",
       " '109/07332187-9-9 465616B308 08/09/2023 3113,91',\n",
       " 'Nome do Beneficiário/CPF/CNPJ/Endereço',\n",
       " 'QUINTO ANDAR SERVICOS IMOBILIARIOS LTDA CPF/CNPJ: 16.788.643/0001-81',\n",
       " 'Agência / Código do Beneficiário Autenticação Mecânica',\n",
       " '0670/39221-6',\n",
       " '341-7 34191.09073 33218.790674 03922.160001 2 94670000311391',\n",
       " 'Local de Pagamento Data de Vencimento',\n",
       " 'PAGÁVEL EM QUALQUER BANCO MESMO APÓS O VENCIMENTO 08/09/2023',\n",
       " 'Beneficiário/CPF/CNPJ Agência / Código do Beneficiário',\n",
       " 'QUINTO ANDAR SERVICOS IMOBILIARIOS LTDA CPF/CNPJ: 16.788.643/0001-81 0670/39221-6',\n",
       " 'Data do Documento Nr. do Documento Espécie Doc. Aceite Data de Processamento Nosso Número',\n",
       " '23/08/2023 465616B308 DM N 23/08/2023 109/07332187-9-9',\n",
       " 'Uso do Banco Carteira Espécie Moeda Quantidade Moeda Valor Moeda (=) Valor do Documento',\n",
       " '109 R$ 3113,91',\n",
       " 'Informações de Responsabilidade do Beneficiário (-) Desconto / Abatimento',\n",
       " 'COBRANCA REFERENTE AO IMOVEL 919616 - CONTRATO 465616',\n",
       " 'APOS VENCIMENTO COBRAR MULTA R$ 311,39 E JUROS 1,04 AO DIA (+) Mora / Multa',\n",
       " 'A razão social do QuintoAndar mudou para GRPQA',\n",
       " '(=) Valor Cobrado',\n",
       " 'Pagador/CPF/CNPJ/Endereço',\n",
       " 'Mateus Rodrigues de Souza CPF/CNPJ: 067.390.056-80',\n",
       " 'Rua Graúna, 134 61, Vila Uberabinha',\n",
       " 'CEP: 04514-000 - São Paulo-SP',\n",
       " 'Pagador/Avalista: Autenticação Mecânica Ficha de Compensação']"
      ]
     },
     "execution_count": 77,
     "metadata": {},
     "output_type": "execute_result"
    }
   ],
   "source": [
    "# extraindo texto - boleto quinto andar\n",
    "texto_quintoandar = pagina_quintoandar.extract_text().split('\\n')\n",
    "texto_quintoandar"
   ]
  },
  {
   "cell_type": "code",
   "execution_count": 78,
   "metadata": {},
   "outputs": [
    {
     "name": "stdout",
     "output_type": "stream",
     "text": [
      "109 R$ 3113,91\n",
      "20\n",
      "APOS VENCIMENTO COBRAR MULTA R$ 311,39 E JUROS 1,04 AO DIA (+) Mora / Multa\n",
      "23\n"
     ]
    }
   ],
   "source": [
    "# verifica onde esta o valor - boleto quinto andar\n",
    "for i in texto_quintoandar:\n",
    "    if 'R$' in i:\n",
    "        print (i)\n",
    "        indice_quintoandar = texto_quintoandar.index(i)\n",
    "        print(indice_quintoandar)"
   ]
  },
  {
   "cell_type": "code",
   "execution_count": 79,
   "metadata": {},
   "outputs": [
    {
     "data": {
      "text/plain": [
       "3113.91"
      ]
     },
     "execution_count": 79,
     "metadata": {},
     "output_type": "execute_result"
    }
   ],
   "source": [
    "# linha do valor boleto quinto andar\n",
    "valor_quintoandar = texto_quintoandar[indice_quintoandar-3].split(' ')\n",
    "valor_quintoandar = float(valor_quintoandar[2].replace(',','.'))\n",
    "valor_quintoandar"
   ]
  },
  {
   "cell_type": "code",
   "execution_count": 80,
   "metadata": {},
   "outputs": [
    {
     "data": {
      "text/html": [
       "<div>\n",
       "<style scoped>\n",
       "    .dataframe tbody tr th:only-of-type {\n",
       "        vertical-align: middle;\n",
       "    }\n",
       "\n",
       "    .dataframe tbody tr th {\n",
       "        vertical-align: top;\n",
       "    }\n",
       "\n",
       "    .dataframe thead th {\n",
       "        text-align: right;\n",
       "    }\n",
       "</style>\n",
       "<table border=\"1\" class=\"dataframe\">\n",
       "  <thead>\n",
       "    <tr style=\"text-align: right;\">\n",
       "      <th></th>\n",
       "      <th>condominio</th>\n",
       "      <th>energia</th>\n",
       "      <th>quinto andar</th>\n",
       "      <th>soma</th>\n",
       "    </tr>\n",
       "  </thead>\n",
       "  <tbody>\n",
       "    <tr>\n",
       "      <th>0</th>\n",
       "      <td>1380.0</td>\n",
       "      <td>202.62</td>\n",
       "      <td>3113.91</td>\n",
       "      <td>4696.53</td>\n",
       "    </tr>\n",
       "  </tbody>\n",
       "</table>\n",
       "</div>"
      ],
      "text/plain": [
       "   condominio  energia  quinto andar     soma\n",
       "0      1380.0   202.62       3113.91  4696.53"
      ]
     },
     "execution_count": 80,
     "metadata": {},
     "output_type": "execute_result"
    }
   ],
   "source": [
    "# tabela contas\n",
    "# valor_condominio, valor_enel, valor_quintoandar\n",
    "soma_contas = valor_condominio+valor_enel+valor_quintoandar\n",
    "\n",
    "contas = {'condominio':[valor_condominio],\n",
    "          'energia':[valor_enel],\n",
    "          'quinto andar':[valor_quintoandar],\n",
    "          'soma':[soma_contas]}\n",
    "\n",
    "tabela_contas = pd.DataFrame(contas)\n",
    "tabela_contas\n",
    "\n",
    "\n"
   ]
  },
  {
   "cell_type": "code",
   "execution_count": null,
   "metadata": {},
   "outputs": [],
   "source": [
    "\n"
   ]
  }
 ],
 "metadata": {
  "kernelspec": {
   "display_name": "Python 3",
   "language": "python",
   "name": "python3"
  },
  "language_info": {
   "codemirror_mode": {
    "name": "ipython",
    "version": 3
   },
   "file_extension": ".py",
   "mimetype": "text/x-python",
   "name": "python",
   "nbconvert_exporter": "python",
   "pygments_lexer": "ipython3",
   "version": "3.11.4"
  },
  "orig_nbformat": 4
 },
 "nbformat": 4,
 "nbformat_minor": 2
}
