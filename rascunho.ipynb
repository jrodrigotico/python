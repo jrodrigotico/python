{
 "cells": [
  {
   "cell_type": "code",
   "execution_count": 2,
   "metadata": {},
   "outputs": [],
   "source": [
    "import pandas as pd\n",
    "import yfinance as yf\n",
    "import pandas_datareader as pdr\n",
    "import numpy as np\n",
    "import matplotlib.pyplot as mplt\n",
    "import seaborn as sn\n",
    "import datetime\n",
    "import streamlit as st\n",
    "import os\n",
    "import plotly.express as px\n",
    "import plotly.colors as pcolors\n",
    "import plotly.graph_objects as go\n",
    "from scipy.optimize import minimize\n",
    "from yahooquery import Ticker\n",
    "import re"
   ]
  },
  {
   "cell_type": "code",
   "execution_count": null,
   "metadata": {},
   "outputs": [],
   "source": [
    "acoes = pd.read_csv('https://raw.githubusercontent.com/jrodrigotico/python/projeto_acoes/base_completa_acoes_subsetor.csv', sep=';')[['Código','Subsetor Bovespa']]\n",
    "acoes"
   ]
  },
  {
   "cell_type": "code",
   "execution_count": null,
   "metadata": {},
   "outputs": [],
   "source": [
    "acoes = pd.read_csv('https://raw.githubusercontent.com/jrodrigotico/python/projeto_acoes/base_completa_acoes_subsetor.csv', sep=';')[['Código','Subsetor Bovespa']]\n",
    "subsetor =  sorted(acoes['Subsetor Bovespa'].unique())\n",
    "filtro_subsetor = acoes.loc[acoes['Subsetor Bovespa'].isin(subsetor)].iloc[:,0] # esse iloc retorna as acoes de determinado subsetor que foi anteriormente selecionado, é zero pq o 0 representa a coluna de códigos que é o que eu desejo que retorne\n",
    "\n",
    "selecionar_acoes = 'Selecione ações', sorted(filtro_subsetor + '.SA')\n",
    "selecionar_acoes"
   ]
  },
  {
   "cell_type": "code",
   "execution_count": null,
   "metadata": {},
   "outputs": [],
   "source": [
    "acoes = pd.read_csv('https://raw.githubusercontent.com/jrodrigotico/python/projeto_acoes/base_completa_acoes_subsetor.csv', sep=';')[['Código','Subsetor Bovespa']]\n",
    "acoes = acoes[acoes['Código'].apply(lambda x: len(str(x))==5)]\n",
    "acoes.info()\n"
   ]
  },
  {
   "cell_type": "code",
   "execution_count": null,
   "metadata": {},
   "outputs": [],
   "source": [
    "selic = pd.read_csv('https://raw.githubusercontent.com/jrodrigotico/python/projeto_acoes/selic.csv', sep=';')\n",
    "selic['Data'] = pd.to_datetime(selic['Data'])\n",
    "# selic = selic.loc[(selic['Data']>= '2013-01-16') & (selic['Data']<= '2013-01-17')]\n",
    "\n",
    "# selic = selic.loc[(selic['Data']>= '16/01/2013') & (selic['Data']<= '21/01/2013')]\n"
   ]
  },
  {
   "cell_type": "code",
   "execution_count": 21,
   "metadata": {},
   "outputs": [
    {
     "name": "stdout",
     "output_type": "stream",
     "text": [
      "[*********************100%%**********************]  1 of 1 completed"
     ]
    },
    {
     "name": "stderr",
     "output_type": "stream",
     "text": [
      "\n",
      "1 Failed download:\n",
      "['CRTE3.SA']: Exception('%ticker%: No timezone found, symbol may be delisted')\n"
     ]
    },
    {
     "name": "stdout",
     "output_type": "stream",
     "text": [
      "\n",
      "[*********************100%%**********************]  1 of 1 completed\n"
     ]
    }
   ],
   "source": [
    "ticker1 = 'CRTE3.SA'\n",
    "ticker2 = 'PETR3.SA'\n",
    "data_i = '2014-03-01'\n",
    "data_f = '2023-04-03'\n",
    "\n",
    "tabela_acao1 = round(yf.download(ticker1, start=data_i, end=data_f)[\"Adj Close\"].rename(ticker1),2)\n",
    "tabela_acao2 = round(yf.download(ticker2, start=data_i, end=data_f)[\"Adj Close\"].rename(ticker2),2)\n",
    "\n",
    "tabela_final= pd.concat([tabela_acao1,tabela_acao2], ignore_index=True, axis=1)\n",
    "tabela_final = tabela_final.fillna(0)\n"
   ]
  },
  {
   "cell_type": "code",
   "execution_count": 19,
   "metadata": {},
   "outputs": [
    {
     "data": {
      "text/plain": [
       "Timestamp('2014-03-05 00:00:00')"
      ]
     },
     "execution_count": 19,
     "metadata": {},
     "output_type": "execute_result"
    }
   ],
   "source": [
    "tabela_final.first_valid_index()"
   ]
  },
  {
   "cell_type": "code",
   "execution_count": 3,
   "metadata": {},
   "outputs": [
    {
     "data": {
      "text/plain": [
       "['COTAHIST_A2022.TXT']"
      ]
     },
     "execution_count": 3,
     "metadata": {},
     "output_type": "execute_result"
    }
   ],
   "source": [
    "os.chdir('C:/Users/Computadores Gamer/OneDrive/Área de Trabalho/python/cotacoes_historicas_b3')\n",
    "os.listdir()"
   ]
  },
  {
   "cell_type": "code",
   "execution_count": 13,
   "metadata": {},
   "outputs": [
    {
     "ename": "FileNotFoundError",
     "evalue": "[Errno 2] No such file or directory: 'COTAHIST_A2022.txt'",
     "output_type": "error",
     "traceback": [
      "\u001b[1;31m---------------------------------------------------------------------------\u001b[0m",
      "\u001b[1;31mFileNotFoundError\u001b[0m                         Traceback (most recent call last)",
      "Cell \u001b[1;32mIn[13], line 1\u001b[0m\n\u001b[1;32m----> 1\u001b[0m \u001b[38;5;28;01mwith\u001b[39;00m \u001b[38;5;28;43mopen\u001b[39;49m\u001b[43m(\u001b[49m\u001b[38;5;124;43m'\u001b[39;49m\u001b[38;5;124;43mCOTAHIST_A2022.txt\u001b[39;49m\u001b[38;5;124;43m'\u001b[39;49m\u001b[43m)\u001b[49m \u001b[38;5;28;01mas\u001b[39;00m teste:\n\u001b[0;32m      2\u001b[0m     conteudo \u001b[38;5;241m=\u001b[39m teste\u001b[38;5;241m.\u001b[39mread()\n",
      "File \u001b[1;32m~\\AppData\\Roaming\\Python\\Python311\\site-packages\\IPython\\core\\interactiveshell.py:284\u001b[0m, in \u001b[0;36m_modified_open\u001b[1;34m(file, *args, **kwargs)\u001b[0m\n\u001b[0;32m    277\u001b[0m \u001b[38;5;28;01mif\u001b[39;00m file \u001b[38;5;129;01min\u001b[39;00m {\u001b[38;5;241m0\u001b[39m, \u001b[38;5;241m1\u001b[39m, \u001b[38;5;241m2\u001b[39m}:\n\u001b[0;32m    278\u001b[0m     \u001b[38;5;28;01mraise\u001b[39;00m \u001b[38;5;167;01mValueError\u001b[39;00m(\n\u001b[0;32m    279\u001b[0m         \u001b[38;5;124mf\u001b[39m\u001b[38;5;124m\"\u001b[39m\u001b[38;5;124mIPython won\u001b[39m\u001b[38;5;124m'\u001b[39m\u001b[38;5;124mt let you open fd=\u001b[39m\u001b[38;5;132;01m{\u001b[39;00mfile\u001b[38;5;132;01m}\u001b[39;00m\u001b[38;5;124m by default \u001b[39m\u001b[38;5;124m\"\u001b[39m\n\u001b[0;32m    280\u001b[0m         \u001b[38;5;124m\"\u001b[39m\u001b[38;5;124mas it is likely to crash IPython. If you know what you are doing, \u001b[39m\u001b[38;5;124m\"\u001b[39m\n\u001b[0;32m    281\u001b[0m         \u001b[38;5;124m\"\u001b[39m\u001b[38;5;124myou can use builtins\u001b[39m\u001b[38;5;124m'\u001b[39m\u001b[38;5;124m open.\u001b[39m\u001b[38;5;124m\"\u001b[39m\n\u001b[0;32m    282\u001b[0m     )\n\u001b[1;32m--> 284\u001b[0m \u001b[38;5;28;01mreturn\u001b[39;00m \u001b[43mio_open\u001b[49m\u001b[43m(\u001b[49m\u001b[43mfile\u001b[49m\u001b[43m,\u001b[49m\u001b[43m \u001b[49m\u001b[38;5;241;43m*\u001b[39;49m\u001b[43margs\u001b[49m\u001b[43m,\u001b[49m\u001b[43m \u001b[49m\u001b[38;5;241;43m*\u001b[39;49m\u001b[38;5;241;43m*\u001b[39;49m\u001b[43mkwargs\u001b[49m\u001b[43m)\u001b[49m\n",
      "\u001b[1;31mFileNotFoundError\u001b[0m: [Errno 2] No such file or directory: 'COTAHIST_A2022.txt'"
     ]
    }
   ],
   "source": [
    "with open('COTAHIST_A2022.txt') as teste:\n",
    "    conteudo = teste.read()\n"
   ]
  },
  {
   "cell_type": "code",
   "execution_count": 24,
   "metadata": {},
   "outputs": [
    {
     "name": "stdout",
     "output_type": "stream",
     "text": [
      "[*********************100%%**********************]  1 of 1 completed\n",
      "[*********************100%%**********************]  1 of 1 completed\n",
      "[*********************100%%**********************]  1 of 1 completed"
     ]
    },
    {
     "name": "stderr",
     "output_type": "stream",
     "text": [
      "\n",
      "1 Failed download:\n",
      "['QVQP3.SA']: Exception('%ticker%: No timezone found, symbol may be delisted')\n"
     ]
    },
    {
     "name": "stdout",
     "output_type": "stream",
     "text": [
      "\n",
      "[*********************100%%**********************]  1 of 1 completed\n",
      "[*********************100%%**********************]  1 of 1 completed\n",
      "[*********************100%%**********************]  1 of 1 completed\n",
      "[*********************100%%**********************]  1 of 1 completed\n",
      "[*********************100%%**********************]  1 of 1 completed\n",
      "[*********************100%%**********************]  1 of 1 completed"
     ]
    },
    {
     "name": "stderr",
     "output_type": "stream",
     "text": [
      "\n",
      "1 Failed download:\n",
      "['AESO3.SA']: Exception('%ticker%: No timezone found, symbol may be delisted')\n"
     ]
    },
    {
     "name": "stdout",
     "output_type": "stream",
     "text": [
      "\n",
      "[*********************100%%**********************]  1 of 1 completed\n",
      "[*********************100%%**********************]  1 of 1 completed"
     ]
    },
    {
     "name": "stderr",
     "output_type": "stream",
     "text": [
      "\n",
      "1 Failed download:\n",
      "['GRAO3.SA']: Exception(\"%ticker%: Period 'max' is invalid, must be one of ['1d', '5d']\")\n"
     ]
    },
    {
     "name": "stdout",
     "output_type": "stream",
     "text": [
      "\n",
      "[*********************100%%**********************]  1 of 1 completed\n",
      "[*********************100%%**********************]  1 of 1 completed\n",
      "[*********************100%%**********************]  1 of 1 completed\n",
      "[*********************100%%**********************]  1 of 1 completed\n",
      "[*********************100%%**********************]  1 of 1 completed\n",
      "[*********************100%%**********************]  1 of 1 completed\n",
      "[*********************100%%**********************]  1 of 1 completed\n",
      "[*********************100%%**********************]  1 of 1 completed\n",
      "[*********************100%%**********************]  1 of 1 completed\n",
      "[*********************100%%**********************]  1 of 1 completed\n",
      "[*********************100%%**********************]  1 of 1 completed\n",
      "[*********************100%%**********************]  1 of 1 completed\n",
      "[*********************100%%**********************]  1 of 1 completed\n",
      "[*********************100%%**********************]  1 of 1 completed\n",
      "[*********************100%%**********************]  1 of 1 completed\n",
      "[*********************100%%**********************]  1 of 1 completed"
     ]
    },
    {
     "name": "stderr",
     "output_type": "stream",
     "text": [
      "\n",
      "1 Failed download:\n",
      "['APTI3.SA']: Exception('%ticker%: No timezone found, symbol may be delisted')\n"
     ]
    },
    {
     "name": "stdout",
     "output_type": "stream",
     "text": [
      "\n",
      "[*********************100%%**********************]  1 of 1 completed"
     ]
    },
    {
     "name": "stderr",
     "output_type": "stream",
     "text": [
      "\n",
      "1 Failed download:\n",
      "['APTI4.SA']: Exception('%ticker%: No timezone found, symbol may be delisted')\n"
     ]
    },
    {
     "name": "stdout",
     "output_type": "stream",
     "text": [
      "\n",
      "[*********************100%%**********************]  1 of 1 completed"
     ]
    },
    {
     "name": "stderr",
     "output_type": "stream",
     "text": [
      "\n",
      "1 Failed download:\n",
      "['FRRN3B.SA']: Exception('%ticker%: No timezone found, symbol may be delisted')\n"
     ]
    },
    {
     "name": "stdout",
     "output_type": "stream",
     "text": [
      "\n",
      "[*********************100%%**********************]  1 of 1 completed"
     ]
    },
    {
     "name": "stderr",
     "output_type": "stream",
     "text": [
      "\n",
      "1 Failed download:\n",
      "['FRRN5B.SA']: Exception('%ticker%: No timezone found, symbol may be delisted')\n"
     ]
    },
    {
     "name": "stdout",
     "output_type": "stream",
     "text": [
      "\n",
      "[*********************100%%**********************]  1 of 1 completed"
     ]
    },
    {
     "name": "stderr",
     "output_type": "stream",
     "text": [
      "\n",
      "1 Failed download:\n",
      "['FRRN6B.SA']: Exception('%ticker%: No timezone found, symbol may be delisted')\n"
     ]
    },
    {
     "name": "stdout",
     "output_type": "stream",
     "text": [
      "\n",
      "[*********************100%%**********************]  1 of 1 completed\n",
      "[*********************100%%**********************]  1 of 1 completed\n",
      "[*********************100%%**********************]  1 of 1 completed\n",
      "[*********************100%%**********************]  1 of 1 completed\n",
      "[*********************100%%**********************]  1 of 1 completed\n",
      "[*********************100%%**********************]  1 of 1 completed\n",
      "[*********************100%%**********************]  1 of 1 completed\n",
      "[*********************100%%**********************]  1 of 1 completed\n",
      "[*********************100%%**********************]  1 of 1 completed\n",
      "[*********************100%%**********************]  1 of 1 completed\n",
      "[*********************100%%**********************]  1 of 1 completed\n",
      "[*********************100%%**********************]  1 of 1 completed\n",
      "[*********************100%%**********************]  1 of 1 completed\n",
      "[*********************100%%**********************]  1 of 1 completed\n",
      "[*********************100%%**********************]  1 of 1 completed\n",
      "[*********************100%%**********************]  1 of 1 completed\n",
      "[*********************100%%**********************]  1 of 1 completed\n",
      "[*********************100%%**********************]  1 of 1 completed\n",
      "[*********************100%%**********************]  1 of 1 completed\n",
      "[*********************100%%**********************]  1 of 1 completed\n",
      "[*********************100%%**********************]  1 of 1 completed\n",
      "[*********************100%%**********************]  1 of 1 completed\n",
      "[*********************100%%**********************]  1 of 1 completed\n",
      "[*********************100%%**********************]  1 of 1 completed\n",
      "[*********************100%%**********************]  1 of 1 completed\n",
      "[*********************100%%**********************]  1 of 1 completed\n",
      "[*********************100%%**********************]  1 of 1 completed\n",
      "[*********************100%%**********************]  1 of 1 completed\n",
      "[*********************100%%**********************]  1 of 1 completed\n",
      "[*********************100%%**********************]  1 of 1 completed\n",
      "[*********************100%%**********************]  1 of 1 completed\n",
      "[*********************100%%**********************]  1 of 1 completed\n",
      "[*********************100%%**********************]  1 of 1 completed\n",
      "[*********************100%%**********************]  1 of 1 completed\n",
      "[*********************100%%**********************]  1 of 1 completed"
     ]
    },
    {
     "name": "stderr",
     "output_type": "stream",
     "text": [
      "\n",
      "1 Failed download:\n",
      "['BPAR3.SA']: Exception('%ticker%: No timezone found, symbol may be delisted')\n"
     ]
    },
    {
     "name": "stdout",
     "output_type": "stream",
     "text": [
      "\n",
      "[*********************100%%**********************]  1 of 1 completed\n",
      "[*********************100%%**********************]  1 of 1 completed\n",
      "[*********************100%%**********************]  1 of 1 completed\n",
      "[*********************100%%**********************]  1 of 1 completed\n",
      "[*********************100%%**********************]  1 of 1 completed\n",
      "[*********************100%%**********************]  1 of 1 completed\n",
      "[*********************100%%**********************]  1 of 1 completed\n",
      "[*********************100%%**********************]  1 of 1 completed"
     ]
    },
    {
     "name": "stderr",
     "output_type": "stream",
     "text": [
      "\n",
      "1 Failed download:\n",
      "['BBML3.SA']: Exception('%ticker%: No timezone found, symbol may be delisted')\n"
     ]
    },
    {
     "name": "stdout",
     "output_type": "stream",
     "text": [
      "\n",
      "[*********************100%%**********************]  1 of 1 completed\n",
      "[*********************100%%**********************]  1 of 1 completed\n",
      "[*********************100%%**********************]  1 of 1 completed"
     ]
    },
    {
     "name": "stderr",
     "output_type": "stream",
     "text": [
      "\n",
      "1 Failed download:\n",
      "['BETP3.SA']: Exception('%ticker%: No timezone found, symbol may be delisted')\n"
     ]
    },
    {
     "name": "stdout",
     "output_type": "stream",
     "text": [
      "\n",
      "[*********************100%%**********************]  1 of 1 completed\n",
      "[*********************100%%**********************]  1 of 1 completed\n",
      "[*********************100%%**********************]  1 of 1 completed\n",
      "[*********************100%%**********************]  1 of 1 completed\n",
      "[*********************100%%**********************]  1 of 1 completed\n",
      "[*********************100%%**********************]  1 of 1 completed\n",
      "[*********************100%%**********************]  1 of 1 completed\n",
      "[*********************100%%**********************]  1 of 1 completed\n",
      "[*********************100%%**********************]  1 of 1 completed\n",
      "[*********************100%%**********************]  1 of 1 completed\n",
      "[*********************100%%**********************]  1 of 1 completed\n",
      "[*********************100%%**********************]  1 of 1 completed\n",
      "[*********************100%%**********************]  1 of 1 completed\n",
      "[*********************100%%**********************]  1 of 1 completed\n",
      "[*********************100%%**********************]  1 of 1 completed\n",
      "[*********************100%%**********************]  1 of 1 completed\n",
      "[*********************100%%**********************]  1 of 1 completed\n",
      "[*********************100%%**********************]  1 of 1 completed\n",
      "[*********************100%%**********************]  1 of 1 completed\n",
      "[*********************100%%**********************]  1 of 1 completed\n",
      "[*********************100%%**********************]  1 of 1 completed\n",
      "[*********************100%%**********************]  1 of 1 completed"
     ]
    },
    {
     "name": "stderr",
     "output_type": "stream",
     "text": [
      "\n",
      "1 Failed download:\n",
      "['BRQB3.SA']: Exception('%ticker%: No price data found, symbol may be delisted (1d 2013-01-01 -> 2023-11-01)')\n"
     ]
    },
    {
     "name": "stdout",
     "output_type": "stream",
     "text": [
      "\n",
      "[*********************100%%**********************]  1 of 1 completed\n",
      "[*********************100%%**********************]  1 of 1 completed\n",
      "[*********************100%%**********************]  1 of 1 completed\n",
      "[*********************100%%**********************]  1 of 1 completed"
     ]
    },
    {
     "name": "stderr",
     "output_type": "stream",
     "text": [
      "\n",
      "1 Failed download:\n",
      "['CABI3.SA']: Exception('%ticker%: No timezone found, symbol may be delisted')\n"
     ]
    },
    {
     "name": "stdout",
     "output_type": "stream",
     "text": [
      "\n",
      "[*********************100%%**********************]  1 of 1 completed\n",
      "[*********************100%%**********************]  1 of 1 completed\n",
      "[*********************100%%**********************]  1 of 1 completed\n",
      "[*********************100%%**********************]  1 of 1 completed\n",
      "[*********************100%%**********************]  1 of 1 completed\n",
      "[*********************100%%**********************]  1 of 1 completed\n",
      "[*********************100%%**********************]  1 of 1 completed\n",
      "[*********************100%%**********************]  1 of 1 completed\n",
      "[*********************100%%**********************]  1 of 1 completed\n",
      "[*********************100%%**********************]  1 of 1 completed\n",
      "[*********************100%%**********************]  1 of 1 completed\n",
      "[*********************100%%**********************]  1 of 1 completed\n",
      "[*********************100%%**********************]  1 of 1 completed\n",
      "[*********************100%%**********************]  1 of 1 completed\n",
      "[*********************100%%**********************]  1 of 1 completed\n",
      "[*********************100%%**********************]  1 of 1 completed\n",
      "[*********************100%%**********************]  1 of 1 completed\n",
      "[*********************100%%**********************]  1 of 1 completed"
     ]
    },
    {
     "name": "stderr",
     "output_type": "stream",
     "text": [
      "\n",
      "1 Failed download:\n",
      "['CGEE3.SA']: Exception('%ticker%: No timezone found, symbol may be delisted')\n"
     ]
    },
    {
     "name": "stdout",
     "output_type": "stream",
     "text": [
      "\n",
      "[*********************100%%**********************]  1 of 1 completed"
     ]
    },
    {
     "name": "stderr",
     "output_type": "stream",
     "text": [
      "\n",
      "1 Failed download:\n",
      "['CGEE4.SA']: Exception('%ticker%: No timezone found, symbol may be delisted')\n"
     ]
    },
    {
     "name": "stdout",
     "output_type": "stream",
     "text": [
      "\n",
      "[*********************100%%**********************]  1 of 1 completed\n",
      "[*********************100%%**********************]  1 of 1 completed\n",
      "[*********************100%%**********************]  1 of 1 completed\n",
      "[*********************100%%**********************]  1 of 1 completed\n",
      "[*********************100%%**********************]  1 of 1 completed\n",
      "[*********************100%%**********************]  1 of 1 completed\n",
      "[*********************100%%**********************]  1 of 1 completed\n",
      "[*********************100%%**********************]  1 of 1 completed\n",
      "[*********************100%%**********************]  1 of 1 completed\n",
      "[*********************100%%**********************]  1 of 1 completed"
     ]
    },
    {
     "name": "stderr",
     "output_type": "stream",
     "text": [
      "\n",
      "1 Failed download:\n",
      "['CMSA3.SA']: Exception('%ticker%: No timezone found, symbol may be delisted')\n"
     ]
    },
    {
     "name": "stdout",
     "output_type": "stream",
     "text": [
      "\n",
      "[*********************100%%**********************]  1 of 1 completed"
     ]
    },
    {
     "name": "stderr",
     "output_type": "stream",
     "text": [
      "\n",
      "1 Failed download:\n",
      "['CMSA4.SA']: Exception('%ticker%: No timezone found, symbol may be delisted')\n"
     ]
    },
    {
     "name": "stdout",
     "output_type": "stream",
     "text": [
      "\n",
      "[*********************100%%**********************]  1 of 1 completed\n",
      "[*********************100%%**********************]  1 of 1 completed\n",
      "[*********************100%%**********************]  1 of 1 completed\n",
      "[*********************100%%**********************]  1 of 1 completed"
     ]
    },
    {
     "name": "stderr",
     "output_type": "stream",
     "text": [
      "\n",
      "1 Failed download:\n",
      "['CEEB6.SA']: Exception('%ticker%: No timezone found, symbol may be delisted')\n"
     ]
    },
    {
     "name": "stdout",
     "output_type": "stream",
     "text": [
      "\n",
      "[*********************100%%**********************]  1 of 1 completed\n",
      "[*********************100%%**********************]  1 of 1 completed\n",
      "[*********************100%%**********************]  1 of 1 completed\n",
      "[*********************100%%**********************]  1 of 1 completed\n",
      "[*********************100%%**********************]  1 of 1 completed"
     ]
    },
    {
     "name": "stderr",
     "output_type": "stream",
     "text": [
      "\n",
      "1 Failed download:\n",
      "['COMR3.SA']: Exception('%ticker%: No timezone found, symbol may be delisted')\n"
     ]
    },
    {
     "name": "stdout",
     "output_type": "stream",
     "text": [
      "\n",
      "[*********************100%%**********************]  1 of 1 completed\n",
      "[*********************100%%**********************]  1 of 1 completed\n",
      "[*********************100%%**********************]  1 of 1 completed"
     ]
    },
    {
     "name": "stderr",
     "output_type": "stream",
     "text": [
      "\n",
      "1 Failed download:\n",
      "['PASS3.SA']: Exception('%ticker%: No timezone found, symbol may be delisted')\n"
     ]
    },
    {
     "name": "stdout",
     "output_type": "stream",
     "text": [
      "\n",
      "[*********************100%%**********************]  1 of 1 completed"
     ]
    },
    {
     "name": "stderr",
     "output_type": "stream",
     "text": [
      "\n",
      "1 Failed download:\n",
      "['PASS6.SA']: Exception('%ticker%: No timezone found, symbol may be delisted')\n"
     ]
    },
    {
     "name": "stdout",
     "output_type": "stream",
     "text": [
      "\n",
      "[*********************100%%**********************]  1 of 1 completed"
     ]
    },
    {
     "name": "stderr",
     "output_type": "stream",
     "text": [
      "\n",
      "1 Failed download:\n",
      "['CRTE3.SA']: Exception('%ticker%: No timezone found, symbol may be delisted')\n"
     ]
    },
    {
     "name": "stdout",
     "output_type": "stream",
     "text": [
      "\n",
      "[*********************100%%**********************]  1 of 1 completed"
     ]
    },
    {
     "name": "stderr",
     "output_type": "stream",
     "text": [
      "\n",
      "1 Failed download:\n",
      "['CRTE5.SA']: Exception('%ticker%: No timezone found, symbol may be delisted')\n"
     ]
    },
    {
     "name": "stdout",
     "output_type": "stream",
     "text": [
      "\n",
      "[*********************100%%**********************]  1 of 1 completed\n",
      "[*********************100%%**********************]  1 of 1 completed\n",
      "[*********************100%%**********************]  1 of 1 completed\n",
      "[*********************100%%**********************]  1 of 1 completed\n",
      "[*********************100%%**********************]  1 of 1 completed\n",
      "[*********************100%%**********************]  1 of 1 completed\n",
      "[*********************100%%**********************]  1 of 1 completed\n",
      "[*********************100%%**********************]  1 of 1 completed\n",
      "[*********************100%%**********************]  1 of 1 completed\n",
      "[*********************100%%**********************]  1 of 1 completed\n",
      "[*********************100%%**********************]  1 of 1 completed\n",
      "[*********************100%%**********************]  1 of 1 completed\n",
      "[*********************100%%**********************]  1 of 1 completed\n",
      "[*********************100%%**********************]  1 of 1 completed\n",
      "[*********************100%%**********************]  1 of 1 completed\n",
      "[*********************100%%**********************]  1 of 1 completed\n",
      "[*********************100%%**********************]  1 of 1 completed\n",
      "[*********************100%%**********************]  1 of 1 completed\n",
      "[*********************100%%**********************]  1 of 1 completed\n",
      "[*********************100%%**********************]  1 of 1 completed\n",
      "[*********************100%%**********************]  1 of 1 completed\n",
      "[*********************100%%**********************]  1 of 1 completed"
     ]
    },
    {
     "name": "stderr",
     "output_type": "stream",
     "text": [
      "\n",
      "1 Failed download:\n",
      "['CTCA3.SA']: Exception('%ticker%: No timezone found, symbol may be delisted')\n"
     ]
    },
    {
     "name": "stdout",
     "output_type": "stream",
     "text": [
      "\n",
      "[*********************100%%**********************]  1 of 1 completed\n",
      "[*********************100%%**********************]  1 of 1 completed\n",
      "[*********************100%%**********************]  1 of 1 completed\n",
      "[*********************100%%**********************]  1 of 1 completed\n",
      "[*********************100%%**********************]  1 of 1 completed\n",
      "[*********************100%%**********************]  1 of 1 completed\n",
      "[*********************100%%**********************]  1 of 1 completed\n",
      "[*********************100%%**********************]  1 of 1 completed\n",
      "[*********************100%%**********************]  1 of 1 completed\n",
      "[*********************100%%**********************]  1 of 1 completed\n",
      "[*********************100%%**********************]  1 of 1 completed\n",
      "[*********************100%%**********************]  1 of 1 completed\n",
      "[*********************100%%**********************]  1 of 1 completed\n",
      "[*********************100%%**********************]  1 of 1 completed\n",
      "[*********************100%%**********************]  1 of 1 completed\n",
      "[*********************100%%**********************]  1 of 1 completed\n",
      "[*********************100%%**********************]  1 of 1 completed"
     ]
    },
    {
     "name": "stderr",
     "output_type": "stream",
     "text": [
      "\n",
      "1 Failed download:\n",
      "['DTCY4.SA']: Exception('%ticker%: No timezone found, symbol may be delisted')\n"
     ]
    },
    {
     "name": "stdout",
     "output_type": "stream",
     "text": [
      "\n",
      "[*********************100%%**********************]  1 of 1 completed\n",
      "[*********************100%%**********************]  1 of 1 completed\n",
      "[*********************100%%**********************]  1 of 1 completed\n",
      "[*********************100%%**********************]  1 of 1 completed\n",
      "[*********************100%%**********************]  1 of 1 completed\n",
      "[*********************100%%**********************]  1 of 1 completed\n",
      "[*********************100%%**********************]  1 of 1 completed\n",
      "[*********************100%%**********************]  1 of 1 completed\n",
      "[*********************100%%**********************]  1 of 1 completed\n",
      "[*********************100%%**********************]  1 of 1 completed\n",
      "[*********************100%%**********************]  1 of 1 completed\n",
      "[*********************100%%**********************]  1 of 1 completed\n",
      "[*********************100%%**********************]  1 of 1 completed\n",
      "[*********************100%%**********************]  1 of 1 completed"
     ]
    },
    {
     "name": "stderr",
     "output_type": "stream",
     "text": [
      "\n",
      "1 Failed download:\n",
      "['ENBR3.SA']: Exception('%ticker%: No timezone found, symbol may be delisted')\n"
     ]
    },
    {
     "name": "stdout",
     "output_type": "stream",
     "text": [
      "\n",
      "[*********************100%%**********************]  1 of 1 completed\n",
      "[*********************100%%**********************]  1 of 1 completed\n",
      "[*********************100%%**********************]  1 of 1 completed\n",
      "[*********************100%%**********************]  1 of 1 completed\n",
      "[*********************100%%**********************]  1 of 1 completed\n",
      "[*********************100%%**********************]  1 of 1 completed\n",
      "[*********************100%%**********************]  1 of 1 completed\n",
      "[*********************100%%**********************]  1 of 1 completed\n",
      "[*********************100%%**********************]  1 of 1 completed\n",
      "[*********************100%%**********************]  1 of 1 completed"
     ]
    },
    {
     "name": "stderr",
     "output_type": "stream",
     "text": [
      "\n",
      "1 Failed download:\n",
      "['EQMA5B.SA']: Exception('%ticker%: No timezone found, symbol may be delisted')\n"
     ]
    },
    {
     "name": "stdout",
     "output_type": "stream",
     "text": [
      "\n",
      "[*********************100%%**********************]  1 of 1 completed"
     ]
    },
    {
     "name": "stderr",
     "output_type": "stream",
     "text": [
      "\n",
      "1 Failed download:\n",
      "['EQMA6B.SA']: Exception('%ticker%: No timezone found, symbol may be delisted')\n"
     ]
    },
    {
     "name": "stdout",
     "output_type": "stream",
     "text": [
      "\n",
      "[*********************100%%**********************]  1 of 1 completed\n",
      "[*********************100%%**********************]  1 of 1 completed\n",
      "[*********************100%%**********************]  1 of 1 completed\n",
      "[*********************100%%**********************]  1 of 1 completed\n",
      "[*********************100%%**********************]  1 of 1 completed\n",
      "[*********************100%%**********************]  1 of 1 completed\n",
      "[*********************100%%**********************]  1 of 1 completed\n",
      "[*********************100%%**********************]  1 of 1 completed\n",
      "[*********************100%%**********************]  1 of 1 completed\n",
      "[*********************100%%**********************]  1 of 1 completed\n",
      "[*********************100%%**********************]  1 of 1 completed\n",
      "[*********************100%%**********************]  1 of 1 completed\n",
      "[*********************100%%**********************]  1 of 1 completed"
     ]
    },
    {
     "name": "stderr",
     "output_type": "stream",
     "text": [
      "\n",
      "1 Failed download:\n",
      "['EUFA3.SA']: Exception('%ticker%: No timezone found, symbol may be delisted')\n"
     ]
    },
    {
     "name": "stdout",
     "output_type": "stream",
     "text": [
      "\n",
      "[*********************100%%**********************]  1 of 1 completed\n",
      "[*********************100%%**********************]  1 of 1 completed\n",
      "[*********************100%%**********************]  1 of 1 completed\n",
      "[*********************100%%**********************]  1 of 1 completed\n",
      "[*********************100%%**********************]  1 of 1 completed\n",
      "[*********************100%%**********************]  1 of 1 completed\n",
      "[*********************100%%**********************]  1 of 1 completed\n",
      "[*********************100%%**********************]  1 of 1 completed\n",
      "[*********************100%%**********************]  1 of 1 completed\n",
      "[*********************100%%**********************]  1 of 1 completed\n",
      "[*********************100%%**********************]  1 of 1 completed\n",
      "[*********************100%%**********************]  1 of 1 completed\n",
      "[*********************100%%**********************]  1 of 1 completed"
     ]
    },
    {
     "name": "stderr",
     "output_type": "stream",
     "text": [
      "\n",
      "1 Failed download:\n",
      "['OPGM3.SA']: Exception('%ticker%: No timezone found, symbol may be delisted')\n"
     ]
    },
    {
     "name": "stdout",
     "output_type": "stream",
     "text": [
      "\n",
      "[*********************100%%**********************]  1 of 1 completed\n",
      "[*********************100%%**********************]  1 of 1 completed\n",
      "[*********************100%%**********************]  1 of 1 completed\n",
      "[*********************100%%**********************]  1 of 1 completed\n",
      "[*********************100%%**********************]  1 of 1 completed\n",
      "[*********************100%%**********************]  1 of 1 completed\n",
      "[*********************100%%**********************]  1 of 1 completed\n",
      "[*********************100%%**********************]  1 of 1 completed\n",
      "[*********************100%%**********************]  1 of 1 completed"
     ]
    },
    {
     "name": "stderr",
     "output_type": "stream",
     "text": [
      "\n",
      "1 Failed download:\n",
      "['GOLL3.SA']: Exception(\"%ticker%: Period 'max' is invalid, must be one of ['1d', '5d']\")\n"
     ]
    },
    {
     "name": "stdout",
     "output_type": "stream",
     "text": [
      "\n",
      "[*********************100%%**********************]  1 of 1 completed\n",
      "[*********************100%%**********************]  1 of 1 completed\n",
      "[*********************100%%**********************]  1 of 1 completed\n",
      "[*********************100%%**********************]  1 of 1 completed\n",
      "[*********************100%%**********************]  1 of 1 completed\n",
      "[*********************100%%**********************]  1 of 1 completed\n",
      "[*********************100%%**********************]  1 of 1 completed\n",
      "[*********************100%%**********************]  1 of 1 completed\n",
      "[*********************100%%**********************]  1 of 1 completed\n",
      "[*********************100%%**********************]  1 of 1 completed\n",
      "[*********************100%%**********************]  1 of 1 completed\n",
      "[*********************100%%**********************]  1 of 1 completed"
     ]
    },
    {
     "name": "stderr",
     "output_type": "stream",
     "text": [
      "\n",
      "1 Failed download:\n",
      "['HBTS3.SA']: Exception('%ticker%: No price data found, symbol may be delisted (1d 2013-01-01 -> 2023-11-01)')\n"
     ]
    },
    {
     "name": "stdout",
     "output_type": "stream",
     "text": [
      "\n",
      "[*********************100%%**********************]  1 of 1 completed\n",
      "[*********************100%%**********************]  1 of 1 completed"
     ]
    },
    {
     "name": "stderr",
     "output_type": "stream",
     "text": [
      "\n",
      "1 Failed download:\n",
      "['HBTS6.SA']: Exception('%ticker%: No price data found, symbol may be delisted (1d 2013-01-01 -> 2023-11-01)')\n"
     ]
    },
    {
     "name": "stdout",
     "output_type": "stream",
     "text": [
      "\n",
      "[*********************100%%**********************]  1 of 1 completed\n",
      "[*********************100%%**********************]  1 of 1 completed\n",
      "[*********************100%%**********************]  1 of 1 completed\n",
      "[*********************100%%**********************]  1 of 1 completed\n",
      "[*********************100%%**********************]  1 of 1 completed\n",
      "[*********************100%%**********************]  1 of 1 completed\n",
      "[*********************100%%**********************]  1 of 1 completed\n",
      "[*********************100%%**********************]  1 of 1 completed\n",
      "[*********************100%%**********************]  1 of 1 completed"
     ]
    },
    {
     "name": "stderr",
     "output_type": "stream",
     "text": [
      "\n",
      "1 Failed download:\n",
      "['HMOB3.SA']: Exception('%ticker%: No timezone found, symbol may be delisted')\n"
     ]
    },
    {
     "name": "stdout",
     "output_type": "stream",
     "text": [
      "\n",
      "[*********************100%%**********************]  1 of 1 completed\n",
      "[*********************100%%**********************]  1 of 1 completed\n",
      "[*********************100%%**********************]  1 of 1 completed\n",
      "[*********************100%%**********************]  1 of 1 completed"
     ]
    },
    {
     "name": "stderr",
     "output_type": "stream",
     "text": [
      "\n",
      "1 Failed download:\n",
      "['IGSN3.SA']: Exception('%ticker%: No price data found, symbol may be delisted (1d 2013-01-01 -> 2023-11-01)')\n"
     ]
    },
    {
     "name": "stdout",
     "output_type": "stream",
     "text": [
      "\n",
      "[*********************100%%**********************]  1 of 1 completed\n",
      "[*********************100%%**********************]  1 of 1 completed\n",
      "[*********************100%%**********************]  1 of 1 completed\n",
      "[*********************100%%**********************]  1 of 1 completed\n",
      "[*********************100%%**********************]  1 of 1 completed"
     ]
    },
    {
     "name": "stderr",
     "output_type": "stream",
     "text": [
      "\n",
      "1 Failed download:\n",
      "['CATA3.SA']: Exception('%ticker%: No timezone found, symbol may be delisted')\n"
     ]
    },
    {
     "name": "stdout",
     "output_type": "stream",
     "text": [
      "\n",
      "[*********************100%%**********************]  1 of 1 completed"
     ]
    },
    {
     "name": "stderr",
     "output_type": "stream",
     "text": [
      "\n",
      "1 Failed download:\n",
      "['CATA4.SA']: Exception('%ticker%: No timezone found, symbol may be delisted')\n"
     ]
    },
    {
     "name": "stdout",
     "output_type": "stream",
     "text": [
      "\n",
      "[*********************100%%**********************]  1 of 1 completed\n",
      "[*********************100%%**********************]  1 of 1 completed\n",
      "[*********************100%%**********************]  1 of 1 completed\n",
      "[*********************100%%**********************]  1 of 1 completed\n",
      "[*********************100%%**********************]  1 of 1 completed"
     ]
    },
    {
     "name": "stderr",
     "output_type": "stream",
     "text": [
      "\n",
      "1 Failed download:\n",
      "['INNT3.SA']: Exception('%ticker%: No timezone found, symbol may be delisted')\n"
     ]
    },
    {
     "name": "stdout",
     "output_type": "stream",
     "text": [
      "\n",
      "[*********************100%%**********************]  1 of 1 completed"
     ]
    },
    {
     "name": "stderr",
     "output_type": "stream",
     "text": [
      "\n",
      "1 Failed download:\n",
      "['IVPR3B.SA']: Exception('%ticker%: No timezone found, symbol may be delisted')\n"
     ]
    },
    {
     "name": "stdout",
     "output_type": "stream",
     "text": [
      "\n",
      "[*********************100%%**********************]  1 of 1 completed"
     ]
    },
    {
     "name": "stderr",
     "output_type": "stream",
     "text": [
      "\n",
      "1 Failed download:\n",
      "['IVPR4B.SA']: Exception('%ticker%: No timezone found, symbol may be delisted')\n"
     ]
    },
    {
     "name": "stdout",
     "output_type": "stream",
     "text": [
      "\n",
      "[*********************100%%**********************]  1 of 1 completed\n",
      "[*********************100%%**********************]  1 of 1 completed\n",
      "[*********************100%%**********************]  1 of 1 completed\n",
      "[*********************100%%**********************]  1 of 1 completed\n",
      "[*********************100%%**********************]  1 of 1 completed\n",
      "[*********************100%%**********************]  1 of 1 completed\n",
      "[*********************100%%**********************]  1 of 1 completed\n",
      "[*********************100%%**********************]  1 of 1 completed\n",
      "[*********************100%%**********************]  1 of 1 completed\n",
      "[*********************100%%**********************]  1 of 1 completed\n",
      "[*********************100%%**********************]  1 of 1 completed\n",
      "[*********************100%%**********************]  1 of 1 completed\n",
      "[*********************100%%**********************]  1 of 1 completed\n",
      "[*********************100%%**********************]  1 of 1 completed\n",
      "[*********************100%%**********************]  1 of 1 completed\n",
      "[*********************100%%**********************]  1 of 1 completed\n",
      "[*********************100%%**********************]  1 of 1 completed"
     ]
    },
    {
     "name": "stderr",
     "output_type": "stream",
     "text": [
      "\n",
      "1 Failed download:\n",
      "['KLAS3.SA']: Exception('%ticker%: No timezone found, symbol may be delisted')\n"
     ]
    },
    {
     "name": "stdout",
     "output_type": "stream",
     "text": [
      "\n",
      "[*********************100%%**********************]  1 of 1 completed\n",
      "[*********************100%%**********************]  1 of 1 completed\n",
      "[*********************100%%**********************]  1 of 1 completed\n",
      "[*********************100%%**********************]  1 of 1 completed\n",
      "[*********************100%%**********************]  1 of 1 completed\n",
      "[*********************100%%**********************]  1 of 1 completed\n",
      "[*********************100%%**********************]  1 of 1 completed\n",
      "[*********************100%%**********************]  1 of 1 completed\n",
      "[*********************100%%**********************]  1 of 1 completed"
     ]
    },
    {
     "name": "stderr",
     "output_type": "stream",
     "text": [
      "\n",
      "1 Failed download:\n",
      "['LLBI3.SA']: Exception('%ticker%: No timezone found, symbol may be delisted')\n"
     ]
    },
    {
     "name": "stdout",
     "output_type": "stream",
     "text": [
      "\n",
      "[*********************100%%**********************]  1 of 1 completed"
     ]
    },
    {
     "name": "stderr",
     "output_type": "stream",
     "text": [
      "\n",
      "1 Failed download:\n",
      "['LMED3.SA']: Exception('%ticker%: No timezone found, symbol may be delisted')\n"
     ]
    },
    {
     "name": "stdout",
     "output_type": "stream",
     "text": [
      "\n",
      "[*********************100%%**********************]  1 of 1 completed\n",
      "[*********************100%%**********************]  1 of 1 completed"
     ]
    },
    {
     "name": "stderr",
     "output_type": "stream",
     "text": [
      "\n",
      "1 Failed download:\n",
      "['LTEL3B.SA']: Exception('%ticker%: No timezone found, symbol may be delisted')\n"
     ]
    },
    {
     "name": "stdout",
     "output_type": "stream",
     "text": [
      "\n",
      "[*********************100%%**********************]  1 of 1 completed"
     ]
    },
    {
     "name": "stderr",
     "output_type": "stream",
     "text": [
      "\n",
      "1 Failed download:\n",
      "['LTLA3B.SA']: Exception('%ticker%: No timezone found, symbol may be delisted')\n"
     ]
    },
    {
     "name": "stdout",
     "output_type": "stream",
     "text": [
      "\n",
      "[*********************100%%**********************]  1 of 1 completed\n",
      "[*********************100%%**********************]  1 of 1 completed\n",
      "[*********************100%%**********************]  1 of 1 completed\n",
      "[*********************100%%**********************]  1 of 1 completed\n",
      "[*********************100%%**********************]  1 of 1 completed\n",
      "[*********************100%%**********************]  1 of 1 completed\n",
      "[*********************100%%**********************]  1 of 1 completed\n",
      "[*********************100%%**********************]  1 of 1 completed\n",
      "[*********************100%%**********************]  1 of 1 completed\n",
      "[*********************100%%**********************]  1 of 1 completed"
     ]
    },
    {
     "name": "stderr",
     "output_type": "stream",
     "text": [
      "\n",
      "1 Failed download:\n",
      "['MSRO3.SA']: Exception('%ticker%: No timezone found, symbol may be delisted')\n"
     ]
    },
    {
     "name": "stdout",
     "output_type": "stream",
     "text": [
      "\n",
      "[*********************100%%**********************]  1 of 1 completed\n",
      "[*********************100%%**********************]  1 of 1 completed\n",
      "[*********************100%%**********************]  1 of 1 completed\n",
      "[*********************100%%**********************]  1 of 1 completed\n",
      "[*********************100%%**********************]  1 of 1 completed\n",
      "[*********************100%%**********************]  1 of 1 completed\n",
      "[*********************100%%**********************]  1 of 1 completed\n",
      "[*********************100%%**********************]  1 of 1 completed\n",
      "[*********************100%%**********************]  1 of 1 completed\n",
      "[*********************100%%**********************]  1 of 1 completed\n",
      "[*********************100%%**********************]  1 of 1 completed\n",
      "[*********************100%%**********************]  1 of 1 completed"
     ]
    },
    {
     "name": "stderr",
     "output_type": "stream",
     "text": [
      "\n",
      "1 Failed download:\n",
      "['MNZC3.SA']: Exception('%ticker%: No timezone found, symbol may be delisted')\n"
     ]
    },
    {
     "name": "stdout",
     "output_type": "stream",
     "text": [
      "\n",
      "[*********************100%%**********************]  1 of 1 completed\n",
      "[*********************100%%**********************]  1 of 1 completed\n",
      "[*********************100%%**********************]  1 of 1 completed\n",
      "[*********************100%%**********************]  1 of 1 completed\n",
      "[*********************100%%**********************]  1 of 1 completed\n",
      "[*********************100%%**********************]  1 of 1 completed\n",
      "[*********************100%%**********************]  1 of 1 completed\n",
      "[*********************100%%**********************]  1 of 1 completed\n",
      "[*********************100%%**********************]  1 of 1 completed\n",
      "[*********************100%%**********************]  1 of 1 completed\n",
      "[*********************100%%**********************]  1 of 1 completed\n",
      "[*********************100%%**********************]  1 of 1 completed\n",
      "[*********************100%%**********************]  1 of 1 completed\n",
      "[*********************100%%**********************]  1 of 1 completed\n",
      "[*********************100%%**********************]  1 of 1 completed\n",
      "[*********************100%%**********************]  1 of 1 completed\n",
      "[*********************100%%**********************]  1 of 1 completed\n",
      "[*********************100%%**********************]  1 of 1 completed\n",
      "[*********************100%%**********************]  1 of 1 completed\n",
      "[*********************100%%**********************]  1 of 1 completed\n",
      "[*********************100%%**********************]  1 of 1 completed\n",
      "[*********************100%%**********************]  1 of 1 completed\n",
      "[*********************100%%**********************]  1 of 1 completed\n",
      "[*********************100%%**********************]  1 of 1 completed\n",
      "[*********************100%%**********************]  1 of 1 completed\n",
      "[*********************100%%**********************]  1 of 1 completed\n",
      "[*********************100%%**********************]  1 of 1 completed\n",
      "[*********************100%%**********************]  1 of 1 completed\n",
      "[*********************100%%**********************]  1 of 1 completed\n",
      "[*********************100%%**********************]  1 of 1 completed\n",
      "[*********************100%%**********************]  1 of 1 completed\n",
      "[*********************100%%**********************]  1 of 1 completed\n",
      "[*********************100%%**********************]  1 of 1 completed"
     ]
    },
    {
     "name": "stderr",
     "output_type": "stream",
     "text": [
      "\n",
      "1 Failed download:\n",
      "['NRTQ3.SA']: Exception('%ticker%: No timezone found, symbol may be delisted')\n"
     ]
    },
    {
     "name": "stdout",
     "output_type": "stream",
     "text": [
      "\n",
      "[*********************100%%**********************]  1 of 1 completed\n",
      "[*********************100%%**********************]  1 of 1 completed\n",
      "[*********************100%%**********************]  1 of 1 completed\n",
      "[*********************100%%**********************]  1 of 1 completed"
     ]
    },
    {
     "name": "stderr",
     "output_type": "stream",
     "text": [
      "\n",
      "1 Failed download:\n",
      "['ODER3.SA']: Exception('%ticker%: No timezone found, symbol may be delisted')\n"
     ]
    },
    {
     "name": "stdout",
     "output_type": "stream",
     "text": [
      "\n",
      "[*********************100%%**********************]  1 of 1 completed\n",
      "[*********************100%%**********************]  1 of 1 completed\n",
      "[*********************100%%**********************]  1 of 1 completed\n",
      "[*********************100%%**********************]  1 of 1 completed\n",
      "[*********************100%%**********************]  1 of 1 completed\n",
      "[*********************100%%**********************]  1 of 1 completed\n",
      "[*********************100%%**********************]  1 of 1 completed\n",
      "[*********************100%%**********************]  1 of 1 completed\n",
      "[*********************100%%**********************]  1 of 1 completed\n",
      "[*********************100%%**********************]  1 of 1 completed\n",
      "[*********************100%%**********************]  1 of 1 completed\n",
      "[*********************100%%**********************]  1 of 1 completed\n",
      "[*********************100%%**********************]  1 of 1 completed\n",
      "[*********************100%%**********************]  1 of 1 completed\n",
      "[*********************100%%**********************]  1 of 1 completed\n",
      "[*********************100%%**********************]  1 of 1 completed\n",
      "[*********************100%%**********************]  1 of 1 completed\n",
      "[*********************100%%**********************]  1 of 1 completed\n",
      "[*********************100%%**********************]  1 of 1 completed\n",
      "[*********************100%%**********************]  1 of 1 completed\n",
      "[*********************100%%**********************]  1 of 1 completed\n",
      "[*********************100%%**********************]  1 of 1 completed\n",
      "[*********************100%%**********************]  1 of 1 completed\n",
      "[*********************100%%**********************]  1 of 1 completed\n",
      "[*********************100%%**********************]  1 of 1 completed\n",
      "[*********************100%%**********************]  1 of 1 completed\n",
      "[*********************100%%**********************]  1 of 1 completed\n",
      "[*********************100%%**********************]  1 of 1 completed\n",
      "[*********************100%%**********************]  1 of 1 completed\n",
      "[*********************100%%**********************]  1 of 1 completed\n",
      "[*********************100%%**********************]  1 of 1 completed\n",
      "[*********************100%%**********************]  1 of 1 completed\n",
      "[*********************100%%**********************]  1 of 1 completed\n",
      "[*********************100%%**********************]  1 of 1 completed\n",
      "[*********************100%%**********************]  1 of 1 completed\n",
      "[*********************100%%**********************]  1 of 1 completed"
     ]
    },
    {
     "name": "stderr",
     "output_type": "stream",
     "text": [
      "\n",
      "1 Failed download:\n",
      "['PTCA3.SA']: Exception('%ticker%: No timezone found, symbol may be delisted')\n"
     ]
    },
    {
     "name": "stdout",
     "output_type": "stream",
     "text": [
      "\n",
      "[*********************100%%**********************]  1 of 1 completed"
     ]
    },
    {
     "name": "stderr",
     "output_type": "stream",
     "text": [
      "\n",
      "1 Failed download:\n",
      "['PTCA11.SA']: Exception('%ticker%: No timezone found, symbol may be delisted')\n"
     ]
    },
    {
     "name": "stdout",
     "output_type": "stream",
     "text": [
      "\n",
      "[*********************100%%**********************]  1 of 1 completed\n",
      "[*********************100%%**********************]  1 of 1 completed\n",
      "[*********************100%%**********************]  1 of 1 completed"
     ]
    },
    {
     "name": "stderr",
     "output_type": "stream",
     "text": [
      "\n",
      "1 Failed download:\n",
      "['PRPT3.SA']: Exception('%ticker%: No timezone found, symbol may be delisted')\n"
     ]
    },
    {
     "name": "stdout",
     "output_type": "stream",
     "text": [
      "\n",
      "[*********************100%%**********************]  1 of 1 completed\n",
      "[*********************100%%**********************]  1 of 1 completed"
     ]
    },
    {
     "name": "stderr",
     "output_type": "stream",
     "text": [
      "\n",
      "1 Failed download:\n",
      "['QUSW3.SA']: Exception('%ticker%: No timezone found, symbol may be delisted')\n"
     ]
    },
    {
     "name": "stdout",
     "output_type": "stream",
     "text": [
      "\n",
      "[*********************100%%**********************]  1 of 1 completed\n",
      "[*********************100%%**********************]  1 of 1 completed\n",
      "[*********************100%%**********************]  1 of 1 completed\n",
      "[*********************100%%**********************]  1 of 1 completed\n",
      "[*********************100%%**********************]  1 of 1 completed\n",
      "[*********************100%%**********************]  1 of 1 completed\n",
      "[*********************100%%**********************]  1 of 1 completed\n",
      "[*********************100%%**********************]  1 of 1 completed\n",
      "[*********************100%%**********************]  1 of 1 completed\n",
      "[*********************100%%**********************]  1 of 1 completed\n",
      "[*********************100%%**********************]  1 of 1 completed\n",
      "[*********************100%%**********************]  1 of 1 completed\n",
      "[*********************100%%**********************]  1 of 1 completed\n",
      "[*********************100%%**********************]  1 of 1 completed\n",
      "[*********************100%%**********************]  1 of 1 completed\n",
      "[*********************100%%**********************]  1 of 1 completed"
     ]
    },
    {
     "name": "stderr",
     "output_type": "stream",
     "text": [
      "\n",
      "1 Failed download:\n",
      "['RBNS11.SA']: Exception('%ticker%: No timezone found, symbol may be delisted')\n"
     ]
    },
    {
     "name": "stdout",
     "output_type": "stream",
     "text": [
      "\n",
      "[*********************100%%**********************]  1 of 1 completed\n",
      "[*********************100%%**********************]  1 of 1 completed\n",
      "[*********************100%%**********************]  1 of 1 completed\n",
      "[*********************100%%**********************]  1 of 1 completed\n",
      "[*********************100%%**********************]  1 of 1 completed"
     ]
    },
    {
     "name": "stderr",
     "output_type": "stream",
     "text": [
      "\n",
      "1 Failed download:\n",
      "['SAEN3.SA']: Exception('%ticker%: No timezone found, symbol may be delisted')\n"
     ]
    },
    {
     "name": "stdout",
     "output_type": "stream",
     "text": [
      "\n",
      "[*********************100%%**********************]  1 of 1 completed\n",
      "[*********************100%%**********************]  1 of 1 completed\n",
      "[*********************100%%**********************]  1 of 1 completed\n",
      "[*********************100%%**********************]  1 of 1 completed\n",
      "[*********************100%%**********************]  1 of 1 completed\n",
      "[*********************100%%**********************]  1 of 1 completed\n",
      "[*********************100%%**********************]  1 of 1 completed\n",
      "[*********************100%%**********************]  1 of 1 completed\n",
      "[*********************100%%**********************]  1 of 1 completed\n",
      "[*********************100%%**********************]  1 of 1 completed\n",
      "[*********************100%%**********************]  1 of 1 completed\n",
      "[*********************100%%**********************]  1 of 1 completed\n",
      "[*********************100%%**********************]  1 of 1 completed\n",
      "[*********************100%%**********************]  1 of 1 completed\n",
      "[*********************100%%**********************]  1 of 1 completed\n",
      "[*********************100%%**********************]  1 of 1 completed\n",
      "[*********************100%%**********************]  1 of 1 completed\n",
      "[*********************100%%**********************]  1 of 1 completed\n",
      "[*********************100%%**********************]  1 of 1 completed\n",
      "[*********************100%%**********************]  1 of 1 completed\n",
      "[*********************100%%**********************]  1 of 1 completed\n",
      "[*********************100%%**********************]  1 of 1 completed\n",
      "[*********************100%%**********************]  1 of 1 completed\n",
      "[*********************100%%**********************]  1 of 1 completed\n",
      "[*********************100%%**********************]  1 of 1 completed\n",
      "[*********************100%%**********************]  1 of 1 completed\n",
      "[*********************100%%**********************]  1 of 1 completed\n",
      "[*********************100%%**********************]  1 of 1 completed\n",
      "[*********************100%%**********************]  1 of 1 completed\n",
      "[*********************100%%**********************]  1 of 1 completed\n",
      "[*********************100%%**********************]  1 of 1 completed\n",
      "[*********************100%%**********************]  1 of 1 completed\n",
      "[*********************100%%**********************]  1 of 1 completed\n",
      "[*********************100%%**********************]  1 of 1 completed\n",
      "[*********************100%%**********************]  1 of 1 completed\n",
      "[*********************100%%**********************]  1 of 1 completed"
     ]
    },
    {
     "name": "stderr",
     "output_type": "stream",
     "text": [
      "\n",
      "1 Failed download:\n",
      "['OPSE3.SA']: Exception('%ticker%: No timezone found, symbol may be delisted')\n"
     ]
    },
    {
     "name": "stdout",
     "output_type": "stream",
     "text": [
      "\n",
      "[*********************100%%**********************]  1 of 1 completed"
     ]
    },
    {
     "name": "stderr",
     "output_type": "stream",
     "text": [
      "\n",
      "1 Failed download:\n",
      "['OPTS3.SA']: Exception('%ticker%: No timezone found, symbol may be delisted')\n"
     ]
    },
    {
     "name": "stdout",
     "output_type": "stream",
     "text": [
      "\n",
      "[*********************100%%**********************]  1 of 1 completed\n",
      "[*********************100%%**********************]  1 of 1 completed"
     ]
    },
    {
     "name": "stderr",
     "output_type": "stream",
     "text": [
      "\n",
      "1 Failed download:\n",
      "['NEMO5.SA']: Exception(\"%ticker%: Period 'max' is invalid, must be one of ['1d', '5d']\")\n"
     ]
    },
    {
     "name": "stdout",
     "output_type": "stream",
     "text": [
      "\n",
      "[*********************100%%**********************]  1 of 1 completed"
     ]
    },
    {
     "name": "stderr",
     "output_type": "stream",
     "text": [
      "\n",
      "1 Failed download:\n",
      "['NEMO6.SA']: Exception(\"%ticker%: Period 'max' is invalid, must be one of ['1d', '5d']\")\n"
     ]
    },
    {
     "name": "stdout",
     "output_type": "stream",
     "text": [
      "\n",
      "[*********************100%%**********************]  1 of 1 completed\n",
      "[*********************100%%**********************]  1 of 1 completed\n",
      "[*********************100%%**********************]  1 of 1 completed\n",
      "[*********************100%%**********************]  1 of 1 completed\n",
      "[*********************100%%**********************]  1 of 1 completed\n",
      "[*********************100%%**********************]  1 of 1 completed\n",
      "[*********************100%%**********************]  1 of 1 completed\n",
      "[*********************100%%**********************]  1 of 1 completed\n",
      "[*********************100%%**********************]  1 of 1 completed\n",
      "[*********************100%%**********************]  1 of 1 completed\n",
      "[*********************100%%**********************]  1 of 1 completed\n",
      "[*********************100%%**********************]  1 of 1 completed"
     ]
    },
    {
     "name": "stderr",
     "output_type": "stream",
     "text": [
      "\n",
      "1 Failed download:\n",
      "['TEGA3.SA']: Exception('%ticker%: No timezone found, symbol may be delisted')\n"
     ]
    },
    {
     "name": "stdout",
     "output_type": "stream",
     "text": [
      "\n",
      "[*********************100%%**********************]  1 of 1 completed\n",
      "[*********************100%%**********************]  1 of 1 completed\n",
      "[*********************100%%**********************]  1 of 1 completed\n",
      "[*********************100%%**********************]  1 of 1 completed\n",
      "[*********************100%%**********************]  1 of 1 completed\n",
      "[*********************100%%**********************]  1 of 1 completed\n",
      "[*********************100%%**********************]  1 of 1 completed\n",
      "[*********************100%%**********************]  1 of 1 completed\n",
      "[*********************100%%**********************]  1 of 1 completed\n",
      "[*********************100%%**********************]  1 of 1 completed\n",
      "[*********************100%%**********************]  1 of 1 completed\n",
      "[*********************100%%**********************]  1 of 1 completed\n",
      "[*********************100%%**********************]  1 of 1 completed\n",
      "[*********************100%%**********************]  1 of 1 completed\n",
      "[*********************100%%**********************]  1 of 1 completed\n",
      "[*********************100%%**********************]  1 of 1 completed\n",
      "[*********************100%%**********************]  1 of 1 completed\n",
      "[*********************100%%**********************]  1 of 1 completed\n",
      "[*********************100%%**********************]  1 of 1 completed\n",
      "[*********************100%%**********************]  1 of 1 completed\n",
      "[*********************100%%**********************]  1 of 1 completed\n",
      "[*********************100%%**********************]  1 of 1 completed\n",
      "[*********************100%%**********************]  1 of 1 completed\n",
      "[*********************100%%**********************]  1 of 1 completed\n",
      "[*********************100%%**********************]  1 of 1 completed\n",
      "[*********************100%%**********************]  1 of 1 completed\n",
      "[*********************100%%**********************]  1 of 1 completed\n",
      "[*********************100%%**********************]  1 of 1 completed\n",
      "[*********************100%%**********************]  1 of 1 completed"
     ]
    },
    {
     "name": "stderr",
     "output_type": "stream",
     "text": [
      "\n",
      "1 Failed download:\n",
      "['UPKP3.SA']: Exception('%ticker%: No timezone found, symbol may be delisted')\n"
     ]
    },
    {
     "name": "stdout",
     "output_type": "stream",
     "text": [
      "\n",
      "[*********************100%%**********************]  1 of 1 completed\n",
      "[*********************100%%**********************]  1 of 1 completed\n",
      "[*********************100%%**********************]  1 of 1 completed\n",
      "[*********************100%%**********************]  1 of 1 completed\n",
      "[*********************100%%**********************]  1 of 1 completed\n",
      "[*********************100%%**********************]  1 of 1 completed\n",
      "[*********************100%%**********************]  1 of 1 completed\n",
      "[*********************100%%**********************]  1 of 1 completed\n",
      "[*********************100%%**********************]  1 of 1 completed\n",
      "[*********************100%%**********************]  1 of 1 completed\n",
      "[*********************100%%**********************]  1 of 1 completed\n",
      "[*********************100%%**********************]  1 of 1 completed\n",
      "[*********************100%%**********************]  1 of 1 completed\n",
      "[*********************100%%**********************]  1 of 1 completed\n",
      "[*********************100%%**********************]  1 of 1 completed\n",
      "[*********************100%%**********************]  1 of 1 completed\n",
      "[*********************100%%**********************]  1 of 1 completed\n",
      "[*********************100%%**********************]  1 of 1 completed\n",
      "[*********************100%%**********************]  1 of 1 completed\n",
      "[*********************100%%**********************]  1 of 1 completed\n",
      "[*********************100%%**********************]  1 of 1 completed\n",
      "[*********************100%%**********************]  1 of 1 completed\n",
      "[*********************100%%**********************]  1 of 1 completed\n",
      "[*********************100%%**********************]  1 of 1 completed\n",
      "[*********************100%%**********************]  1 of 1 completed"
     ]
    },
    {
     "name": "stderr",
     "output_type": "stream",
     "text": [
      "\n",
      "1 Failed download:\n",
      "['YBRA3.SA']: Exception('%ticker%: No timezone found, symbol may be delisted')\n"
     ]
    },
    {
     "name": "stdout",
     "output_type": "stream",
     "text": [
      "\n",
      "[*********************100%%**********************]  1 of 1 completed\n",
      "[*********************100%%**********************]  1 of 1 completed\n"
     ]
    }
   ],
   "source": [
    "# teste para achar as acoes que estao dando problema e qual é esse problema para poder tratá-lo\n",
    "data_i = '2013-01-01'\n",
    "data_f = '2023-11-01'\n",
    "tickers = pd.read_csv('base_completa_acoes_subsetor.csv', sep=';')['Código']\n",
    "tickers = tickers + '.SA'\n",
    "# tickers = 'QVQP3.SA'\n",
    "tabela_tickers = pd.DataFrame(tickers)\n",
    "\n",
    "\n",
    "tabela_final = pd.DataFrame()\n",
    "\n",
    "for i in tickers:\n",
    "        dados = yf.download(i, start=data_i, end=data_f)[\"Adj Close\"]\n",
    "        tabela_final = pd.concat([tabela_final, dados], axis=1)\n",
    "        \n",
    "\n",
    "\n"
   ]
  },
  {
   "cell_type": "code",
   "execution_count": 27,
   "metadata": {},
   "outputs": [],
   "source": [
    "# acoes q estao dando problema por nao existirem\n",
    "\n",
    "teste = '''[*********************100%%**********************]  1 of 1 completed\n",
    "[*********************100%%**********************]  1 of 1 completed\n",
    "[*********************100%%**********************]  1 of 1 completed\n",
    "\n",
    "1 Failed download:\n",
    "['QVQP3.SA']: Exception('%ticker%: No timezone found, symbol may be delisted')\n",
    "\n",
    "[*********************100%%**********************]  1 of 1 completed\n",
    "[*********************100%%**********************]  1 of 1 completed\n",
    "[*********************100%%**********************]  1 of 1 completed\n",
    "[*********************100%%**********************]  1 of 1 completed\n",
    "[*********************100%%**********************]  1 of 1 completed\n",
    "[*********************100%%**********************]  1 of 1 completed\n",
    "\n",
    "1 Failed download:\n",
    "['AESO3.SA']: Exception('%ticker%: No timezone found, symbol may be delisted')\n",
    "\n",
    "[*********************100%%**********************]  1 of 1 completed\n",
    "[*********************100%%**********************]  1 of 1 completed\n",
    "\n",
    "1 Failed download:\n",
    "['GRAO3.SA']: Exception(\"%ticker%: Period 'max' is invalid, must be one of ['1d', '5d']\")\n",
    "\n",
    "[*********************100%%**********************]  1 of 1 completed\n",
    "[*********************100%%**********************]  1 of 1 completed\n",
    "[*********************100%%**********************]  1 of 1 completed\n",
    "[*********************100%%**********************]  1 of 1 completed\n",
    "[*********************100%%**********************]  1 of 1 completed\n",
    "[*********************100%%**********************]  1 of 1 completed\n",
    "[*********************100%%**********************]  1 of 1 completed\n",
    "[*********************100%%**********************]  1 of 1 completed\n",
    "[*********************100%%**********************]  1 of 1 completed\n",
    "[*********************100%%**********************]  1 of 1 completed\n",
    "[*********************100%%**********************]  1 of 1 completed\n",
    "[*********************100%%**********************]  1 of 1 completed\n",
    "[*********************100%%**********************]  1 of 1 completed\n",
    "[*********************100%%**********************]  1 of 1 completed\n",
    "[*********************100%%**********************]  1 of 1 completed\n",
    "[*********************100%%**********************]  1 of 1 completed\n",
    "\n",
    "1 Failed download:\n",
    "['APTI3.SA']: Exception('%ticker%: No timezone found, symbol may be delisted')\n",
    "\n",
    "[*********************100%%**********************]  1 of 1 completed\n",
    "\n",
    "1 Failed download:\n",
    "['APTI4.SA']: Exception('%ticker%: No timezone found, symbol may be delisted')\n",
    "\n",
    "[*********************100%%**********************]  1 of 1 completed\n",
    "\n",
    "1 Failed download:\n",
    "['FRRN3B.SA']: Exception('%ticker%: No timezone found, symbol may be delisted')\n",
    "\n",
    "[*********************100%%**********************]  1 of 1 completed\n",
    "\n",
    "1 Failed download:\n",
    "['FRRN5B.SA']: Exception('%ticker%: No timezone found, symbol may be delisted')\n",
    "\n",
    "[*********************100%%**********************]  1 of 1 completed\n",
    "\n",
    "1 Failed download:\n",
    "['FRRN6B.SA']: Exception('%ticker%: No timezone found, symbol may be delisted')\n",
    "\n",
    "[*********************100%%**********************]  1 of 1 completed\n",
    "[*********************100%%**********************]  1 of 1 completed\n",
    "[*********************100%%**********************]  1 of 1 completed\n",
    "[*********************100%%**********************]  1 of 1 completed\n",
    "[*********************100%%**********************]  1 of 1 completed\n",
    "[*********************100%%**********************]  1 of 1 completed\n",
    "[*********************100%%**********************]  1 of 1 completed\n",
    "[*********************100%%**********************]  1 of 1 completed\n",
    "[*********************100%%**********************]  1 of 1 completed\n",
    "[*********************100%%**********************]  1 of 1 completed\n",
    "[*********************100%%**********************]  1 of 1 completed\n",
    "[*********************100%%**********************]  1 of 1 completed\n",
    "[*********************100%%**********************]  1 of 1 completed\n",
    "[*********************100%%**********************]  1 of 1 completed\n",
    "[*********************100%%**********************]  1 of 1 completed\n",
    "[*********************100%%**********************]  1 of 1 completed\n",
    "[*********************100%%**********************]  1 of 1 completed\n",
    "[*********************100%%**********************]  1 of 1 completed\n",
    "[*********************100%%**********************]  1 of 1 completed\n",
    "[*********************100%%**********************]  1 of 1 completed\n",
    "[*********************100%%**********************]  1 of 1 completed\n",
    "[*********************100%%**********************]  1 of 1 completed\n",
    "[*********************100%%**********************]  1 of 1 completed\n",
    "[*********************100%%**********************]  1 of 1 completed\n",
    "[*********************100%%**********************]  1 of 1 completed\n",
    "[*********************100%%**********************]  1 of 1 completed\n",
    "[*********************100%%**********************]  1 of 1 completed\n",
    "[*********************100%%**********************]  1 of 1 completed\n",
    "[*********************100%%**********************]  1 of 1 completed\n",
    "[*********************100%%**********************]  1 of 1 completed\n",
    "[*********************100%%**********************]  1 of 1 completed\n",
    "[*********************100%%**********************]  1 of 1 completed\n",
    "[*********************100%%**********************]  1 of 1 completed\n",
    "[*********************100%%**********************]  1 of 1 completed\n",
    "[*********************100%%**********************]  1 of 1 completed\n",
    "\n",
    "1 Failed download:\n",
    "['BPAR3.SA']: Exception('%ticker%: No timezone found, symbol may be delisted')\n",
    "\n",
    "[*********************100%%**********************]  1 of 1 completed\n",
    "[*********************100%%**********************]  1 of 1 completed\n",
    "[*********************100%%**********************]  1 of 1 completed\n",
    "[*********************100%%**********************]  1 of 1 completed\n",
    "[*********************100%%**********************]  1 of 1 completed\n",
    "[*********************100%%**********************]  1 of 1 completed\n",
    "[*********************100%%**********************]  1 of 1 completed\n",
    "[*********************100%%**********************]  1 of 1 completed\n",
    "\n",
    "1 Failed download:\n",
    "['BBML3.SA']: Exception('%ticker%: No timezone found, symbol may be delisted')\n",
    "\n",
    "[*********************100%%**********************]  1 of 1 completed\n",
    "[*********************100%%**********************]  1 of 1 completed\n",
    "[*********************100%%**********************]  1 of 1 completed\n",
    "\n",
    "1 Failed download:\n",
    "['BETP3.SA']: Exception('%ticker%: No timezone found, symbol may be delisted')\n",
    "\n",
    "[*********************100%%**********************]  1 of 1 completed\n",
    "[*********************100%%**********************]  1 of 1 completed\n",
    "[*********************100%%**********************]  1 of 1 completed\n",
    "[*********************100%%**********************]  1 of 1 completed\n",
    "[*********************100%%**********************]  1 of 1 completed\n",
    "[*********************100%%**********************]  1 of 1 completed\n",
    "[*********************100%%**********************]  1 of 1 completed\n",
    "[*********************100%%**********************]  1 of 1 completed\n",
    "[*********************100%%**********************]  1 of 1 completed\n",
    "[*********************100%%**********************]  1 of 1 completed\n",
    "[*********************100%%**********************]  1 of 1 completed\n",
    "[*********************100%%**********************]  1 of 1 completed\n",
    "[*********************100%%**********************]  1 of 1 completed\n",
    "[*********************100%%**********************]  1 of 1 completed\n",
    "[*********************100%%**********************]  1 of 1 completed\n",
    "[*********************100%%**********************]  1 of 1 completed\n",
    "[*********************100%%**********************]  1 of 1 completed\n",
    "[*********************100%%**********************]  1 of 1 completed\n",
    "[*********************100%%**********************]  1 of 1 completed\n",
    "[*********************100%%**********************]  1 of 1 completed\n",
    "[*********************100%%**********************]  1 of 1 completed\n",
    "[*********************100%%**********************]  1 of 1 completed\n",
    "\n",
    "1 Failed download:\n",
    "['BRQB3.SA']: Exception('%ticker%: No price data found, symbol may be delisted (1d 2013-01-01 -> 2023-11-01)')\n",
    "\n",
    "[*********************100%%**********************]  1 of 1 completed\n",
    "[*********************100%%**********************]  1 of 1 completed\n",
    "[*********************100%%**********************]  1 of 1 completed\n",
    "[*********************100%%**********************]  1 of 1 completed\n",
    "\n",
    "1 Failed download:\n",
    "['CABI3.SA']: Exception('%ticker%: No timezone found, symbol may be delisted')\n",
    "\n",
    "[*********************100%%**********************]  1 of 1 completed\n",
    "[*********************100%%**********************]  1 of 1 completed\n",
    "[*********************100%%**********************]  1 of 1 completed\n",
    "[*********************100%%**********************]  1 of 1 completed\n",
    "[*********************100%%**********************]  1 of 1 completed\n",
    "[*********************100%%**********************]  1 of 1 completed\n",
    "[*********************100%%**********************]  1 of 1 completed\n",
    "[*********************100%%**********************]  1 of 1 completed\n",
    "[*********************100%%**********************]  1 of 1 completed\n",
    "[*********************100%%**********************]  1 of 1 completed\n",
    "[*********************100%%**********************]  1 of 1 completed\n",
    "[*********************100%%**********************]  1 of 1 completed\n",
    "[*********************100%%**********************]  1 of 1 completed\n",
    "[*********************100%%**********************]  1 of 1 completed\n",
    "[*********************100%%**********************]  1 of 1 completed\n",
    "[*********************100%%**********************]  1 of 1 completed\n",
    "[*********************100%%**********************]  1 of 1 completed\n",
    "[*********************100%%**********************]  1 of 1 completed\n",
    "\n",
    "1 Failed download:\n",
    "['CGEE3.SA']: Exception('%ticker%: No timezone found, symbol may be delisted')\n",
    "\n",
    "[*********************100%%**********************]  1 of 1 completed\n",
    "\n",
    "1 Failed download:\n",
    "['CGEE4.SA']: Exception('%ticker%: No timezone found, symbol may be delisted')\n",
    "\n",
    "[*********************100%%**********************]  1 of 1 completed\n",
    "[*********************100%%**********************]  1 of 1 completed\n",
    "[*********************100%%**********************]  1 of 1 completed\n",
    "[*********************100%%**********************]  1 of 1 completed\n",
    "[*********************100%%**********************]  1 of 1 completed\n",
    "[*********************100%%**********************]  1 of 1 completed\n",
    "[*********************100%%**********************]  1 of 1 completed\n",
    "[*********************100%%**********************]  1 of 1 completed\n",
    "[*********************100%%**********************]  1 of 1 completed\n",
    "[*********************100%%**********************]  1 of 1 completed\n",
    "\n",
    "1 Failed download:\n",
    "['CMSA3.SA']: Exception('%ticker%: No timezone found, symbol may be delisted')\n",
    "\n",
    "[*********************100%%**********************]  1 of 1 completed\n",
    "\n",
    "1 Failed download:\n",
    "['CMSA4.SA']: Exception('%ticker%: No timezone found, symbol may be delisted')\n",
    "\n",
    "[*********************100%%**********************]  1 of 1 completed\n",
    "[*********************100%%**********************]  1 of 1 completed\n",
    "[*********************100%%**********************]  1 of 1 completed\n",
    "[*********************100%%**********************]  1 of 1 completed\n",
    "\n",
    "1 Failed download:\n",
    "['CEEB6.SA']: Exception('%ticker%: No timezone found, symbol may be delisted')\n",
    "\n",
    "[*********************100%%**********************]  1 of 1 completed\n",
    "[*********************100%%**********************]  1 of 1 completed\n",
    "[*********************100%%**********************]  1 of 1 completed\n",
    "[*********************100%%**********************]  1 of 1 completed\n",
    "[*********************100%%**********************]  1 of 1 completed\n",
    "\n",
    "1 Failed download:\n",
    "['COMR3.SA']: Exception('%ticker%: No timezone found, symbol may be delisted')\n",
    "\n",
    "[*********************100%%**********************]  1 of 1 completed\n",
    "[*********************100%%**********************]  1 of 1 completed\n",
    "[*********************100%%**********************]  1 of 1 completed\n",
    "\n",
    "1 Failed download:\n",
    "['PASS3.SA']: Exception('%ticker%: No timezone found, symbol may be delisted')\n",
    "\n",
    "[*********************100%%**********************]  1 of 1 completed\n",
    "\n",
    "1 Failed download:\n",
    "['PASS6.SA']: Exception('%ticker%: No timezone found, symbol may be delisted')\n",
    "\n",
    "[*********************100%%**********************]  1 of 1 completed\n",
    "\n",
    "1 Failed download:\n",
    "['CRTE3.SA']: Exception('%ticker%: No timezone found, symbol may be delisted')\n",
    "\n",
    "[*********************100%%**********************]  1 of 1 completed\n",
    "\n",
    "1 Failed download:\n",
    "['CRTE5.SA']: Exception('%ticker%: No timezone found, symbol may be delisted')\n",
    "\n",
    "[*********************100%%**********************]  1 of 1 completed\n",
    "[*********************100%%**********************]  1 of 1 completed\n",
    "[*********************100%%**********************]  1 of 1 completed\n",
    "[*********************100%%**********************]  1 of 1 completed\n",
    "[*********************100%%**********************]  1 of 1 completed\n",
    "[*********************100%%**********************]  1 of 1 completed\n",
    "[*********************100%%**********************]  1 of 1 completed\n",
    "[*********************100%%**********************]  1 of 1 completed\n",
    "[*********************100%%**********************]  1 of 1 completed\n",
    "[*********************100%%**********************]  1 of 1 completed\n",
    "[*********************100%%**********************]  1 of 1 completed\n",
    "[*********************100%%**********************]  1 of 1 completed\n",
    "[*********************100%%**********************]  1 of 1 completed\n",
    "[*********************100%%**********************]  1 of 1 completed\n",
    "[*********************100%%**********************]  1 of 1 completed\n",
    "[*********************100%%**********************]  1 of 1 completed\n",
    "[*********************100%%**********************]  1 of 1 completed\n",
    "[*********************100%%**********************]  1 of 1 completed\n",
    "[*********************100%%**********************]  1 of 1 completed\n",
    "[*********************100%%**********************]  1 of 1 completed\n",
    "[*********************100%%**********************]  1 of 1 completed\n",
    "[*********************100%%**********************]  1 of 1 completed\n",
    "\n",
    "1 Failed download:\n",
    "['CTCA3.SA']: Exception('%ticker%: No timezone found, symbol may be delisted')\n",
    "\n",
    "[*********************100%%**********************]  1 of 1 completed\n",
    "[*********************100%%**********************]  1 of 1 completed\n",
    "[*********************100%%**********************]  1 of 1 completed\n",
    "[*********************100%%**********************]  1 of 1 completed\n",
    "[*********************100%%**********************]  1 of 1 completed\n",
    "[*********************100%%**********************]  1 of 1 completed\n",
    "[*********************100%%**********************]  1 of 1 completed\n",
    "[*********************100%%**********************]  1 of 1 completed\n",
    "[*********************100%%**********************]  1 of 1 completed\n",
    "[*********************100%%**********************]  1 of 1 completed\n",
    "[*********************100%%**********************]  1 of 1 completed\n",
    "[*********************100%%**********************]  1 of 1 completed\n",
    "[*********************100%%**********************]  1 of 1 completed\n",
    "[*********************100%%**********************]  1 of 1 completed\n",
    "[*********************100%%**********************]  1 of 1 completed\n",
    "[*********************100%%**********************]  1 of 1 completed\n",
    "[*********************100%%**********************]  1 of 1 completed\n",
    "\n",
    "1 Failed download:\n",
    "['DTCY4.SA']: Exception('%ticker%: No timezone found, symbol may be delisted')\n",
    "\n",
    "[*********************100%%**********************]  1 of 1 completed\n",
    "[*********************100%%**********************]  1 of 1 completed\n",
    "[*********************100%%**********************]  1 of 1 completed\n",
    "[*********************100%%**********************]  1 of 1 completed\n",
    "[*********************100%%**********************]  1 of 1 completed\n",
    "[*********************100%%**********************]  1 of 1 completed\n",
    "[*********************100%%**********************]  1 of 1 completed\n",
    "[*********************100%%**********************]  1 of 1 completed\n",
    "[*********************100%%**********************]  1 of 1 completed\n",
    "[*********************100%%**********************]  1 of 1 completed\n",
    "[*********************100%%**********************]  1 of 1 completed\n",
    "[*********************100%%**********************]  1 of 1 completed\n",
    "[*********************100%%**********************]  1 of 1 completed\n",
    "[*********************100%%**********************]  1 of 1 completed\n",
    "\n",
    "1 Failed download:\n",
    "['ENBR3.SA']: Exception('%ticker%: No timezone found, symbol may be delisted')\n",
    "\n",
    "[*********************100%%**********************]  1 of 1 completed\n",
    "[*********************100%%**********************]  1 of 1 completed\n",
    "[*********************100%%**********************]  1 of 1 completed\n",
    "[*********************100%%**********************]  1 of 1 completed\n",
    "[*********************100%%**********************]  1 of 1 completed\n",
    "[*********************100%%**********************]  1 of 1 completed\n",
    "[*********************100%%**********************]  1 of 1 completed\n",
    "[*********************100%%**********************]  1 of 1 completed\n",
    "[*********************100%%**********************]  1 of 1 completed\n",
    "[*********************100%%**********************]  1 of 1 completed\n",
    "\n",
    "1 Failed download:\n",
    "['EQMA5B.SA']: Exception('%ticker%: No timezone found, symbol may be delisted')\n",
    "\n",
    "[*********************100%%**********************]  1 of 1 completed\n",
    "\n",
    "1 Failed download:\n",
    "['EQMA6B.SA']: Exception('%ticker%: No timezone found, symbol may be delisted')\n",
    "\n",
    "[*********************100%%**********************]  1 of 1 completed\n",
    "[*********************100%%**********************]  1 of 1 completed\n",
    "[*********************100%%**********************]  1 of 1 completed\n",
    "[*********************100%%**********************]  1 of 1 completed\n",
    "[*********************100%%**********************]  1 of 1 completed\n",
    "[*********************100%%**********************]  1 of 1 completed\n",
    "[*********************100%%**********************]  1 of 1 completed\n",
    "[*********************100%%**********************]  1 of 1 completed\n",
    "[*********************100%%**********************]  1 of 1 completed\n",
    "[*********************100%%**********************]  1 of 1 completed\n",
    "[*********************100%%**********************]  1 of 1 completed\n",
    "[*********************100%%**********************]  1 of 1 completed\n",
    "[*********************100%%**********************]  1 of 1 completed\n",
    "\n",
    "1 Failed download:\n",
    "['EUFA3.SA']: Exception('%ticker%: No timezone found, symbol may be delisted')\n",
    "\n",
    "[*********************100%%**********************]  1 of 1 completed\n",
    "[*********************100%%**********************]  1 of 1 completed\n",
    "[*********************100%%**********************]  1 of 1 completed\n",
    "[*********************100%%**********************]  1 of 1 completed\n",
    "[*********************100%%**********************]  1 of 1 completed\n",
    "[*********************100%%**********************]  1 of 1 completed\n",
    "[*********************100%%**********************]  1 of 1 completed\n",
    "[*********************100%%**********************]  1 of 1 completed\n",
    "[*********************100%%**********************]  1 of 1 completed\n",
    "[*********************100%%**********************]  1 of 1 completed\n",
    "[*********************100%%**********************]  1 of 1 completed\n",
    "[*********************100%%**********************]  1 of 1 completed\n",
    "[*********************100%%**********************]  1 of 1 completed\n",
    "\n",
    "1 Failed download:\n",
    "['OPGM3.SA']: Exception('%ticker%: No timezone found, symbol may be delisted')\n",
    "\n",
    "[*********************100%%**********************]  1 of 1 completed\n",
    "[*********************100%%**********************]  1 of 1 completed\n",
    "[*********************100%%**********************]  1 of 1 completed\n",
    "[*********************100%%**********************]  1 of 1 completed\n",
    "[*********************100%%**********************]  1 of 1 completed\n",
    "[*********************100%%**********************]  1 of 1 completed\n",
    "[*********************100%%**********************]  1 of 1 completed\n",
    "[*********************100%%**********************]  1 of 1 completed\n",
    "[*********************100%%**********************]  1 of 1 completed\n",
    "\n",
    "1 Failed download:\n",
    "['GOLL3.SA']: Exception(\"%ticker%: Period 'max' is invalid, must be one of ['1d', '5d']\")\n",
    "\n",
    "[*********************100%%**********************]  1 of 1 completed\n",
    "[*********************100%%**********************]  1 of 1 completed\n",
    "[*********************100%%**********************]  1 of 1 completed\n",
    "[*********************100%%**********************]  1 of 1 completed\n",
    "[*********************100%%**********************]  1 of 1 completed\n",
    "[*********************100%%**********************]  1 of 1 completed\n",
    "[*********************100%%**********************]  1 of 1 completed\n",
    "[*********************100%%**********************]  1 of 1 completed\n",
    "[*********************100%%**********************]  1 of 1 completed\n",
    "[*********************100%%**********************]  1 of 1 completed\n",
    "[*********************100%%**********************]  1 of 1 completed\n",
    "[*********************100%%**********************]  1 of 1 completed\n",
    "\n",
    "1 Failed download:\n",
    "['HBTS3.SA']: Exception('%ticker%: No price data found, symbol may be delisted (1d 2013-01-01 -> 2023-11-01)')\n",
    "\n",
    "[*********************100%%**********************]  1 of 1 completed\n",
    "[*********************100%%**********************]  1 of 1 completed\n",
    "\n",
    "1 Failed download:\n",
    "['HBTS6.SA']: Exception('%ticker%: No price data found, symbol may be delisted (1d 2013-01-01 -> 2023-11-01)')\n",
    "\n",
    "[*********************100%%**********************]  1 of 1 completed\n",
    "[*********************100%%**********************]  1 of 1 completed\n",
    "[*********************100%%**********************]  1 of 1 completed\n",
    "[*********************100%%**********************]  1 of 1 completed\n",
    "[*********************100%%**********************]  1 of 1 completed\n",
    "[*********************100%%**********************]  1 of 1 completed\n",
    "[*********************100%%**********************]  1 of 1 completed\n",
    "[*********************100%%**********************]  1 of 1 completed\n",
    "[*********************100%%**********************]  1 of 1 completed\n",
    "\n",
    "1 Failed download:\n",
    "['HMOB3.SA']: Exception('%ticker%: No timezone found, symbol may be delisted')\n",
    "\n",
    "[*********************100%%**********************]  1 of 1 completed\n",
    "[*********************100%%**********************]  1 of 1 completed\n",
    "[*********************100%%**********************]  1 of 1 completed\n",
    "[*********************100%%**********************]  1 of 1 completed\n",
    "\n",
    "1 Failed download:\n",
    "['IGSN3.SA']: Exception('%ticker%: No price data found, symbol may be delisted (1d 2013-01-01 -> 2023-11-01)')\n",
    "\n",
    "[*********************100%%**********************]  1 of 1 completed\n",
    "[*********************100%%**********************]  1 of 1 completed\n",
    "[*********************100%%**********************]  1 of 1 completed\n",
    "[*********************100%%**********************]  1 of 1 completed\n",
    "[*********************100%%**********************]  1 of 1 completed\n",
    "\n",
    "1 Failed download:\n",
    "['CATA3.SA']: Exception('%ticker%: No timezone found, symbol may be delisted')\n",
    "\n",
    "[*********************100%%**********************]  1 of 1 completed\n",
    "\n",
    "1 Failed download:\n",
    "['CATA4.SA']: Exception('%ticker%: No timezone found, symbol may be delisted')\n",
    "\n",
    "[*********************100%%**********************]  1 of 1 completed\n",
    "[*********************100%%**********************]  1 of 1 completed\n",
    "[*********************100%%**********************]  1 of 1 completed\n",
    "[*********************100%%**********************]  1 of 1 completed\n",
    "[*********************100%%**********************]  1 of 1 completed\n",
    "\n",
    "1 Failed download:\n",
    "['INNT3.SA']: Exception('%ticker%: No timezone found, symbol may be delisted')\n",
    "\n",
    "[*********************100%%**********************]  1 of 1 completed\n",
    "\n",
    "1 Failed download:\n",
    "['IVPR3B.SA']: Exception('%ticker%: No timezone found, symbol may be delisted')\n",
    "\n",
    "[*********************100%%**********************]  1 of 1 completed\n",
    "\n",
    "1 Failed download:\n",
    "['IVPR4B.SA']: Exception('%ticker%: No timezone found, symbol may be delisted')\n",
    "\n",
    "[*********************100%%**********************]  1 of 1 completed\n",
    "[*********************100%%**********************]  1 of 1 completed\n",
    "[*********************100%%**********************]  1 of 1 completed\n",
    "[*********************100%%**********************]  1 of 1 completed\n",
    "[*********************100%%**********************]  1 of 1 completed\n",
    "[*********************100%%**********************]  1 of 1 completed\n",
    "[*********************100%%**********************]  1 of 1 completed\n",
    "[*********************100%%**********************]  1 of 1 completed\n",
    "[*********************100%%**********************]  1 of 1 completed\n",
    "[*********************100%%**********************]  1 of 1 completed\n",
    "[*********************100%%**********************]  1 of 1 completed\n",
    "[*********************100%%**********************]  1 of 1 completed\n",
    "[*********************100%%**********************]  1 of 1 completed\n",
    "[*********************100%%**********************]  1 of 1 completed\n",
    "[*********************100%%**********************]  1 of 1 completed\n",
    "[*********************100%%**********************]  1 of 1 completed\n",
    "[*********************100%%**********************]  1 of 1 completed\n",
    "\n",
    "1 Failed download:\n",
    "['KLAS3.SA']: Exception('%ticker%: No timezone found, symbol may be delisted')\n",
    "\n",
    "[*********************100%%**********************]  1 of 1 completed\n",
    "[*********************100%%**********************]  1 of 1 completed\n",
    "[*********************100%%**********************]  1 of 1 completed\n",
    "[*********************100%%**********************]  1 of 1 completed\n",
    "[*********************100%%**********************]  1 of 1 completed\n",
    "[*********************100%%**********************]  1 of 1 completed\n",
    "[*********************100%%**********************]  1 of 1 completed\n",
    "[*********************100%%**********************]  1 of 1 completed\n",
    "[*********************100%%**********************]  1 of 1 completed\n",
    "\n",
    "1 Failed download:\n",
    "['LLBI3.SA']: Exception('%ticker%: No timezone found, symbol may be delisted')\n",
    "\n",
    "[*********************100%%**********************]  1 of 1 completed\n",
    "\n",
    "1 Failed download:\n",
    "['LMED3.SA']: Exception('%ticker%: No timezone found, symbol may be delisted')\n",
    "\n",
    "[*********************100%%**********************]  1 of 1 completed\n",
    "[*********************100%%**********************]  1 of 1 completed\n",
    "\n",
    "1 Failed download:\n",
    "['LTEL3B.SA']: Exception('%ticker%: No timezone found, symbol may be delisted')\n",
    "\n",
    "[*********************100%%**********************]  1 of 1 completed\n",
    "\n",
    "1 Failed download:\n",
    "['LTLA3B.SA']: Exception('%ticker%: No timezone found, symbol may be delisted')\n",
    "\n",
    "[*********************100%%**********************]  1 of 1 completed\n",
    "[*********************100%%**********************]  1 of 1 completed\n",
    "[*********************100%%**********************]  1 of 1 completed\n",
    "[*********************100%%**********************]  1 of 1 completed\n",
    "[*********************100%%**********************]  1 of 1 completed\n",
    "[*********************100%%**********************]  1 of 1 completed\n",
    "[*********************100%%**********************]  1 of 1 completed\n",
    "[*********************100%%**********************]  1 of 1 completed\n",
    "[*********************100%%**********************]  1 of 1 completed\n",
    "[*********************100%%**********************]  1 of 1 completed\n",
    "\n",
    "1 Failed download:\n",
    "['MSRO3.SA']: Exception('%ticker%: No timezone found, symbol may be delisted')\n",
    "\n",
    "[*********************100%%**********************]  1 of 1 completed\n",
    "[*********************100%%**********************]  1 of 1 completed\n",
    "[*********************100%%**********************]  1 of 1 completed\n",
    "[*********************100%%**********************]  1 of 1 completed\n",
    "[*********************100%%**********************]  1 of 1 completed\n",
    "[*********************100%%**********************]  1 of 1 completed\n",
    "[*********************100%%**********************]  1 of 1 completed\n",
    "[*********************100%%**********************]  1 of 1 completed\n",
    "[*********************100%%**********************]  1 of 1 completed\n",
    "[*********************100%%**********************]  1 of 1 completed\n",
    "[*********************100%%**********************]  1 of 1 completed\n",
    "[*********************100%%**********************]  1 of 1 completed\n",
    "\n",
    "1 Failed download:\n",
    "['MNZC3.SA']: Exception('%ticker%: No timezone found, symbol may be delisted')\n",
    "\n",
    "[*********************100%%**********************]  1 of 1 completed\n",
    "[*********************100%%**********************]  1 of 1 completed\n",
    "[*********************100%%**********************]  1 of 1 completed\n",
    "[*********************100%%**********************]  1 of 1 completed\n",
    "[*********************100%%**********************]  1 of 1 completed\n",
    "[*********************100%%**********************]  1 of 1 completed\n",
    "[*********************100%%**********************]  1 of 1 completed\n",
    "[*********************100%%**********************]  1 of 1 completed\n",
    "[*********************100%%**********************]  1 of 1 completed\n",
    "[*********************100%%**********************]  1 of 1 completed\n",
    "[*********************100%%**********************]  1 of 1 completed\n",
    "[*********************100%%**********************]  1 of 1 completed\n",
    "[*********************100%%**********************]  1 of 1 completed\n",
    "[*********************100%%**********************]  1 of 1 completed\n",
    "[*********************100%%**********************]  1 of 1 completed\n",
    "[*********************100%%**********************]  1 of 1 completed\n",
    "[*********************100%%**********************]  1 of 1 completed\n",
    "[*********************100%%**********************]  1 of 1 completed\n",
    "[*********************100%%**********************]  1 of 1 completed\n",
    "[*********************100%%**********************]  1 of 1 completed\n",
    "[*********************100%%**********************]  1 of 1 completed\n",
    "[*********************100%%**********************]  1 of 1 completed\n",
    "[*********************100%%**********************]  1 of 1 completed\n",
    "[*********************100%%**********************]  1 of 1 completed\n",
    "[*********************100%%**********************]  1 of 1 completed\n",
    "[*********************100%%**********************]  1 of 1 completed\n",
    "[*********************100%%**********************]  1 of 1 completed\n",
    "[*********************100%%**********************]  1 of 1 completed\n",
    "[*********************100%%**********************]  1 of 1 completed\n",
    "[*********************100%%**********************]  1 of 1 completed\n",
    "[*********************100%%**********************]  1 of 1 completed\n",
    "[*********************100%%**********************]  1 of 1 completed\n",
    "[*********************100%%**********************]  1 of 1 completed\n",
    "\n",
    "1 Failed download:\n",
    "['NRTQ3.SA']: Exception('%ticker%: No timezone found, symbol may be delisted')\n",
    "\n",
    "[*********************100%%**********************]  1 of 1 completed\n",
    "[*********************100%%**********************]  1 of 1 completed\n",
    "[*********************100%%**********************]  1 of 1 completed\n",
    "[*********************100%%**********************]  1 of 1 completed\n",
    "\n",
    "1 Failed download:\n",
    "['ODER3.SA']: Exception('%ticker%: No timezone found, symbol may be delisted')\n",
    "\n",
    "[*********************100%%**********************]  1 of 1 completed\n",
    "[*********************100%%**********************]  1 of 1 completed\n",
    "[*********************100%%**********************]  1 of 1 completed\n",
    "[*********************100%%**********************]  1 of 1 completed\n",
    "[*********************100%%**********************]  1 of 1 completed\n",
    "[*********************100%%**********************]  1 of 1 completed\n",
    "[*********************100%%**********************]  1 of 1 completed\n",
    "[*********************100%%**********************]  1 of 1 completed\n",
    "[*********************100%%**********************]  1 of 1 completed\n",
    "[*********************100%%**********************]  1 of 1 completed\n",
    "[*********************100%%**********************]  1 of 1 completed\n",
    "[*********************100%%**********************]  1 of 1 completed\n",
    "[*********************100%%**********************]  1 of 1 completed\n",
    "[*********************100%%**********************]  1 of 1 completed\n",
    "[*********************100%%**********************]  1 of 1 completed\n",
    "[*********************100%%**********************]  1 of 1 completed\n",
    "[*********************100%%**********************]  1 of 1 completed\n",
    "[*********************100%%**********************]  1 of 1 completed\n",
    "[*********************100%%**********************]  1 of 1 completed\n",
    "[*********************100%%**********************]  1 of 1 completed\n",
    "[*********************100%%**********************]  1 of 1 completed\n",
    "[*********************100%%**********************]  1 of 1 completed\n",
    "[*********************100%%**********************]  1 of 1 completed\n",
    "[*********************100%%**********************]  1 of 1 completed\n",
    "[*********************100%%**********************]  1 of 1 completed\n",
    "[*********************100%%**********************]  1 of 1 completed\n",
    "[*********************100%%**********************]  1 of 1 completed\n",
    "[*********************100%%**********************]  1 of 1 completed\n",
    "[*********************100%%**********************]  1 of 1 completed\n",
    "[*********************100%%**********************]  1 of 1 completed\n",
    "[*********************100%%**********************]  1 of 1 completed\n",
    "[*********************100%%**********************]  1 of 1 completed\n",
    "[*********************100%%**********************]  1 of 1 completed\n",
    "[*********************100%%**********************]  1 of 1 completed\n",
    "[*********************100%%**********************]  1 of 1 completed\n",
    "[*********************100%%**********************]  1 of 1 completed\n",
    "\n",
    "1 Failed download:\n",
    "['PTCA3.SA']: Exception('%ticker%: No timezone found, symbol may be delisted')\n",
    "\n",
    "[*********************100%%**********************]  1 of 1 completed\n",
    "\n",
    "1 Failed download:\n",
    "['PTCA11.SA']: Exception('%ticker%: No timezone found, symbol may be delisted')\n",
    "\n",
    "[*********************100%%**********************]  1 of 1 completed\n",
    "[*********************100%%**********************]  1 of 1 completed\n",
    "[*********************100%%**********************]  1 of 1 completed\n",
    "\n",
    "1 Failed download:\n",
    "['PRPT3.SA']: Exception('%ticker%: No timezone found, symbol may be delisted')\n",
    "\n",
    "[*********************100%%**********************]  1 of 1 completed\n",
    "[*********************100%%**********************]  1 of 1 completed\n",
    "\n",
    "1 Failed download:\n",
    "['QUSW3.SA']: Exception('%ticker%: No timezone found, symbol may be delisted')\n",
    "\n",
    "[*********************100%%**********************]  1 of 1 completed\n",
    "[*********************100%%**********************]  1 of 1 completed\n",
    "[*********************100%%**********************]  1 of 1 completed\n",
    "[*********************100%%**********************]  1 of 1 completed\n",
    "[*********************100%%**********************]  1 of 1 completed\n",
    "[*********************100%%**********************]  1 of 1 completed\n",
    "[*********************100%%**********************]  1 of 1 completed\n",
    "[*********************100%%**********************]  1 of 1 completed\n",
    "[*********************100%%**********************]  1 of 1 completed\n",
    "[*********************100%%**********************]  1 of 1 completed\n",
    "[*********************100%%**********************]  1 of 1 completed\n",
    "[*********************100%%**********************]  1 of 1 completed\n",
    "[*********************100%%**********************]  1 of 1 completed\n",
    "[*********************100%%**********************]  1 of 1 completed\n",
    "[*********************100%%**********************]  1 of 1 completed\n",
    "[*********************100%%**********************]  1 of 1 completed\n",
    "\n",
    "1 Failed download:\n",
    "['RBNS11.SA']: Exception('%ticker%: No timezone found, symbol may be delisted')\n",
    "\n",
    "[*********************100%%**********************]  1 of 1 completed\n",
    "[*********************100%%**********************]  1 of 1 completed\n",
    "[*********************100%%**********************]  1 of 1 completed\n",
    "[*********************100%%**********************]  1 of 1 completed\n",
    "[*********************100%%**********************]  1 of 1 completed\n",
    "\n",
    "1 Failed download:\n",
    "['SAEN3.SA']: Exception('%ticker%: No timezone found, symbol may be delisted')\n",
    "\n",
    "[*********************100%%**********************]  1 of 1 completed\n",
    "[*********************100%%**********************]  1 of 1 completed\n",
    "[*********************100%%**********************]  1 of 1 completed\n",
    "[*********************100%%**********************]  1 of 1 completed\n",
    "[*********************100%%**********************]  1 of 1 completed\n",
    "[*********************100%%**********************]  1 of 1 completed\n",
    "[*********************100%%**********************]  1 of 1 completed\n",
    "[*********************100%%**********************]  1 of 1 completed\n",
    "[*********************100%%**********************]  1 of 1 completed\n",
    "[*********************100%%**********************]  1 of 1 completed\n",
    "[*********************100%%**********************]  1 of 1 completed\n",
    "[*********************100%%**********************]  1 of 1 completed\n",
    "[*********************100%%**********************]  1 of 1 completed\n",
    "[*********************100%%**********************]  1 of 1 completed\n",
    "[*********************100%%**********************]  1 of 1 completed\n",
    "[*********************100%%**********************]  1 of 1 completed\n",
    "[*********************100%%**********************]  1 of 1 completed\n",
    "[*********************100%%**********************]  1 of 1 completed\n",
    "[*********************100%%**********************]  1 of 1 completed\n",
    "[*********************100%%**********************]  1 of 1 completed\n",
    "[*********************100%%**********************]  1 of 1 completed\n",
    "[*********************100%%**********************]  1 of 1 completed\n",
    "[*********************100%%**********************]  1 of 1 completed\n",
    "[*********************100%%**********************]  1 of 1 completed\n",
    "[*********************100%%**********************]  1 of 1 completed\n",
    "[*********************100%%**********************]  1 of 1 completed\n",
    "[*********************100%%**********************]  1 of 1 completed\n",
    "[*********************100%%**********************]  1 of 1 completed\n",
    "[*********************100%%**********************]  1 of 1 completed\n",
    "[*********************100%%**********************]  1 of 1 completed\n",
    "[*********************100%%**********************]  1 of 1 completed\n",
    "[*********************100%%**********************]  1 of 1 completed\n",
    "[*********************100%%**********************]  1 of 1 completed\n",
    "[*********************100%%**********************]  1 of 1 completed\n",
    "[*********************100%%**********************]  1 of 1 completed\n",
    "[*********************100%%**********************]  1 of 1 completed\n",
    "\n",
    "1 Failed download:\n",
    "['OPSE3.SA']: Exception('%ticker%: No timezone found, symbol may be delisted')\n",
    "\n",
    "[*********************100%%**********************]  1 of 1 completed\n",
    "\n",
    "1 Failed download:\n",
    "['OPTS3.SA']: Exception('%ticker%: No timezone found, symbol may be delisted')\n",
    "\n",
    "[*********************100%%**********************]  1 of 1 completed\n",
    "[*********************100%%**********************]  1 of 1 completed\n",
    "\n",
    "1 Failed download:\n",
    "['NEMO5.SA']: Exception(\"%ticker%: Period 'max' is invalid, must be one of ['1d', '5d']\")\n",
    "\n",
    "[*********************100%%**********************]  1 of 1 completed\n",
    "\n",
    "1 Failed download:\n",
    "['NEMO6.SA']: Exception(\"%ticker%: Period 'max' is invalid, must be one of ['1d', '5d']\")\n",
    "\n",
    "[*********************100%%**********************]  1 of 1 completed\n",
    "[*********************100%%**********************]  1 of 1 completed\n",
    "[*********************100%%**********************]  1 of 1 completed\n",
    "[*********************100%%**********************]  1 of 1 completed\n",
    "[*********************100%%**********************]  1 of 1 completed\n",
    "[*********************100%%**********************]  1 of 1 completed\n",
    "[*********************100%%**********************]  1 of 1 completed\n",
    "[*********************100%%**********************]  1 of 1 completed\n",
    "[*********************100%%**********************]  1 of 1 completed\n",
    "[*********************100%%**********************]  1 of 1 completed\n",
    "[*********************100%%**********************]  1 of 1 completed\n",
    "[*********************100%%**********************]  1 of 1 completed\n",
    "\n",
    "1 Failed download:\n",
    "['TEGA3.SA']: Exception('%ticker%: No timezone found, symbol may be delisted')\n",
    "\n",
    "[*********************100%%**********************]  1 of 1 completed\n",
    "[*********************100%%**********************]  1 of 1 completed\n",
    "[*********************100%%**********************]  1 of 1 completed\n",
    "[*********************100%%**********************]  1 of 1 completed\n",
    "[*********************100%%**********************]  1 of 1 completed\n",
    "[*********************100%%**********************]  1 of 1 completed\n",
    "[*********************100%%**********************]  1 of 1 completed\n",
    "[*********************100%%**********************]  1 of 1 completed\n",
    "[*********************100%%**********************]  1 of 1 completed\n",
    "[*********************100%%**********************]  1 of 1 completed\n",
    "[*********************100%%**********************]  1 of 1 completed\n",
    "[*********************100%%**********************]  1 of 1 completed\n",
    "[*********************100%%**********************]  1 of 1 completed\n",
    "[*********************100%%**********************]  1 of 1 completed\n",
    "[*********************100%%**********************]  1 of 1 completed\n",
    "[*********************100%%**********************]  1 of 1 completed\n",
    "[*********************100%%**********************]  1 of 1 completed\n",
    "[*********************100%%**********************]  1 of 1 completed\n",
    "[*********************100%%**********************]  1 of 1 completed\n",
    "[*********************100%%**********************]  1 of 1 completed\n",
    "[*********************100%%**********************]  1 of 1 completed\n",
    "[*********************100%%**********************]  1 of 1 completed\n",
    "[*********************100%%**********************]  1 of 1 completed\n",
    "[*********************100%%**********************]  1 of 1 completed\n",
    "[*********************100%%**********************]  1 of 1 completed\n",
    "[*********************100%%**********************]  1 of 1 completed\n",
    "[*********************100%%**********************]  1 of 1 completed\n",
    "[*********************100%%**********************]  1 of 1 completed\n",
    "[*********************100%%**********************]  1 of 1 completed\n",
    "\n",
    "1 Failed download:\n",
    "['UPKP3.SA']: Exception('%ticker%: No timezone found, symbol may be delisted')\n",
    "\n",
    "[*********************100%%**********************]  1 of 1 completed\n",
    "[*********************100%%**********************]  1 of 1 completed\n",
    "[*********************100%%**********************]  1 of 1 completed\n",
    "[*********************100%%**********************]  1 of 1 completed\n",
    "[*********************100%%**********************]  1 of 1 completed\n",
    "[*********************100%%**********************]  1 of 1 completed\n",
    "[*********************100%%**********************]  1 of 1 completed\n",
    "[*********************100%%**********************]  1 of 1 completed\n",
    "[*********************100%%**********************]  1 of 1 completed\n",
    "[*********************100%%**********************]  1 of 1 completed\n",
    "[*********************100%%**********************]  1 of 1 completed\n",
    "[*********************100%%**********************]  1 of 1 completed\n",
    "[*********************100%%**********************]  1 of 1 completed\n",
    "[*********************100%%**********************]  1 of 1 completed\n",
    "[*********************100%%**********************]  1 of 1 completed\n",
    "[*********************100%%**********************]  1 of 1 completed\n",
    "[*********************100%%**********************]  1 of 1 completed\n",
    "[*********************100%%**********************]  1 of 1 completed\n",
    "[*********************100%%**********************]  1 of 1 completed\n",
    "[*********************100%%**********************]  1 of 1 completed\n",
    "[*********************100%%**********************]  1 of 1 completed\n",
    "[*********************100%%**********************]  1 of 1 completed\n",
    "[*********************100%%**********************]  1 of 1 completed\n",
    "[*********************100%%**********************]  1 of 1 completed\n",
    "[*********************100%%**********************]  1 of 1 completed\n",
    "\n",
    "1 Failed download:\n",
    "['YBRA3.SA']: Exception('%ticker%: No timezone found, symbol may be delisted')\n",
    "\n",
    "[*********************100%%**********************]  1 of 1 completed\n",
    "[*********************100%%**********************]  1 of 1 completed'''\n",
    "\n",
    "padrao = re.compile(r\"'(.*?\\.SA)'\")\n",
    "\n",
    "teste2 = padrao.findall(teste)\n",
    "teste2 = pd.DataFrame(teste2)\n",
    "teste2.to_excel('acoes_erro_yahoo.xlsx')"
   ]
  },
  {
   "cell_type": "code",
   "execution_count": 55,
   "metadata": {},
   "outputs": [],
   "source": [
    "acoes = pd.read_csv('https://raw.githubusercontent.com/jrodrigotico/python/projeto_acoes/base_completa_acoes_subsetor.csv', sep=';')[['Código','Subsetor Bovespa']]\n",
    "acoes = acoes[acoes['Código'].apply(lambda x: len(str(x))==5)]\n",
    "subsetor = sorted(acoes['Subsetor Bovespa'].unique())\n",
    "filtro_subsetor = acoes.loc[acoes['Subsetor Bovespa'].isin(subsetor)].iloc[:,0]\n",
    "filtro_subsetor = pd.DataFrame(filtro_subsetor)\n",
    "\n",
    "\n",
    "acoes_erro = pd.read_csv('https://raw.githubusercontent.com/jrodrigotico/python/projeto_acoes/acoes_erro_yahoo.csv', sep=';')\n",
    "acoes_erro.columns = ['index', 'ticker']\n",
    "\n",
    "def cortar_palavra(i):\n",
    "    return i[:5]\n",
    "\n",
    "acoes_erro['ticker'] = acoes_erro['ticker'].apply(cortar_palavra)\n",
    "\n",
    "valores_a_manter = ~filtro_subsetor['Código'].isin(acoes_erro['ticker'])\n",
    "\n",
    "# Manter somente os valores que não estão na coluna 'ticker'\n",
    "filtro_subsetor = filtro_subsetor[valores_a_manter]\n"
   ]
  },
  {
   "cell_type": "code",
   "execution_count": 20,
   "metadata": {},
   "outputs": [
    {
     "name": "stdout",
     "output_type": "stream",
     "text": [
      "   teste1  teste2  teste3\n",
      "0       1       2       3\n",
      "1       5       6       7\n",
      "2       8       4       5\n",
      "     teste1    teste2    teste3\n",
      "1  1.609438  1.098612  0.847298\n",
      "2  0.470004 -0.405465 -0.336472\n",
      "teste1    1.039721\n",
      "teste2    0.346574\n",
      "teste3    0.255413\n",
      "dtype: float64\n"
     ]
    }
   ],
   "source": [
    "# testando retorno medio\n",
    "\n",
    "numeros = [[1,2,3],[5,6,7],[8,4,5]]\n",
    "tabela_teste = pd.DataFrame(numeros, columns = ['teste1','teste2','teste3'])\n",
    "tabela_teste\n",
    "\n",
    "\n",
    "# tabela_retorn = tabela_teste.pct_change().dropna()\n",
    "\n",
    "tabela_retorn = tabela_teste.pct_change().dropna()\n",
    "retorno_continuo = np.log(tabela_retorn + 1)\n",
    "\n",
    "def media(i):\n",
    "    return i.mean()\n",
    "media_retorno_continuo = retorno_continuo.apply(media, axis=0)\n",
    "\n",
    "\n",
    "print(tabela_teste)\n",
    "print(retorno_continuo)\n",
    "print(media_retorno_continuo)\n",
    "\n"
   ]
  }
 ],
 "metadata": {
  "kernelspec": {
   "display_name": "Python 3",
   "language": "python",
   "name": "python3"
  },
  "language_info": {
   "codemirror_mode": {
    "name": "ipython",
    "version": 3
   },
   "file_extension": ".py",
   "mimetype": "text/x-python",
   "name": "python",
   "nbconvert_exporter": "python",
   "pygments_lexer": "ipython3",
   "version": "3.11.4"
  }
 },
 "nbformat": 4,
 "nbformat_minor": 2
}
