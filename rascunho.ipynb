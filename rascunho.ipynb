{
 "cells": [
  {
   "cell_type": "code",
   "execution_count": null,
   "metadata": {},
   "outputs": [],
   "source": [
    "import pandas as pd\n",
    "import yfinance as yf\n",
    "import pandas_datareader as pdr\n",
    "import numpy as np\n",
    "import matplotlib.pyplot as mplt\n",
    "import seaborn as sn\n",
    "import datetime\n",
    "import streamlit as st\n",
    "import os\n",
    "import plotly.express as px\n",
    "import plotly.colors as pcolors\n",
    "import plotly.graph_objects as go\n",
    "from scipy.optimize import minimize"
   ]
  },
  {
   "cell_type": "code",
   "execution_count": null,
   "metadata": {},
   "outputs": [],
   "source": [
    "acoes = pd.read_csv('https://raw.githubusercontent.com/jrodrigotico/python/projeto_acoes/base_completa_acoes_subsetor.csv', sep=';')[['Código','Subsetor Bovespa']]\n",
    "acoes"
   ]
  },
  {
   "cell_type": "code",
   "execution_count": null,
   "metadata": {},
   "outputs": [],
   "source": [
    "acoes = pd.read_csv('https://raw.githubusercontent.com/jrodrigotico/python/projeto_acoes/base_completa_acoes_subsetor.csv', sep=';')[['Código','Subsetor Bovespa']]\n",
    "subsetor =  sorted(acoes['Subsetor Bovespa'].unique())\n",
    "filtro_subsetor = acoes.loc[acoes['Subsetor Bovespa'].isin(subsetor)].iloc[:,0] # esse iloc retorna as acoes de determinado subsetor que foi anteriormente selecionado, é zero pq o 0 representa a coluna de códigos que é o que eu desejo que retorne\n",
    "\n",
    "selecionar_acoes = 'Selecione ações', sorted(filtro_subsetor + '.SA')\n",
    "selecionar_acoes"
   ]
  },
  {
   "cell_type": "code",
   "execution_count": null,
   "metadata": {},
   "outputs": [],
   "source": [
    "acoes = pd.read_csv('https://raw.githubusercontent.com/jrodrigotico/python/projeto_acoes/base_completa_acoes_subsetor.csv', sep=';')[['Código','Subsetor Bovespa']]\n",
    "acoes = acoes[acoes['Código'].apply(lambda x: len(str(x))==5)]\n",
    "acoes.info()\n"
   ]
  },
  {
   "cell_type": "code",
   "execution_count": null,
   "metadata": {},
   "outputs": [],
   "source": [
    "selic = pd.read_csv('https://raw.githubusercontent.com/jrodrigotico/python/projeto_acoes/selic.csv', sep=';')\n",
    "selic['Data'] = pd.to_datetime(selic['Data'])\n",
    "# selic = selic.loc[(selic['Data']>= '2013-01-16') & (selic['Data']<= '2013-01-17')]\n",
    "\n",
    "# selic = selic.loc[(selic['Data']>= '16/01/2013') & (selic['Data']<= '21/01/2013')]\n"
   ]
  },
  {
   "cell_type": "code",
   "execution_count": 21,
   "metadata": {},
   "outputs": [
    {
     "name": "stdout",
     "output_type": "stream",
     "text": [
      "[*********************100%%**********************]  1 of 1 completed"
     ]
    },
    {
     "name": "stderr",
     "output_type": "stream",
     "text": [
      "\n",
      "1 Failed download:\n",
      "['CRTE3.SA']: Exception('%ticker%: No timezone found, symbol may be delisted')\n"
     ]
    },
    {
     "name": "stdout",
     "output_type": "stream",
     "text": [
      "\n",
      "[*********************100%%**********************]  1 of 1 completed\n"
     ]
    }
   ],
   "source": [
    "ticker1 = 'CRTE3.SA'\n",
    "ticker2 = 'PETR3.SA'\n",
    "data_i = '2014-03-01'\n",
    "data_f = '2023-04-03'\n",
    "\n",
    "tabela_acao1 = round(yf.download(ticker1, start=data_i, end=data_f)[\"Adj Close\"].rename(ticker1),2)\n",
    "tabela_acao2 = round(yf.download(ticker2, start=data_i, end=data_f)[\"Adj Close\"].rename(ticker2),2)\n",
    "\n",
    "tabela_final= pd.concat([tabela_acao1,tabela_acao2], ignore_index=True, axis=1)\n",
    "tabela_final = tabela_final.fillna(0)\n"
   ]
  },
  {
   "cell_type": "code",
   "execution_count": 19,
   "metadata": {},
   "outputs": [
    {
     "data": {
      "text/plain": [
       "Timestamp('2014-03-05 00:00:00')"
      ]
     },
     "execution_count": 19,
     "metadata": {},
     "output_type": "execute_result"
    }
   ],
   "source": [
    "tabela_final.first_valid_index()"
   ]
  }
 ],
 "metadata": {
  "kernelspec": {
   "display_name": "Python 3",
   "language": "python",
   "name": "python3"
  },
  "language_info": {
   "codemirror_mode": {
    "name": "ipython",
    "version": 3
   },
   "file_extension": ".py",
   "mimetype": "text/x-python",
   "name": "python",
   "nbconvert_exporter": "python",
   "pygments_lexer": "ipython3",
   "version": "3.11.4"
  }
 },
 "nbformat": 4,
 "nbformat_minor": 2
}
