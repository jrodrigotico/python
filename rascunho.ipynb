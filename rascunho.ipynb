{
 "cells": [
  {
   "cell_type": "code",
   "execution_count": 1,
   "metadata": {},
   "outputs": [],
   "source": [
    "import pandas as pd\n",
    "import yfinance as yf\n",
    "import pandas_datareader as pdr\n",
    "import numpy as np\n",
    "import matplotlib.pyplot as mplt\n",
    "import seaborn as sn\n",
    "import datetime\n",
    "import streamlit as st\n",
    "import os\n",
    "import plotly.express as px\n",
    "import plotly.colors as pcolors\n",
    "import plotly.graph_objects as go\n",
    "from scipy.optimize import minimize"
   ]
  },
  {
   "cell_type": "code",
   "execution_count": 4,
   "metadata": {},
   "outputs": [
    {
     "data": {
      "text/html": [
       "<div>\n",
       "<style scoped>\n",
       "    .dataframe tbody tr th:only-of-type {\n",
       "        vertical-align: middle;\n",
       "    }\n",
       "\n",
       "    .dataframe tbody tr th {\n",
       "        vertical-align: top;\n",
       "    }\n",
       "\n",
       "    .dataframe thead th {\n",
       "        text-align: right;\n",
       "    }\n",
       "</style>\n",
       "<table border=\"1\" class=\"dataframe\">\n",
       "  <thead>\n",
       "    <tr style=\"text-align: right;\">\n",
       "      <th></th>\n",
       "      <th>Código</th>\n",
       "      <th>Subsetor Bovespa</th>\n",
       "    </tr>\n",
       "  </thead>\n",
       "  <tbody>\n",
       "    <tr>\n",
       "      <th>0</th>\n",
       "      <td>RRRP3</td>\n",
       "      <td>Petróleo, Gás e Biocombustíveis</td>\n",
       "    </tr>\n",
       "    <tr>\n",
       "      <th>1</th>\n",
       "      <td>TTEN3</td>\n",
       "      <td>Agropecuária</td>\n",
       "    </tr>\n",
       "    <tr>\n",
       "      <th>2</th>\n",
       "      <td>QVQP3</td>\n",
       "      <td>Outros</td>\n",
       "    </tr>\n",
       "    <tr>\n",
       "      <th>3</th>\n",
       "      <td>ABCB4</td>\n",
       "      <td>Intermediários Financeiros</td>\n",
       "    </tr>\n",
       "    <tr>\n",
       "      <th>4</th>\n",
       "      <td>EALT3</td>\n",
       "      <td>Máquinas e Equipamentos</td>\n",
       "    </tr>\n",
       "    <tr>\n",
       "      <th>...</th>\n",
       "      <td>...</td>\n",
       "      <td>...</td>\n",
       "    </tr>\n",
       "    <tr>\n",
       "      <th>542</th>\n",
       "      <td>WLMM3</td>\n",
       "      <td>Comércio</td>\n",
       "    </tr>\n",
       "    <tr>\n",
       "      <th>543</th>\n",
       "      <td>WLMM4</td>\n",
       "      <td>Comércio</td>\n",
       "    </tr>\n",
       "    <tr>\n",
       "      <th>544</th>\n",
       "      <td>YBRA3</td>\n",
       "      <td>Outros</td>\n",
       "    </tr>\n",
       "    <tr>\n",
       "      <th>545</th>\n",
       "      <td>YDUQ3</td>\n",
       "      <td>Diversos</td>\n",
       "    </tr>\n",
       "    <tr>\n",
       "      <th>546</th>\n",
       "      <td>ZAMP3</td>\n",
       "      <td>Hoteis e Restaurantes</td>\n",
       "    </tr>\n",
       "  </tbody>\n",
       "</table>\n",
       "<p>547 rows × 2 columns</p>\n",
       "</div>"
      ],
      "text/plain": [
       "    Código                 Subsetor Bovespa\n",
       "0    RRRP3  Petróleo, Gás e Biocombustíveis\n",
       "1    TTEN3                     Agropecuária\n",
       "2    QVQP3                           Outros\n",
       "3    ABCB4       Intermediários Financeiros\n",
       "4    EALT3          Máquinas e Equipamentos\n",
       "..     ...                              ...\n",
       "542  WLMM3                         Comércio\n",
       "543  WLMM4                         Comércio\n",
       "544  YBRA3                           Outros\n",
       "545  YDUQ3                         Diversos\n",
       "546  ZAMP3            Hoteis e Restaurantes\n",
       "\n",
       "[547 rows x 2 columns]"
      ]
     },
     "execution_count": 4,
     "metadata": {},
     "output_type": "execute_result"
    }
   ],
   "source": [
    "acoes = pd.read_csv('https://raw.githubusercontent.com/jrodrigotico/python/projeto_acoes/base_completa_acoes_subsetor.csv', sep=';')[['Código','Subsetor Bovespa']]\n",
    "acoes"
   ]
  },
  {
   "cell_type": "code",
   "execution_count": 5,
   "metadata": {},
   "outputs": [
    {
     "data": {
      "text/plain": [
       "array(['Petróleo, Gás e Biocombustíveis', 'Agropecuária', 'Outros',\n",
       "       'Intermediários Financeiros', 'Máquinas e Equipamentos',\n",
       "       'Energia Elétrica', 'Previdência e Seguros', 'Transporte',\n",
       "       'Serviços Médico - Hospitalares, Análises e Diagnósticos',\n",
       "       'Comércio Varejista', 'Tecidos, Vestuário e Calçados',\n",
       "       'Construção Civil', 'Bebidas', 'Água e Saneamento', 'Diversos',\n",
       "       'Comércio e Distribuição', 'Serviços Diversos', 'Mineração',\n",
       "       'Construção e Engenharia', 'Serviços Financeiros Diversos',\n",
       "       'Equipamentos', 'Programas e Serviços', 'Viagens e Lazer',\n",
       "       'Medicamentos e Outros Produtos',\n",
       "       'Produtos de Cuidado Pessoal e de Limpeza',\n",
       "       'Exploração de Imóveis', 'Químicos', 'Alimentos Processados',\n",
       "       'Telecomunicações', nan, 'Gás', 'Madeira e Papel', 'Mídia',\n",
       "       'Comércio', 'Material de Transporte', 'Siderurgia e Metalurgia',\n",
       "       'Utilidades Domésticas', 'Hoteis e Restaurantes',\n",
       "       'Computadores e Equipamentos', 'Automóveis e Motocicletas',\n",
       "       'Embalagens', 'Holdings Diversificadas', 'Materiais Diversos'],\n",
       "      dtype=object)"
      ]
     },
     "execution_count": 5,
     "metadata": {},
     "output_type": "execute_result"
    }
   ],
   "source": [
    "acoes['Subsetor Bovespa'].unique()"
   ]
  }
 ],
 "metadata": {
  "kernelspec": {
   "display_name": "Python 3",
   "language": "python",
   "name": "python3"
  },
  "language_info": {
   "codemirror_mode": {
    "name": "ipython",
    "version": 3
   },
   "file_extension": ".py",
   "mimetype": "text/x-python",
   "name": "python",
   "nbconvert_exporter": "python",
   "pygments_lexer": "ipython3",
   "version": "3.11.4"
  }
 },
 "nbformat": 4,
 "nbformat_minor": 2
}
